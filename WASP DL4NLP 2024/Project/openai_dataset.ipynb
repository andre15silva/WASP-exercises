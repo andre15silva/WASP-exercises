{
 "cells": [
  {
   "cell_type": "code",
   "execution_count": 1,
   "metadata": {},
   "outputs": [],
   "source": [
    "from datasets import load_from_disk\n",
    "\n",
    "ds = load_from_disk(\"megadiff_sf_plus_dedup\")"
   ]
  },
  {
   "cell_type": "code",
   "execution_count": 2,
   "metadata": {},
   "outputs": [],
   "source": [
    "def format_openai(sample: dict) -> dict:\n",
    "    return {\n",
    "        \"openai_sample\": {\n",
    "            \"messages\": [\n",
    "                {\"role\": \"user\", \"content\": sample[\"prompt\"]},\n",
    "                {\"role\": \"assistant\", \"content\": sample[\"answer\"]}\n",
    "            ]\n",
    "        }\n",
    "    }"
   ]
  },
  {
   "cell_type": "code",
   "execution_count": 3,
   "metadata": {},
   "outputs": [],
   "source": [
    "openai_ds = ds.map(format_openai)"
   ]
  },
  {
   "cell_type": "code",
   "execution_count": 4,
   "metadata": {},
   "outputs": [],
   "source": [
    "openai_ds = openai_ds.train_test_split(test_size=0.02)"
   ]
  },
  {
   "cell_type": "code",
   "execution_count": 5,
   "metadata": {},
   "outputs": [],
   "source": [
    "import json\n",
    "\n",
    "# save dataset to jsonl\n",
    "with open(\"megadiff_sf_plus_dedup_openai_train.jsonl\", \"w\") as f:\n",
    "    for sample in openai_ds[\"train\"]:\n",
    "        f.write(json.dumps(sample[\"openai_sample\"]) + \"\\n\")\n",
    "\n",
    "with open(\"megadiff_sf_plus_dedup_openai_test.jsonl\", \"w\") as f:\n",
    "    for sample in openai_ds[\"test\"]:\n",
    "        f.write(json.dumps(sample[\"openai_sample\"]) + \"\\n\")"
   ]
  },
  {
   "cell_type": "code",
   "execution_count": null,
   "metadata": {},
   "outputs": [],
   "source": []
  }
 ],
 "metadata": {
  "kernelspec": {
   "display_name": ".venv",
   "language": "python",
   "name": "python3"
  },
  "language_info": {
   "codemirror_mode": {
    "name": "ipython",
    "version": 3
   },
   "file_extension": ".py",
   "mimetype": "text/x-python",
   "name": "python",
   "nbconvert_exporter": "python",
   "pygments_lexer": "ipython3",
   "version": "3.12.4"
  }
 },
 "nbformat": 4,
 "nbformat_minor": 2
}
