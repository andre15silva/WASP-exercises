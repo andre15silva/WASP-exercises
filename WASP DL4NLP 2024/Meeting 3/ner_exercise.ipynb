{
  "nbformat": 4,
  "nbformat_minor": 0,
  "metadata": {
    "kernelspec": {
      "display_name": "Python 3 (ipykernel)",
      "language": "python",
      "name": "python3"
    },
    "language_info": {
      "codemirror_mode": {
        "name": "ipython",
        "version": 3
      },
      "file_extension": ".py",
      "mimetype": "text/x-python",
      "name": "python",
      "nbconvert_exporter": "python",
      "pygments_lexer": "ipython3",
      "version": "3.9.5"
    },
    "colab": {
      "provenance": []
    },
    "accelerator": "GPU",
    "widgets": {
      "application/vnd.jupyter.widget-state+json": {
        "b434681317de419c97ac34b8b7b92c1e": {
          "model_module": "@jupyter-widgets/controls",
          "model_name": "HBoxModel",
          "model_module_version": "1.5.0",
          "state": {
            "_dom_classes": [],
            "_model_module": "@jupyter-widgets/controls",
            "_model_module_version": "1.5.0",
            "_model_name": "HBoxModel",
            "_view_count": null,
            "_view_module": "@jupyter-widgets/controls",
            "_view_module_version": "1.5.0",
            "_view_name": "HBoxView",
            "box_style": "",
            "children": [
              "IPY_MODEL_3ed63f0e16104d30b45c7cf63f388ff2",
              "IPY_MODEL_7ee0ce374c33417c8ca193f44b1351da",
              "IPY_MODEL_7963530fdd054c13a0a4b80873cd176b"
            ],
            "layout": "IPY_MODEL_2c5bc2b2b6b34198a6b1b68c92d56abb"
          }
        },
        "3ed63f0e16104d30b45c7cf63f388ff2": {
          "model_module": "@jupyter-widgets/controls",
          "model_name": "HTMLModel",
          "model_module_version": "1.5.0",
          "state": {
            "_dom_classes": [],
            "_model_module": "@jupyter-widgets/controls",
            "_model_module_version": "1.5.0",
            "_model_name": "HTMLModel",
            "_view_count": null,
            "_view_module": "@jupyter-widgets/controls",
            "_view_module_version": "1.5.0",
            "_view_name": "HTMLView",
            "description": "",
            "description_tooltip": null,
            "layout": "IPY_MODEL_719ee0939f28460a8bc1daad71b554da",
            "placeholder": "​",
            "style": "IPY_MODEL_6e2d773522b043c8a1fcab3161a58763",
            "value": "tokenizer_config.json: 100%"
          }
        },
        "7ee0ce374c33417c8ca193f44b1351da": {
          "model_module": "@jupyter-widgets/controls",
          "model_name": "FloatProgressModel",
          "model_module_version": "1.5.0",
          "state": {
            "_dom_classes": [],
            "_model_module": "@jupyter-widgets/controls",
            "_model_module_version": "1.5.0",
            "_model_name": "FloatProgressModel",
            "_view_count": null,
            "_view_module": "@jupyter-widgets/controls",
            "_view_module_version": "1.5.0",
            "_view_name": "ProgressView",
            "bar_style": "success",
            "description": "",
            "description_tooltip": null,
            "layout": "IPY_MODEL_17d4e99bbe3b4d0e8cce9d386fad9d13",
            "max": 49,
            "min": 0,
            "orientation": "horizontal",
            "style": "IPY_MODEL_45df553dec5d4aa396df475aca463ad7",
            "value": 49
          }
        },
        "7963530fdd054c13a0a4b80873cd176b": {
          "model_module": "@jupyter-widgets/controls",
          "model_name": "HTMLModel",
          "model_module_version": "1.5.0",
          "state": {
            "_dom_classes": [],
            "_model_module": "@jupyter-widgets/controls",
            "_model_module_version": "1.5.0",
            "_model_name": "HTMLModel",
            "_view_count": null,
            "_view_module": "@jupyter-widgets/controls",
            "_view_module_version": "1.5.0",
            "_view_name": "HTMLView",
            "description": "",
            "description_tooltip": null,
            "layout": "IPY_MODEL_a95aa022906a4ed798efb749fc660010",
            "placeholder": "​",
            "style": "IPY_MODEL_a13e56c272384b71ae95d78567eeae1d",
            "value": " 49.0/49.0 [00:00&lt;00:00, 3.00kB/s]"
          }
        },
        "2c5bc2b2b6b34198a6b1b68c92d56abb": {
          "model_module": "@jupyter-widgets/base",
          "model_name": "LayoutModel",
          "model_module_version": "1.2.0",
          "state": {
            "_model_module": "@jupyter-widgets/base",
            "_model_module_version": "1.2.0",
            "_model_name": "LayoutModel",
            "_view_count": null,
            "_view_module": "@jupyter-widgets/base",
            "_view_module_version": "1.2.0",
            "_view_name": "LayoutView",
            "align_content": null,
            "align_items": null,
            "align_self": null,
            "border": null,
            "bottom": null,
            "display": null,
            "flex": null,
            "flex_flow": null,
            "grid_area": null,
            "grid_auto_columns": null,
            "grid_auto_flow": null,
            "grid_auto_rows": null,
            "grid_column": null,
            "grid_gap": null,
            "grid_row": null,
            "grid_template_areas": null,
            "grid_template_columns": null,
            "grid_template_rows": null,
            "height": null,
            "justify_content": null,
            "justify_items": null,
            "left": null,
            "margin": null,
            "max_height": null,
            "max_width": null,
            "min_height": null,
            "min_width": null,
            "object_fit": null,
            "object_position": null,
            "order": null,
            "overflow": null,
            "overflow_x": null,
            "overflow_y": null,
            "padding": null,
            "right": null,
            "top": null,
            "visibility": null,
            "width": null
          }
        },
        "719ee0939f28460a8bc1daad71b554da": {
          "model_module": "@jupyter-widgets/base",
          "model_name": "LayoutModel",
          "model_module_version": "1.2.0",
          "state": {
            "_model_module": "@jupyter-widgets/base",
            "_model_module_version": "1.2.0",
            "_model_name": "LayoutModel",
            "_view_count": null,
            "_view_module": "@jupyter-widgets/base",
            "_view_module_version": "1.2.0",
            "_view_name": "LayoutView",
            "align_content": null,
            "align_items": null,
            "align_self": null,
            "border": null,
            "bottom": null,
            "display": null,
            "flex": null,
            "flex_flow": null,
            "grid_area": null,
            "grid_auto_columns": null,
            "grid_auto_flow": null,
            "grid_auto_rows": null,
            "grid_column": null,
            "grid_gap": null,
            "grid_row": null,
            "grid_template_areas": null,
            "grid_template_columns": null,
            "grid_template_rows": null,
            "height": null,
            "justify_content": null,
            "justify_items": null,
            "left": null,
            "margin": null,
            "max_height": null,
            "max_width": null,
            "min_height": null,
            "min_width": null,
            "object_fit": null,
            "object_position": null,
            "order": null,
            "overflow": null,
            "overflow_x": null,
            "overflow_y": null,
            "padding": null,
            "right": null,
            "top": null,
            "visibility": null,
            "width": null
          }
        },
        "6e2d773522b043c8a1fcab3161a58763": {
          "model_module": "@jupyter-widgets/controls",
          "model_name": "DescriptionStyleModel",
          "model_module_version": "1.5.0",
          "state": {
            "_model_module": "@jupyter-widgets/controls",
            "_model_module_version": "1.5.0",
            "_model_name": "DescriptionStyleModel",
            "_view_count": null,
            "_view_module": "@jupyter-widgets/base",
            "_view_module_version": "1.2.0",
            "_view_name": "StyleView",
            "description_width": ""
          }
        },
        "17d4e99bbe3b4d0e8cce9d386fad9d13": {
          "model_module": "@jupyter-widgets/base",
          "model_name": "LayoutModel",
          "model_module_version": "1.2.0",
          "state": {
            "_model_module": "@jupyter-widgets/base",
            "_model_module_version": "1.2.0",
            "_model_name": "LayoutModel",
            "_view_count": null,
            "_view_module": "@jupyter-widgets/base",
            "_view_module_version": "1.2.0",
            "_view_name": "LayoutView",
            "align_content": null,
            "align_items": null,
            "align_self": null,
            "border": null,
            "bottom": null,
            "display": null,
            "flex": null,
            "flex_flow": null,
            "grid_area": null,
            "grid_auto_columns": null,
            "grid_auto_flow": null,
            "grid_auto_rows": null,
            "grid_column": null,
            "grid_gap": null,
            "grid_row": null,
            "grid_template_areas": null,
            "grid_template_columns": null,
            "grid_template_rows": null,
            "height": null,
            "justify_content": null,
            "justify_items": null,
            "left": null,
            "margin": null,
            "max_height": null,
            "max_width": null,
            "min_height": null,
            "min_width": null,
            "object_fit": null,
            "object_position": null,
            "order": null,
            "overflow": null,
            "overflow_x": null,
            "overflow_y": null,
            "padding": null,
            "right": null,
            "top": null,
            "visibility": null,
            "width": null
          }
        },
        "45df553dec5d4aa396df475aca463ad7": {
          "model_module": "@jupyter-widgets/controls",
          "model_name": "ProgressStyleModel",
          "model_module_version": "1.5.0",
          "state": {
            "_model_module": "@jupyter-widgets/controls",
            "_model_module_version": "1.5.0",
            "_model_name": "ProgressStyleModel",
            "_view_count": null,
            "_view_module": "@jupyter-widgets/base",
            "_view_module_version": "1.2.0",
            "_view_name": "StyleView",
            "bar_color": null,
            "description_width": ""
          }
        },
        "a95aa022906a4ed798efb749fc660010": {
          "model_module": "@jupyter-widgets/base",
          "model_name": "LayoutModel",
          "model_module_version": "1.2.0",
          "state": {
            "_model_module": "@jupyter-widgets/base",
            "_model_module_version": "1.2.0",
            "_model_name": "LayoutModel",
            "_view_count": null,
            "_view_module": "@jupyter-widgets/base",
            "_view_module_version": "1.2.0",
            "_view_name": "LayoutView",
            "align_content": null,
            "align_items": null,
            "align_self": null,
            "border": null,
            "bottom": null,
            "display": null,
            "flex": null,
            "flex_flow": null,
            "grid_area": null,
            "grid_auto_columns": null,
            "grid_auto_flow": null,
            "grid_auto_rows": null,
            "grid_column": null,
            "grid_gap": null,
            "grid_row": null,
            "grid_template_areas": null,
            "grid_template_columns": null,
            "grid_template_rows": null,
            "height": null,
            "justify_content": null,
            "justify_items": null,
            "left": null,
            "margin": null,
            "max_height": null,
            "max_width": null,
            "min_height": null,
            "min_width": null,
            "object_fit": null,
            "object_position": null,
            "order": null,
            "overflow": null,
            "overflow_x": null,
            "overflow_y": null,
            "padding": null,
            "right": null,
            "top": null,
            "visibility": null,
            "width": null
          }
        },
        "a13e56c272384b71ae95d78567eeae1d": {
          "model_module": "@jupyter-widgets/controls",
          "model_name": "DescriptionStyleModel",
          "model_module_version": "1.5.0",
          "state": {
            "_model_module": "@jupyter-widgets/controls",
            "_model_module_version": "1.5.0",
            "_model_name": "DescriptionStyleModel",
            "_view_count": null,
            "_view_module": "@jupyter-widgets/base",
            "_view_module_version": "1.2.0",
            "_view_name": "StyleView",
            "description_width": ""
          }
        },
        "9034f7f2554a4f2cb4cfc697e348088d": {
          "model_module": "@jupyter-widgets/controls",
          "model_name": "HBoxModel",
          "model_module_version": "1.5.0",
          "state": {
            "_dom_classes": [],
            "_model_module": "@jupyter-widgets/controls",
            "_model_module_version": "1.5.0",
            "_model_name": "HBoxModel",
            "_view_count": null,
            "_view_module": "@jupyter-widgets/controls",
            "_view_module_version": "1.5.0",
            "_view_name": "HBoxView",
            "box_style": "",
            "children": [
              "IPY_MODEL_8e950a7bc3214aa88dd091bd1d54f0fb",
              "IPY_MODEL_6f085f9bf5de46dd8c08337067e71283",
              "IPY_MODEL_04987f7ce73f494686dbf153e5090b83"
            ],
            "layout": "IPY_MODEL_e20a153f29b44735ac6d12617167bf82"
          }
        },
        "8e950a7bc3214aa88dd091bd1d54f0fb": {
          "model_module": "@jupyter-widgets/controls",
          "model_name": "HTMLModel",
          "model_module_version": "1.5.0",
          "state": {
            "_dom_classes": [],
            "_model_module": "@jupyter-widgets/controls",
            "_model_module_version": "1.5.0",
            "_model_name": "HTMLModel",
            "_view_count": null,
            "_view_module": "@jupyter-widgets/controls",
            "_view_module_version": "1.5.0",
            "_view_name": "HTMLView",
            "description": "",
            "description_tooltip": null,
            "layout": "IPY_MODEL_50e119d8ea9e4748a6bd84e24ff91027",
            "placeholder": "​",
            "style": "IPY_MODEL_80c49ac14be34e31829ebb8839c3375e",
            "value": "config.json: 100%"
          }
        },
        "6f085f9bf5de46dd8c08337067e71283": {
          "model_module": "@jupyter-widgets/controls",
          "model_name": "FloatProgressModel",
          "model_module_version": "1.5.0",
          "state": {
            "_dom_classes": [],
            "_model_module": "@jupyter-widgets/controls",
            "_model_module_version": "1.5.0",
            "_model_name": "FloatProgressModel",
            "_view_count": null,
            "_view_module": "@jupyter-widgets/controls",
            "_view_module_version": "1.5.0",
            "_view_name": "ProgressView",
            "bar_style": "success",
            "description": "",
            "description_tooltip": null,
            "layout": "IPY_MODEL_beb095134f18423ea42912010f5eea3b",
            "max": 462,
            "min": 0,
            "orientation": "horizontal",
            "style": "IPY_MODEL_33a3038ca5b54a54abba30eb13150506",
            "value": 462
          }
        },
        "04987f7ce73f494686dbf153e5090b83": {
          "model_module": "@jupyter-widgets/controls",
          "model_name": "HTMLModel",
          "model_module_version": "1.5.0",
          "state": {
            "_dom_classes": [],
            "_model_module": "@jupyter-widgets/controls",
            "_model_module_version": "1.5.0",
            "_model_name": "HTMLModel",
            "_view_count": null,
            "_view_module": "@jupyter-widgets/controls",
            "_view_module_version": "1.5.0",
            "_view_name": "HTMLView",
            "description": "",
            "description_tooltip": null,
            "layout": "IPY_MODEL_5b5a7f462c5b45339ffef76b9e7c5696",
            "placeholder": "​",
            "style": "IPY_MODEL_c786397ea09d42cb9476d8ac6ff09f7b",
            "value": " 462/462 [00:00&lt;00:00, 29.4kB/s]"
          }
        },
        "e20a153f29b44735ac6d12617167bf82": {
          "model_module": "@jupyter-widgets/base",
          "model_name": "LayoutModel",
          "model_module_version": "1.2.0",
          "state": {
            "_model_module": "@jupyter-widgets/base",
            "_model_module_version": "1.2.0",
            "_model_name": "LayoutModel",
            "_view_count": null,
            "_view_module": "@jupyter-widgets/base",
            "_view_module_version": "1.2.0",
            "_view_name": "LayoutView",
            "align_content": null,
            "align_items": null,
            "align_self": null,
            "border": null,
            "bottom": null,
            "display": null,
            "flex": null,
            "flex_flow": null,
            "grid_area": null,
            "grid_auto_columns": null,
            "grid_auto_flow": null,
            "grid_auto_rows": null,
            "grid_column": null,
            "grid_gap": null,
            "grid_row": null,
            "grid_template_areas": null,
            "grid_template_columns": null,
            "grid_template_rows": null,
            "height": null,
            "justify_content": null,
            "justify_items": null,
            "left": null,
            "margin": null,
            "max_height": null,
            "max_width": null,
            "min_height": null,
            "min_width": null,
            "object_fit": null,
            "object_position": null,
            "order": null,
            "overflow": null,
            "overflow_x": null,
            "overflow_y": null,
            "padding": null,
            "right": null,
            "top": null,
            "visibility": null,
            "width": null
          }
        },
        "50e119d8ea9e4748a6bd84e24ff91027": {
          "model_module": "@jupyter-widgets/base",
          "model_name": "LayoutModel",
          "model_module_version": "1.2.0",
          "state": {
            "_model_module": "@jupyter-widgets/base",
            "_model_module_version": "1.2.0",
            "_model_name": "LayoutModel",
            "_view_count": null,
            "_view_module": "@jupyter-widgets/base",
            "_view_module_version": "1.2.0",
            "_view_name": "LayoutView",
            "align_content": null,
            "align_items": null,
            "align_self": null,
            "border": null,
            "bottom": null,
            "display": null,
            "flex": null,
            "flex_flow": null,
            "grid_area": null,
            "grid_auto_columns": null,
            "grid_auto_flow": null,
            "grid_auto_rows": null,
            "grid_column": null,
            "grid_gap": null,
            "grid_row": null,
            "grid_template_areas": null,
            "grid_template_columns": null,
            "grid_template_rows": null,
            "height": null,
            "justify_content": null,
            "justify_items": null,
            "left": null,
            "margin": null,
            "max_height": null,
            "max_width": null,
            "min_height": null,
            "min_width": null,
            "object_fit": null,
            "object_position": null,
            "order": null,
            "overflow": null,
            "overflow_x": null,
            "overflow_y": null,
            "padding": null,
            "right": null,
            "top": null,
            "visibility": null,
            "width": null
          }
        },
        "80c49ac14be34e31829ebb8839c3375e": {
          "model_module": "@jupyter-widgets/controls",
          "model_name": "DescriptionStyleModel",
          "model_module_version": "1.5.0",
          "state": {
            "_model_module": "@jupyter-widgets/controls",
            "_model_module_version": "1.5.0",
            "_model_name": "DescriptionStyleModel",
            "_view_count": null,
            "_view_module": "@jupyter-widgets/base",
            "_view_module_version": "1.2.0",
            "_view_name": "StyleView",
            "description_width": ""
          }
        },
        "beb095134f18423ea42912010f5eea3b": {
          "model_module": "@jupyter-widgets/base",
          "model_name": "LayoutModel",
          "model_module_version": "1.2.0",
          "state": {
            "_model_module": "@jupyter-widgets/base",
            "_model_module_version": "1.2.0",
            "_model_name": "LayoutModel",
            "_view_count": null,
            "_view_module": "@jupyter-widgets/base",
            "_view_module_version": "1.2.0",
            "_view_name": "LayoutView",
            "align_content": null,
            "align_items": null,
            "align_self": null,
            "border": null,
            "bottom": null,
            "display": null,
            "flex": null,
            "flex_flow": null,
            "grid_area": null,
            "grid_auto_columns": null,
            "grid_auto_flow": null,
            "grid_auto_rows": null,
            "grid_column": null,
            "grid_gap": null,
            "grid_row": null,
            "grid_template_areas": null,
            "grid_template_columns": null,
            "grid_template_rows": null,
            "height": null,
            "justify_content": null,
            "justify_items": null,
            "left": null,
            "margin": null,
            "max_height": null,
            "max_width": null,
            "min_height": null,
            "min_width": null,
            "object_fit": null,
            "object_position": null,
            "order": null,
            "overflow": null,
            "overflow_x": null,
            "overflow_y": null,
            "padding": null,
            "right": null,
            "top": null,
            "visibility": null,
            "width": null
          }
        },
        "33a3038ca5b54a54abba30eb13150506": {
          "model_module": "@jupyter-widgets/controls",
          "model_name": "ProgressStyleModel",
          "model_module_version": "1.5.0",
          "state": {
            "_model_module": "@jupyter-widgets/controls",
            "_model_module_version": "1.5.0",
            "_model_name": "ProgressStyleModel",
            "_view_count": null,
            "_view_module": "@jupyter-widgets/base",
            "_view_module_version": "1.2.0",
            "_view_name": "StyleView",
            "bar_color": null,
            "description_width": ""
          }
        },
        "5b5a7f462c5b45339ffef76b9e7c5696": {
          "model_module": "@jupyter-widgets/base",
          "model_name": "LayoutModel",
          "model_module_version": "1.2.0",
          "state": {
            "_model_module": "@jupyter-widgets/base",
            "_model_module_version": "1.2.0",
            "_model_name": "LayoutModel",
            "_view_count": null,
            "_view_module": "@jupyter-widgets/base",
            "_view_module_version": "1.2.0",
            "_view_name": "LayoutView",
            "align_content": null,
            "align_items": null,
            "align_self": null,
            "border": null,
            "bottom": null,
            "display": null,
            "flex": null,
            "flex_flow": null,
            "grid_area": null,
            "grid_auto_columns": null,
            "grid_auto_flow": null,
            "grid_auto_rows": null,
            "grid_column": null,
            "grid_gap": null,
            "grid_row": null,
            "grid_template_areas": null,
            "grid_template_columns": null,
            "grid_template_rows": null,
            "height": null,
            "justify_content": null,
            "justify_items": null,
            "left": null,
            "margin": null,
            "max_height": null,
            "max_width": null,
            "min_height": null,
            "min_width": null,
            "object_fit": null,
            "object_position": null,
            "order": null,
            "overflow": null,
            "overflow_x": null,
            "overflow_y": null,
            "padding": null,
            "right": null,
            "top": null,
            "visibility": null,
            "width": null
          }
        },
        "c786397ea09d42cb9476d8ac6ff09f7b": {
          "model_module": "@jupyter-widgets/controls",
          "model_name": "DescriptionStyleModel",
          "model_module_version": "1.5.0",
          "state": {
            "_model_module": "@jupyter-widgets/controls",
            "_model_module_version": "1.5.0",
            "_model_name": "DescriptionStyleModel",
            "_view_count": null,
            "_view_module": "@jupyter-widgets/base",
            "_view_module_version": "1.2.0",
            "_view_name": "StyleView",
            "description_width": ""
          }
        },
        "8c602260ffd944bfbcf135e1ba8d3ba3": {
          "model_module": "@jupyter-widgets/controls",
          "model_name": "HBoxModel",
          "model_module_version": "1.5.0",
          "state": {
            "_dom_classes": [],
            "_model_module": "@jupyter-widgets/controls",
            "_model_module_version": "1.5.0",
            "_model_name": "HBoxModel",
            "_view_count": null,
            "_view_module": "@jupyter-widgets/controls",
            "_view_module_version": "1.5.0",
            "_view_name": "HBoxView",
            "box_style": "",
            "children": [
              "IPY_MODEL_6fbfb82efcd34a90bb4307592ea7b17a",
              "IPY_MODEL_e2698e2dde2241368e6a6f2b6fb6abb7",
              "IPY_MODEL_60ee046f6ca54fe1b49179f8bb0a8e3a"
            ],
            "layout": "IPY_MODEL_c2c31911db0f48c5ad002d5a9e472940"
          }
        },
        "6fbfb82efcd34a90bb4307592ea7b17a": {
          "model_module": "@jupyter-widgets/controls",
          "model_name": "HTMLModel",
          "model_module_version": "1.5.0",
          "state": {
            "_dom_classes": [],
            "_model_module": "@jupyter-widgets/controls",
            "_model_module_version": "1.5.0",
            "_model_name": "HTMLModel",
            "_view_count": null,
            "_view_module": "@jupyter-widgets/controls",
            "_view_module_version": "1.5.0",
            "_view_name": "HTMLView",
            "description": "",
            "description_tooltip": null,
            "layout": "IPY_MODEL_f09c181bdc2d48fe86e235442f718a92",
            "placeholder": "​",
            "style": "IPY_MODEL_d36c4e27085742749d42a8f5461d3f73",
            "value": "vocab.txt: 100%"
          }
        },
        "e2698e2dde2241368e6a6f2b6fb6abb7": {
          "model_module": "@jupyter-widgets/controls",
          "model_name": "FloatProgressModel",
          "model_module_version": "1.5.0",
          "state": {
            "_dom_classes": [],
            "_model_module": "@jupyter-widgets/controls",
            "_model_module_version": "1.5.0",
            "_model_name": "FloatProgressModel",
            "_view_count": null,
            "_view_module": "@jupyter-widgets/controls",
            "_view_module_version": "1.5.0",
            "_view_name": "ProgressView",
            "bar_style": "success",
            "description": "",
            "description_tooltip": null,
            "layout": "IPY_MODEL_988f0406651844358e01562e0686370c",
            "max": 213450,
            "min": 0,
            "orientation": "horizontal",
            "style": "IPY_MODEL_6130c22ec38f4486823d68d04d204cd7",
            "value": 213450
          }
        },
        "60ee046f6ca54fe1b49179f8bb0a8e3a": {
          "model_module": "@jupyter-widgets/controls",
          "model_name": "HTMLModel",
          "model_module_version": "1.5.0",
          "state": {
            "_dom_classes": [],
            "_model_module": "@jupyter-widgets/controls",
            "_model_module_version": "1.5.0",
            "_model_name": "HTMLModel",
            "_view_count": null,
            "_view_module": "@jupyter-widgets/controls",
            "_view_module_version": "1.5.0",
            "_view_name": "HTMLView",
            "description": "",
            "description_tooltip": null,
            "layout": "IPY_MODEL_d3407aab8b134af89043655456525119",
            "placeholder": "​",
            "style": "IPY_MODEL_f467fd0395aa406187a66021de3241b5",
            "value": " 213k/213k [00:00&lt;00:00, 8.44MB/s]"
          }
        },
        "c2c31911db0f48c5ad002d5a9e472940": {
          "model_module": "@jupyter-widgets/base",
          "model_name": "LayoutModel",
          "model_module_version": "1.2.0",
          "state": {
            "_model_module": "@jupyter-widgets/base",
            "_model_module_version": "1.2.0",
            "_model_name": "LayoutModel",
            "_view_count": null,
            "_view_module": "@jupyter-widgets/base",
            "_view_module_version": "1.2.0",
            "_view_name": "LayoutView",
            "align_content": null,
            "align_items": null,
            "align_self": null,
            "border": null,
            "bottom": null,
            "display": null,
            "flex": null,
            "flex_flow": null,
            "grid_area": null,
            "grid_auto_columns": null,
            "grid_auto_flow": null,
            "grid_auto_rows": null,
            "grid_column": null,
            "grid_gap": null,
            "grid_row": null,
            "grid_template_areas": null,
            "grid_template_columns": null,
            "grid_template_rows": null,
            "height": null,
            "justify_content": null,
            "justify_items": null,
            "left": null,
            "margin": null,
            "max_height": null,
            "max_width": null,
            "min_height": null,
            "min_width": null,
            "object_fit": null,
            "object_position": null,
            "order": null,
            "overflow": null,
            "overflow_x": null,
            "overflow_y": null,
            "padding": null,
            "right": null,
            "top": null,
            "visibility": null,
            "width": null
          }
        },
        "f09c181bdc2d48fe86e235442f718a92": {
          "model_module": "@jupyter-widgets/base",
          "model_name": "LayoutModel",
          "model_module_version": "1.2.0",
          "state": {
            "_model_module": "@jupyter-widgets/base",
            "_model_module_version": "1.2.0",
            "_model_name": "LayoutModel",
            "_view_count": null,
            "_view_module": "@jupyter-widgets/base",
            "_view_module_version": "1.2.0",
            "_view_name": "LayoutView",
            "align_content": null,
            "align_items": null,
            "align_self": null,
            "border": null,
            "bottom": null,
            "display": null,
            "flex": null,
            "flex_flow": null,
            "grid_area": null,
            "grid_auto_columns": null,
            "grid_auto_flow": null,
            "grid_auto_rows": null,
            "grid_column": null,
            "grid_gap": null,
            "grid_row": null,
            "grid_template_areas": null,
            "grid_template_columns": null,
            "grid_template_rows": null,
            "height": null,
            "justify_content": null,
            "justify_items": null,
            "left": null,
            "margin": null,
            "max_height": null,
            "max_width": null,
            "min_height": null,
            "min_width": null,
            "object_fit": null,
            "object_position": null,
            "order": null,
            "overflow": null,
            "overflow_x": null,
            "overflow_y": null,
            "padding": null,
            "right": null,
            "top": null,
            "visibility": null,
            "width": null
          }
        },
        "d36c4e27085742749d42a8f5461d3f73": {
          "model_module": "@jupyter-widgets/controls",
          "model_name": "DescriptionStyleModel",
          "model_module_version": "1.5.0",
          "state": {
            "_model_module": "@jupyter-widgets/controls",
            "_model_module_version": "1.5.0",
            "_model_name": "DescriptionStyleModel",
            "_view_count": null,
            "_view_module": "@jupyter-widgets/base",
            "_view_module_version": "1.2.0",
            "_view_name": "StyleView",
            "description_width": ""
          }
        },
        "988f0406651844358e01562e0686370c": {
          "model_module": "@jupyter-widgets/base",
          "model_name": "LayoutModel",
          "model_module_version": "1.2.0",
          "state": {
            "_model_module": "@jupyter-widgets/base",
            "_model_module_version": "1.2.0",
            "_model_name": "LayoutModel",
            "_view_count": null,
            "_view_module": "@jupyter-widgets/base",
            "_view_module_version": "1.2.0",
            "_view_name": "LayoutView",
            "align_content": null,
            "align_items": null,
            "align_self": null,
            "border": null,
            "bottom": null,
            "display": null,
            "flex": null,
            "flex_flow": null,
            "grid_area": null,
            "grid_auto_columns": null,
            "grid_auto_flow": null,
            "grid_auto_rows": null,
            "grid_column": null,
            "grid_gap": null,
            "grid_row": null,
            "grid_template_areas": null,
            "grid_template_columns": null,
            "grid_template_rows": null,
            "height": null,
            "justify_content": null,
            "justify_items": null,
            "left": null,
            "margin": null,
            "max_height": null,
            "max_width": null,
            "min_height": null,
            "min_width": null,
            "object_fit": null,
            "object_position": null,
            "order": null,
            "overflow": null,
            "overflow_x": null,
            "overflow_y": null,
            "padding": null,
            "right": null,
            "top": null,
            "visibility": null,
            "width": null
          }
        },
        "6130c22ec38f4486823d68d04d204cd7": {
          "model_module": "@jupyter-widgets/controls",
          "model_name": "ProgressStyleModel",
          "model_module_version": "1.5.0",
          "state": {
            "_model_module": "@jupyter-widgets/controls",
            "_model_module_version": "1.5.0",
            "_model_name": "ProgressStyleModel",
            "_view_count": null,
            "_view_module": "@jupyter-widgets/base",
            "_view_module_version": "1.2.0",
            "_view_name": "StyleView",
            "bar_color": null,
            "description_width": ""
          }
        },
        "d3407aab8b134af89043655456525119": {
          "model_module": "@jupyter-widgets/base",
          "model_name": "LayoutModel",
          "model_module_version": "1.2.0",
          "state": {
            "_model_module": "@jupyter-widgets/base",
            "_model_module_version": "1.2.0",
            "_model_name": "LayoutModel",
            "_view_count": null,
            "_view_module": "@jupyter-widgets/base",
            "_view_module_version": "1.2.0",
            "_view_name": "LayoutView",
            "align_content": null,
            "align_items": null,
            "align_self": null,
            "border": null,
            "bottom": null,
            "display": null,
            "flex": null,
            "flex_flow": null,
            "grid_area": null,
            "grid_auto_columns": null,
            "grid_auto_flow": null,
            "grid_auto_rows": null,
            "grid_column": null,
            "grid_gap": null,
            "grid_row": null,
            "grid_template_areas": null,
            "grid_template_columns": null,
            "grid_template_rows": null,
            "height": null,
            "justify_content": null,
            "justify_items": null,
            "left": null,
            "margin": null,
            "max_height": null,
            "max_width": null,
            "min_height": null,
            "min_width": null,
            "object_fit": null,
            "object_position": null,
            "order": null,
            "overflow": null,
            "overflow_x": null,
            "overflow_y": null,
            "padding": null,
            "right": null,
            "top": null,
            "visibility": null,
            "width": null
          }
        },
        "f467fd0395aa406187a66021de3241b5": {
          "model_module": "@jupyter-widgets/controls",
          "model_name": "DescriptionStyleModel",
          "model_module_version": "1.5.0",
          "state": {
            "_model_module": "@jupyter-widgets/controls",
            "_model_module_version": "1.5.0",
            "_model_name": "DescriptionStyleModel",
            "_view_count": null,
            "_view_module": "@jupyter-widgets/base",
            "_view_module_version": "1.2.0",
            "_view_name": "StyleView",
            "description_width": ""
          }
        },
        "dce62fa2f8374485996cd6be640ff4ab": {
          "model_module": "@jupyter-widgets/controls",
          "model_name": "HBoxModel",
          "model_module_version": "1.5.0",
          "state": {
            "_dom_classes": [],
            "_model_module": "@jupyter-widgets/controls",
            "_model_module_version": "1.5.0",
            "_model_name": "HBoxModel",
            "_view_count": null,
            "_view_module": "@jupyter-widgets/controls",
            "_view_module_version": "1.5.0",
            "_view_name": "HBoxView",
            "box_style": "",
            "children": [
              "IPY_MODEL_d36ff43fda4443829871aff50efaa7a5",
              "IPY_MODEL_5fd5b4c4638949e19b91d63d46d27a89",
              "IPY_MODEL_4a68b4cddcb84f349369fe7e01a81d78"
            ],
            "layout": "IPY_MODEL_351993c87e1543768fc267652788d012"
          }
        },
        "d36ff43fda4443829871aff50efaa7a5": {
          "model_module": "@jupyter-widgets/controls",
          "model_name": "HTMLModel",
          "model_module_version": "1.5.0",
          "state": {
            "_dom_classes": [],
            "_model_module": "@jupyter-widgets/controls",
            "_model_module_version": "1.5.0",
            "_model_name": "HTMLModel",
            "_view_count": null,
            "_view_module": "@jupyter-widgets/controls",
            "_view_module_version": "1.5.0",
            "_view_name": "HTMLView",
            "description": "",
            "description_tooltip": null,
            "layout": "IPY_MODEL_4218552e0a5b47598ea325e8ec38f1bd",
            "placeholder": "​",
            "style": "IPY_MODEL_c0029ad0f0a64881ae6b578470a11654",
            "value": "special_tokens_map.json: 100%"
          }
        },
        "5fd5b4c4638949e19b91d63d46d27a89": {
          "model_module": "@jupyter-widgets/controls",
          "model_name": "FloatProgressModel",
          "model_module_version": "1.5.0",
          "state": {
            "_dom_classes": [],
            "_model_module": "@jupyter-widgets/controls",
            "_model_module_version": "1.5.0",
            "_model_name": "FloatProgressModel",
            "_view_count": null,
            "_view_module": "@jupyter-widgets/controls",
            "_view_module_version": "1.5.0",
            "_view_name": "ProgressView",
            "bar_style": "success",
            "description": "",
            "description_tooltip": null,
            "layout": "IPY_MODEL_4efccae304a24297b40dce64ee9b3401",
            "max": 112,
            "min": 0,
            "orientation": "horizontal",
            "style": "IPY_MODEL_31abfa42b857433297dbc05b0e2be87e",
            "value": 112
          }
        },
        "4a68b4cddcb84f349369fe7e01a81d78": {
          "model_module": "@jupyter-widgets/controls",
          "model_name": "HTMLModel",
          "model_module_version": "1.5.0",
          "state": {
            "_dom_classes": [],
            "_model_module": "@jupyter-widgets/controls",
            "_model_module_version": "1.5.0",
            "_model_name": "HTMLModel",
            "_view_count": null,
            "_view_module": "@jupyter-widgets/controls",
            "_view_module_version": "1.5.0",
            "_view_name": "HTMLView",
            "description": "",
            "description_tooltip": null,
            "layout": "IPY_MODEL_f776207d6feb470c94e63d2f84486c63",
            "placeholder": "​",
            "style": "IPY_MODEL_cb04017e03a74cc291a349ff157dfa59",
            "value": " 112/112 [00:00&lt;00:00, 6.79kB/s]"
          }
        },
        "351993c87e1543768fc267652788d012": {
          "model_module": "@jupyter-widgets/base",
          "model_name": "LayoutModel",
          "model_module_version": "1.2.0",
          "state": {
            "_model_module": "@jupyter-widgets/base",
            "_model_module_version": "1.2.0",
            "_model_name": "LayoutModel",
            "_view_count": null,
            "_view_module": "@jupyter-widgets/base",
            "_view_module_version": "1.2.0",
            "_view_name": "LayoutView",
            "align_content": null,
            "align_items": null,
            "align_self": null,
            "border": null,
            "bottom": null,
            "display": null,
            "flex": null,
            "flex_flow": null,
            "grid_area": null,
            "grid_auto_columns": null,
            "grid_auto_flow": null,
            "grid_auto_rows": null,
            "grid_column": null,
            "grid_gap": null,
            "grid_row": null,
            "grid_template_areas": null,
            "grid_template_columns": null,
            "grid_template_rows": null,
            "height": null,
            "justify_content": null,
            "justify_items": null,
            "left": null,
            "margin": null,
            "max_height": null,
            "max_width": null,
            "min_height": null,
            "min_width": null,
            "object_fit": null,
            "object_position": null,
            "order": null,
            "overflow": null,
            "overflow_x": null,
            "overflow_y": null,
            "padding": null,
            "right": null,
            "top": null,
            "visibility": null,
            "width": null
          }
        },
        "4218552e0a5b47598ea325e8ec38f1bd": {
          "model_module": "@jupyter-widgets/base",
          "model_name": "LayoutModel",
          "model_module_version": "1.2.0",
          "state": {
            "_model_module": "@jupyter-widgets/base",
            "_model_module_version": "1.2.0",
            "_model_name": "LayoutModel",
            "_view_count": null,
            "_view_module": "@jupyter-widgets/base",
            "_view_module_version": "1.2.0",
            "_view_name": "LayoutView",
            "align_content": null,
            "align_items": null,
            "align_self": null,
            "border": null,
            "bottom": null,
            "display": null,
            "flex": null,
            "flex_flow": null,
            "grid_area": null,
            "grid_auto_columns": null,
            "grid_auto_flow": null,
            "grid_auto_rows": null,
            "grid_column": null,
            "grid_gap": null,
            "grid_row": null,
            "grid_template_areas": null,
            "grid_template_columns": null,
            "grid_template_rows": null,
            "height": null,
            "justify_content": null,
            "justify_items": null,
            "left": null,
            "margin": null,
            "max_height": null,
            "max_width": null,
            "min_height": null,
            "min_width": null,
            "object_fit": null,
            "object_position": null,
            "order": null,
            "overflow": null,
            "overflow_x": null,
            "overflow_y": null,
            "padding": null,
            "right": null,
            "top": null,
            "visibility": null,
            "width": null
          }
        },
        "c0029ad0f0a64881ae6b578470a11654": {
          "model_module": "@jupyter-widgets/controls",
          "model_name": "DescriptionStyleModel",
          "model_module_version": "1.5.0",
          "state": {
            "_model_module": "@jupyter-widgets/controls",
            "_model_module_version": "1.5.0",
            "_model_name": "DescriptionStyleModel",
            "_view_count": null,
            "_view_module": "@jupyter-widgets/base",
            "_view_module_version": "1.2.0",
            "_view_name": "StyleView",
            "description_width": ""
          }
        },
        "4efccae304a24297b40dce64ee9b3401": {
          "model_module": "@jupyter-widgets/base",
          "model_name": "LayoutModel",
          "model_module_version": "1.2.0",
          "state": {
            "_model_module": "@jupyter-widgets/base",
            "_model_module_version": "1.2.0",
            "_model_name": "LayoutModel",
            "_view_count": null,
            "_view_module": "@jupyter-widgets/base",
            "_view_module_version": "1.2.0",
            "_view_name": "LayoutView",
            "align_content": null,
            "align_items": null,
            "align_self": null,
            "border": null,
            "bottom": null,
            "display": null,
            "flex": null,
            "flex_flow": null,
            "grid_area": null,
            "grid_auto_columns": null,
            "grid_auto_flow": null,
            "grid_auto_rows": null,
            "grid_column": null,
            "grid_gap": null,
            "grid_row": null,
            "grid_template_areas": null,
            "grid_template_columns": null,
            "grid_template_rows": null,
            "height": null,
            "justify_content": null,
            "justify_items": null,
            "left": null,
            "margin": null,
            "max_height": null,
            "max_width": null,
            "min_height": null,
            "min_width": null,
            "object_fit": null,
            "object_position": null,
            "order": null,
            "overflow": null,
            "overflow_x": null,
            "overflow_y": null,
            "padding": null,
            "right": null,
            "top": null,
            "visibility": null,
            "width": null
          }
        },
        "31abfa42b857433297dbc05b0e2be87e": {
          "model_module": "@jupyter-widgets/controls",
          "model_name": "ProgressStyleModel",
          "model_module_version": "1.5.0",
          "state": {
            "_model_module": "@jupyter-widgets/controls",
            "_model_module_version": "1.5.0",
            "_model_name": "ProgressStyleModel",
            "_view_count": null,
            "_view_module": "@jupyter-widgets/base",
            "_view_module_version": "1.2.0",
            "_view_name": "StyleView",
            "bar_color": null,
            "description_width": ""
          }
        },
        "f776207d6feb470c94e63d2f84486c63": {
          "model_module": "@jupyter-widgets/base",
          "model_name": "LayoutModel",
          "model_module_version": "1.2.0",
          "state": {
            "_model_module": "@jupyter-widgets/base",
            "_model_module_version": "1.2.0",
            "_model_name": "LayoutModel",
            "_view_count": null,
            "_view_module": "@jupyter-widgets/base",
            "_view_module_version": "1.2.0",
            "_view_name": "LayoutView",
            "align_content": null,
            "align_items": null,
            "align_self": null,
            "border": null,
            "bottom": null,
            "display": null,
            "flex": null,
            "flex_flow": null,
            "grid_area": null,
            "grid_auto_columns": null,
            "grid_auto_flow": null,
            "grid_auto_rows": null,
            "grid_column": null,
            "grid_gap": null,
            "grid_row": null,
            "grid_template_areas": null,
            "grid_template_columns": null,
            "grid_template_rows": null,
            "height": null,
            "justify_content": null,
            "justify_items": null,
            "left": null,
            "margin": null,
            "max_height": null,
            "max_width": null,
            "min_height": null,
            "min_width": null,
            "object_fit": null,
            "object_position": null,
            "order": null,
            "overflow": null,
            "overflow_x": null,
            "overflow_y": null,
            "padding": null,
            "right": null,
            "top": null,
            "visibility": null,
            "width": null
          }
        },
        "cb04017e03a74cc291a349ff157dfa59": {
          "model_module": "@jupyter-widgets/controls",
          "model_name": "DescriptionStyleModel",
          "model_module_version": "1.5.0",
          "state": {
            "_model_module": "@jupyter-widgets/controls",
            "_model_module_version": "1.5.0",
            "_model_name": "DescriptionStyleModel",
            "_view_count": null,
            "_view_module": "@jupyter-widgets/base",
            "_view_module_version": "1.2.0",
            "_view_name": "StyleView",
            "description_width": ""
          }
        },
        "97b9c20aed124142869a628ab03080d1": {
          "model_module": "@jupyter-widgets/controls",
          "model_name": "HBoxModel",
          "model_module_version": "1.5.0",
          "state": {
            "_dom_classes": [],
            "_model_module": "@jupyter-widgets/controls",
            "_model_module_version": "1.5.0",
            "_model_name": "HBoxModel",
            "_view_count": null,
            "_view_module": "@jupyter-widgets/controls",
            "_view_module_version": "1.5.0",
            "_view_name": "HBoxView",
            "box_style": "",
            "children": [
              "IPY_MODEL_2b23c97831c94a17bf1b9f880d38a0f4",
              "IPY_MODEL_2f42c927d62d49e19047a55e918810e2",
              "IPY_MODEL_63f790a74f924414bfd59988bcca9436"
            ],
            "layout": "IPY_MODEL_0a89ee35941b45c28f9b7b6b96ca974d"
          }
        },
        "2b23c97831c94a17bf1b9f880d38a0f4": {
          "model_module": "@jupyter-widgets/controls",
          "model_name": "HTMLModel",
          "model_module_version": "1.5.0",
          "state": {
            "_dom_classes": [],
            "_model_module": "@jupyter-widgets/controls",
            "_model_module_version": "1.5.0",
            "_model_name": "HTMLModel",
            "_view_count": null,
            "_view_module": "@jupyter-widgets/controls",
            "_view_module_version": "1.5.0",
            "_view_name": "HTMLView",
            "description": "",
            "description_tooltip": null,
            "layout": "IPY_MODEL_c0c061aeb20a4ef3ab4a32e5aeb4911e",
            "placeholder": "​",
            "style": "IPY_MODEL_5f309138793b4a62bab63796641d37c8",
            "value": "pytorch_model.bin: 100%"
          }
        },
        "2f42c927d62d49e19047a55e918810e2": {
          "model_module": "@jupyter-widgets/controls",
          "model_name": "FloatProgressModel",
          "model_module_version": "1.5.0",
          "state": {
            "_dom_classes": [],
            "_model_module": "@jupyter-widgets/controls",
            "_model_module_version": "1.5.0",
            "_model_name": "FloatProgressModel",
            "_view_count": null,
            "_view_module": "@jupyter-widgets/controls",
            "_view_module_version": "1.5.0",
            "_view_name": "ProgressView",
            "bar_style": "success",
            "description": "",
            "description_tooltip": null,
            "layout": "IPY_MODEL_794099e3d6084057b498583f1e3155f5",
            "max": 433286112,
            "min": 0,
            "orientation": "horizontal",
            "style": "IPY_MODEL_cd01df20d87f47d09f7c282bbcd395f2",
            "value": 433286112
          }
        },
        "63f790a74f924414bfd59988bcca9436": {
          "model_module": "@jupyter-widgets/controls",
          "model_name": "HTMLModel",
          "model_module_version": "1.5.0",
          "state": {
            "_dom_classes": [],
            "_model_module": "@jupyter-widgets/controls",
            "_model_module_version": "1.5.0",
            "_model_name": "HTMLModel",
            "_view_count": null,
            "_view_module": "@jupyter-widgets/controls",
            "_view_module_version": "1.5.0",
            "_view_name": "HTMLView",
            "description": "",
            "description_tooltip": null,
            "layout": "IPY_MODEL_d4e1e696bb0f432da16134d7236dd016",
            "placeholder": "​",
            "style": "IPY_MODEL_2aa77b9606494505bee02f685710f4cd",
            "value": " 433M/433M [00:05&lt;00:00, 84.5MB/s]"
          }
        },
        "0a89ee35941b45c28f9b7b6b96ca974d": {
          "model_module": "@jupyter-widgets/base",
          "model_name": "LayoutModel",
          "model_module_version": "1.2.0",
          "state": {
            "_model_module": "@jupyter-widgets/base",
            "_model_module_version": "1.2.0",
            "_model_name": "LayoutModel",
            "_view_count": null,
            "_view_module": "@jupyter-widgets/base",
            "_view_module_version": "1.2.0",
            "_view_name": "LayoutView",
            "align_content": null,
            "align_items": null,
            "align_self": null,
            "border": null,
            "bottom": null,
            "display": null,
            "flex": null,
            "flex_flow": null,
            "grid_area": null,
            "grid_auto_columns": null,
            "grid_auto_flow": null,
            "grid_auto_rows": null,
            "grid_column": null,
            "grid_gap": null,
            "grid_row": null,
            "grid_template_areas": null,
            "grid_template_columns": null,
            "grid_template_rows": null,
            "height": null,
            "justify_content": null,
            "justify_items": null,
            "left": null,
            "margin": null,
            "max_height": null,
            "max_width": null,
            "min_height": null,
            "min_width": null,
            "object_fit": null,
            "object_position": null,
            "order": null,
            "overflow": null,
            "overflow_x": null,
            "overflow_y": null,
            "padding": null,
            "right": null,
            "top": null,
            "visibility": null,
            "width": null
          }
        },
        "c0c061aeb20a4ef3ab4a32e5aeb4911e": {
          "model_module": "@jupyter-widgets/base",
          "model_name": "LayoutModel",
          "model_module_version": "1.2.0",
          "state": {
            "_model_module": "@jupyter-widgets/base",
            "_model_module_version": "1.2.0",
            "_model_name": "LayoutModel",
            "_view_count": null,
            "_view_module": "@jupyter-widgets/base",
            "_view_module_version": "1.2.0",
            "_view_name": "LayoutView",
            "align_content": null,
            "align_items": null,
            "align_self": null,
            "border": null,
            "bottom": null,
            "display": null,
            "flex": null,
            "flex_flow": null,
            "grid_area": null,
            "grid_auto_columns": null,
            "grid_auto_flow": null,
            "grid_auto_rows": null,
            "grid_column": null,
            "grid_gap": null,
            "grid_row": null,
            "grid_template_areas": null,
            "grid_template_columns": null,
            "grid_template_rows": null,
            "height": null,
            "justify_content": null,
            "justify_items": null,
            "left": null,
            "margin": null,
            "max_height": null,
            "max_width": null,
            "min_height": null,
            "min_width": null,
            "object_fit": null,
            "object_position": null,
            "order": null,
            "overflow": null,
            "overflow_x": null,
            "overflow_y": null,
            "padding": null,
            "right": null,
            "top": null,
            "visibility": null,
            "width": null
          }
        },
        "5f309138793b4a62bab63796641d37c8": {
          "model_module": "@jupyter-widgets/controls",
          "model_name": "DescriptionStyleModel",
          "model_module_version": "1.5.0",
          "state": {
            "_model_module": "@jupyter-widgets/controls",
            "_model_module_version": "1.5.0",
            "_model_name": "DescriptionStyleModel",
            "_view_count": null,
            "_view_module": "@jupyter-widgets/base",
            "_view_module_version": "1.2.0",
            "_view_name": "StyleView",
            "description_width": ""
          }
        },
        "794099e3d6084057b498583f1e3155f5": {
          "model_module": "@jupyter-widgets/base",
          "model_name": "LayoutModel",
          "model_module_version": "1.2.0",
          "state": {
            "_model_module": "@jupyter-widgets/base",
            "_model_module_version": "1.2.0",
            "_model_name": "LayoutModel",
            "_view_count": null,
            "_view_module": "@jupyter-widgets/base",
            "_view_module_version": "1.2.0",
            "_view_name": "LayoutView",
            "align_content": null,
            "align_items": null,
            "align_self": null,
            "border": null,
            "bottom": null,
            "display": null,
            "flex": null,
            "flex_flow": null,
            "grid_area": null,
            "grid_auto_columns": null,
            "grid_auto_flow": null,
            "grid_auto_rows": null,
            "grid_column": null,
            "grid_gap": null,
            "grid_row": null,
            "grid_template_areas": null,
            "grid_template_columns": null,
            "grid_template_rows": null,
            "height": null,
            "justify_content": null,
            "justify_items": null,
            "left": null,
            "margin": null,
            "max_height": null,
            "max_width": null,
            "min_height": null,
            "min_width": null,
            "object_fit": null,
            "object_position": null,
            "order": null,
            "overflow": null,
            "overflow_x": null,
            "overflow_y": null,
            "padding": null,
            "right": null,
            "top": null,
            "visibility": null,
            "width": null
          }
        },
        "cd01df20d87f47d09f7c282bbcd395f2": {
          "model_module": "@jupyter-widgets/controls",
          "model_name": "ProgressStyleModel",
          "model_module_version": "1.5.0",
          "state": {
            "_model_module": "@jupyter-widgets/controls",
            "_model_module_version": "1.5.0",
            "_model_name": "ProgressStyleModel",
            "_view_count": null,
            "_view_module": "@jupyter-widgets/base",
            "_view_module_version": "1.2.0",
            "_view_name": "StyleView",
            "bar_color": null,
            "description_width": ""
          }
        },
        "d4e1e696bb0f432da16134d7236dd016": {
          "model_module": "@jupyter-widgets/base",
          "model_name": "LayoutModel",
          "model_module_version": "1.2.0",
          "state": {
            "_model_module": "@jupyter-widgets/base",
            "_model_module_version": "1.2.0",
            "_model_name": "LayoutModel",
            "_view_count": null,
            "_view_module": "@jupyter-widgets/base",
            "_view_module_version": "1.2.0",
            "_view_name": "LayoutView",
            "align_content": null,
            "align_items": null,
            "align_self": null,
            "border": null,
            "bottom": null,
            "display": null,
            "flex": null,
            "flex_flow": null,
            "grid_area": null,
            "grid_auto_columns": null,
            "grid_auto_flow": null,
            "grid_auto_rows": null,
            "grid_column": null,
            "grid_gap": null,
            "grid_row": null,
            "grid_template_areas": null,
            "grid_template_columns": null,
            "grid_template_rows": null,
            "height": null,
            "justify_content": null,
            "justify_items": null,
            "left": null,
            "margin": null,
            "max_height": null,
            "max_width": null,
            "min_height": null,
            "min_width": null,
            "object_fit": null,
            "object_position": null,
            "order": null,
            "overflow": null,
            "overflow_x": null,
            "overflow_y": null,
            "padding": null,
            "right": null,
            "top": null,
            "visibility": null,
            "width": null
          }
        },
        "2aa77b9606494505bee02f685710f4cd": {
          "model_module": "@jupyter-widgets/controls",
          "model_name": "DescriptionStyleModel",
          "model_module_version": "1.5.0",
          "state": {
            "_model_module": "@jupyter-widgets/controls",
            "_model_module_version": "1.5.0",
            "_model_name": "DescriptionStyleModel",
            "_view_count": null,
            "_view_module": "@jupyter-widgets/base",
            "_view_module_version": "1.2.0",
            "_view_name": "StyleView",
            "description_width": ""
          }
        }
      }
    }
  },
  "cells": [
    {
      "cell_type": "markdown",
      "metadata": {
        "id": "515lRhuHc_MR"
      },
      "source": [
        "## Exercise: Biomedical named entity recognition"
      ]
    },
    {
      "cell_type": "markdown",
      "metadata": {
        "id": "5aTM181kdJOn"
      },
      "source": [
        "We get the helper Python file and the files containing the training and validation data."
      ]
    },
    {
      "cell_type": "code",
      "metadata": {
        "id": "-Bq5e7PBcrTO",
        "outputId": "ccb6711e-30e2-4b19-c714-9ee1d46ee9b8",
        "colab": {
          "base_uri": "https://localhost:8080/"
        }
      },
      "source": [
        "!rm -f *py *tsv\n",
        "!wget http://www.cse.chalmers.se/~richajo/dat450/assignments/ner_util.py\n",
        "!wget http://www.cse.chalmers.se/~richajo/dat450/assignments/a4/train.tsv\n",
        "!wget http://www.cse.chalmers.se/~richajo/dat450/assignments/a4/devel.tsv\n"
      ],
      "execution_count": 1,
      "outputs": [
        {
          "output_type": "stream",
          "name": "stdout",
          "text": [
            "--2024-06-04 07:21:21--  http://www.cse.chalmers.se/~richajo/dat450/assignments/ner_util.py\n",
            "Resolving www.cse.chalmers.se (www.cse.chalmers.se)... 129.16.222.93\n",
            "Connecting to www.cse.chalmers.se (www.cse.chalmers.se)|129.16.222.93|:80... connected.\n",
            "HTTP request sent, awaiting response... 301 Moved Permanently\n",
            "Location: https://www.cse.chalmers.se/~richajo/dat450/assignments/ner_util.py [following]\n",
            "--2024-06-04 07:21:21--  https://www.cse.chalmers.se/~richajo/dat450/assignments/ner_util.py\n",
            "Connecting to www.cse.chalmers.se (www.cse.chalmers.se)|129.16.222.93|:443... connected.\n",
            "HTTP request sent, awaiting response... 200 OK\n",
            "Length: 25178 (25K) [text/plain]\n",
            "Saving to: ‘ner_util.py’\n",
            "\n",
            "ner_util.py         100%[===================>]  24.59K  --.-KB/s    in 0.03s   \n",
            "\n",
            "2024-06-04 07:21:21 (872 KB/s) - ‘ner_util.py’ saved [25178/25178]\n",
            "\n",
            "--2024-06-04 07:21:21--  http://www.cse.chalmers.se/~richajo/dat450/assignments/a4/train.tsv\n",
            "Resolving www.cse.chalmers.se (www.cse.chalmers.se)... 129.16.222.93\n",
            "Connecting to www.cse.chalmers.se (www.cse.chalmers.se)|129.16.222.93|:80... connected.\n",
            "HTTP request sent, awaiting response... 301 Moved Permanently\n",
            "Location: https://www.cse.chalmers.se/~richajo/dat450/assignments/a4/train.tsv [following]\n",
            "--2024-06-04 07:21:21--  https://www.cse.chalmers.se/~richajo/dat450/assignments/a4/train.tsv\n",
            "Connecting to www.cse.chalmers.se (www.cse.chalmers.se)|129.16.222.93|:443... connected.\n",
            "HTTP request sent, awaiting response... 200 OK\n",
            "Length: 1039940 (1016K) [text/tab-separated-values]\n",
            "Saving to: ‘train.tsv’\n",
            "\n",
            "train.tsv           100%[===================>]   1016K  5.85MB/s    in 0.2s    \n",
            "\n",
            "2024-06-04 07:21:21 (5.85 MB/s) - ‘train.tsv’ saved [1039940/1039940]\n",
            "\n",
            "--2024-06-04 07:21:21--  http://www.cse.chalmers.se/~richajo/dat450/assignments/a4/devel.tsv\n",
            "Resolving www.cse.chalmers.se (www.cse.chalmers.se)... 129.16.222.93\n",
            "Connecting to www.cse.chalmers.se (www.cse.chalmers.se)|129.16.222.93|:80... connected.\n",
            "HTTP request sent, awaiting response... 301 Moved Permanently\n",
            "Location: https://www.cse.chalmers.se/~richajo/dat450/assignments/a4/devel.tsv [following]\n",
            "--2024-06-04 07:21:21--  https://www.cse.chalmers.se/~richajo/dat450/assignments/a4/devel.tsv\n",
            "Connecting to www.cse.chalmers.se (www.cse.chalmers.se)|129.16.222.93|:443... connected.\n",
            "HTTP request sent, awaiting response... 200 OK\n",
            "Length: 1031781 (1008K) [text/tab-separated-values]\n",
            "Saving to: ‘devel.tsv’\n",
            "\n",
            "devel.tsv           100%[===================>]   1008K  5.59MB/s    in 0.2s    \n",
            "\n",
            "2024-06-04 07:21:22 (5.59 MB/s) - ‘devel.tsv’ saved [1031781/1031781]\n",
            "\n"
          ]
        }
      ]
    },
    {
      "cell_type": "markdown",
      "metadata": {
        "id": "FYSB5Iq9ceBt"
      },
      "source": [
        "\n",
        "The infrastructure code (vocabulary management, training loop, word embedding loading, evaluation, etc) has been moved into a separate file <code>ner_util.py</code> you can get [here](http://www.cse.chalmers.se/~richajo/dat450/assignments/ner_util.py). Download this file and put it into the same directory as where you are executing your notebook. Import this file and you are ready to go."
      ]
    },
    {
      "cell_type": "code",
      "metadata": {
        "id": "Qxjgu4yzceB4"
      },
      "source": [
        "import ner_util"
      ],
      "execution_count": 2,
      "outputs": []
    },
    {
      "cell_type": "markdown",
      "metadata": {
        "id": "9h0xsskJceB_"
      },
      "source": [
        "## Reading the data in a tabular format\n",
        "\n",
        "The following function reads a file represented in a tabular format. In this format, each row corresponds to one token. For each token, there is a word and the BIO-coded named entity label, separated by whitespace. The sentences are separated by empty lines. Here is an example of a sentence.\n",
        "```\n",
        "In              O\n",
        "conclusion      O\n",
        ",               O\n",
        "hyperammonemic  B-Disease\n",
        "encephalopathy  I-Disease\n",
        "can             O\n",
        "occur           O\n",
        "in              O\n",
        "patients        O\n",
        "receiving       O\n",
        "continuous      O\n",
        "infusion        O\n",
        "of              O\n",
        "5               B-Chemical\n",
        "-               I-Chemical\n",
        "FU              I-Chemical\n",
        ".               O\n",
        "```\n",
        "The function `ner_util.read_data` reads the file in this format and returns sentences and their corresponding BIO labels."
      ]
    },
    {
      "cell_type": "code",
      "metadata": {
        "id": "wy68cu1sceCB"
      },
      "source": [
        "Xtrain, Ytrain = ner_util.read_data('train.tsv')\n",
        "Xval, Yval = ner_util.read_data('devel.tsv')"
      ],
      "execution_count": 3,
      "outputs": []
    },
    {
      "cell_type": "markdown",
      "metadata": {
        "id": "xwx3q-7VceCC"
      },
      "source": [
        "An example:"
      ]
    },
    {
      "cell_type": "code",
      "metadata": {
        "id": "B9poXh0FceCE",
        "outputId": "6e45a992-6301-4050-aa8e-9ee5c30e5d9e",
        "colab": {
          "base_uri": "https://localhost:8080/"
        }
      },
      "source": [
        "Xtrain[100]"
      ],
      "execution_count": 4,
      "outputs": [
        {
          "output_type": "execute_result",
          "data": {
            "text/plain": [
              "['High',\n",
              " 'doses',\n",
              " 'of',\n",
              " 'vitamin',\n",
              " 'D',\n",
              " 'are',\n",
              " 'known',\n",
              " 'to',\n",
              " 'cause',\n",
              " 'calcification',\n",
              " 'of',\n",
              " 'the',\n",
              " 'artery',\n",
              " 'media',\n",
              " 'in',\n",
              " 'as',\n",
              " 'little',\n",
              " 'as',\n",
              " '3',\n",
              " 'to',\n",
              " '4',\n",
              " 'days',\n",
              " '.']"
            ]
          },
          "metadata": {},
          "execution_count": 4
        }
      ]
    },
    {
      "cell_type": "code",
      "metadata": {
        "id": "UnzATi4JceCI",
        "outputId": "95260dfe-aa7d-445b-97f6-60c7f999ffcc",
        "colab": {
          "base_uri": "https://localhost:8080/"
        }
      },
      "source": [
        "Ytrain[100]"
      ],
      "execution_count": 5,
      "outputs": [
        {
          "output_type": "execute_result",
          "data": {
            "text/plain": [
              "['O',\n",
              " 'O',\n",
              " 'O',\n",
              " 'B-Chemical',\n",
              " 'I-Chemical',\n",
              " 'O',\n",
              " 'O',\n",
              " 'O',\n",
              " 'O',\n",
              " 'B-Disease',\n",
              " 'I-Disease',\n",
              " 'I-Disease',\n",
              " 'I-Disease',\n",
              " 'O',\n",
              " 'O',\n",
              " 'O',\n",
              " 'O',\n",
              " 'O',\n",
              " 'O',\n",
              " 'O',\n",
              " 'O',\n",
              " 'O',\n",
              " 'O']"
            ]
          },
          "metadata": {},
          "execution_count": 5
        }
      ]
    },
    {
      "cell_type": "markdown",
      "source": [
        "## Loading pre-trained word embeddings"
      ],
      "metadata": {
        "id": "7ObbZVSS0iAQ"
      }
    },
    {
      "cell_type": "code",
      "source": [
        "!wget https://www.cse.chalmers.se/~richajo/dat450/assignments/a4/PubMed-and-PMC-w2v-200000.bin"
      ],
      "metadata": {
        "id": "Qek1_gZRXUfX",
        "outputId": "e7b45413-7fb9-4419-f5e7-10fa5b97adda",
        "colab": {
          "base_uri": "https://localhost:8080/"
        }
      },
      "execution_count": 6,
      "outputs": [
        {
          "output_type": "stream",
          "name": "stdout",
          "text": [
            "--2024-06-04 07:24:07--  https://www.cse.chalmers.se/~richajo/dat450/assignments/a4/PubMed-and-PMC-w2v-200000.bin\n",
            "Resolving www.cse.chalmers.se (www.cse.chalmers.se)... 129.16.222.93\n",
            "Connecting to www.cse.chalmers.se (www.cse.chalmers.se)|129.16.222.93|:443... connected.\n",
            "HTTP request sent, awaiting response... 200 OK\n",
            "Length: 161848950 (154M) [application/octet-stream]\n",
            "Saving to: ‘PubMed-and-PMC-w2v-200000.bin’\n",
            "\n",
            "PubMed-and-PMC-w2v- 100%[===================>] 154.35M  96.6MB/s    in 1.6s    \n",
            "\n",
            "2024-06-04 07:24:09 (96.6 MB/s) - ‘PubMed-and-PMC-w2v-200000.bin’ saved [161848950/161848950]\n",
            "\n"
          ]
        }
      ]
    },
    {
      "cell_type": "code",
      "source": [
        "emb_model = ner_util.load_gensim_vectors('glove-wiki-gigaword-100', builtin=True)\n",
        "#emb_model = ner_util.load_gensim_vectors('PubMed-and-PMC-w2v-200000.bin', builtin=False)"
      ],
      "metadata": {
        "id": "Bg4a7dZQXYeE",
        "outputId": "cfa98740-abc1-4c77-9ab2-672fd548fe46",
        "colab": {
          "base_uri": "https://localhost:8080/"
        }
      },
      "execution_count": 7,
      "outputs": [
        {
          "output_type": "stream",
          "name": "stdout",
          "text": [
            "[==================================================] 100.0% 128.1/128.1MB downloaded\n",
            " done!\n"
          ]
        }
      ]
    },
    {
      "cell_type": "markdown",
      "metadata": {
        "id": "cGv45ph3ceCK"
      },
      "source": [
        "## Implementing a sequence labeling model\n",
        "\n",
        "Below is a skeleton of a solution. Add the missing pieces."
      ]
    },
    {
      "cell_type": "code",
      "metadata": {
        "id": "601e9y36ceCM"
      },
      "source": [
        "import torch\n",
        "from torch import nn\n",
        "\n",
        "class SequenceLabelingModel(nn.Module):\n",
        "\n",
        "    def __init__(self, seq_labeler):\n",
        "        super().__init__()\n",
        "\n",
        "        p = seq_labeler.params\n",
        "\n",
        "        # The model consists of just a word embedding layer and a\n",
        "        # linear output unit. We use the vocabulary to create the embedding layer.\n",
        "        self.word_embedding = seq_labeler.word_voc.make_embedding_layer(finetune=p.finetune_word_emb,\n",
        "                                                                        emb_dim=p.default_word_emb_dim)\n",
        "\n",
        "        # The dimensionality of the word embedding model.\n",
        "        word_emb_dim = self.word_embedding.weight.shape[1]\n",
        "        output_dim = seq_labeler.n_labels\n",
        "\n",
        "        # TODO: Create an output unit.\n",
        "        self.lstm = nn.LSTM(word_emb_dim, 126)\n",
        "        self.dropout = nn.Dropout(p=0.1)\n",
        "        self.linear = nn.Linear(126, output_dim)\n",
        "\n",
        "\n",
        "    def forward(self, words):\n",
        "        # words is a tensor of integer-encoded words, with shape (batch_size, max_sen_length)\n",
        "\n",
        "        # After embedding the words, the shape is (batch_size, max_sen_length, emb_dim).\n",
        "        word_repr = self.word_embedding(words)\n",
        "\n",
        "        # TODO: Complete the forward step.\n",
        "        return self.linear(self.dropout(self.lstm(word_repr)[0]))\n"
      ],
      "execution_count": 14,
      "outputs": []
    },
    {
      "cell_type": "markdown",
      "metadata": {
        "id": "HuEUULDlceCR"
      },
      "source": [
        "## Training the system\n",
        "\n",
        "As usual, we create an object that contains all hyperparameters."
      ]
    },
    {
      "cell_type": "code",
      "metadata": {
        "id": "zFDmKMrOceCS"
      },
      "source": [
        "class NERParameters:\n",
        "\n",
        "    # Random seed, for reproducibility.\n",
        "    random_seed = 0\n",
        "\n",
        "    # cuda or cpu\n",
        "    device = 'cuda'\n",
        "\n",
        "    # NB: this hyperparameter is only used if we are training the embedding\n",
        "    # model from scratch.\n",
        "    default_word_emb_dim = 128\n",
        "\n",
        "    # Whether or not to fine-tune the word embedding model.\n",
        "    finetune_word_emb = False\n",
        "\n",
        "    # Training parameters\n",
        "    n_epochs = 20\n",
        "    batch_size = 32\n",
        "    learning_rate = 0.005\n",
        "    weight_decay = 0\n",
        "\n",
        "    # Word dropout rate.\n",
        "    word_dropout_prob = 0.0\n",
        "\n",
        "    # Set the following to True to enable character tensors.\n",
        "    use_characters = False"
      ],
      "execution_count": 15,
      "outputs": []
    },
    {
      "cell_type": "markdown",
      "metadata": {
        "id": "U5L2M1JcceCT"
      },
      "source": [
        "Now, we are ready to train. When creating the NER system, the first argument should be the hyperparameter container. The second should be a function that builds the neural network; we just use the constructor of the class we defined above."
      ]
    },
    {
      "cell_type": "code",
      "metadata": {
        "id": "Yw2LdGMBceCU",
        "outputId": "ac1f8d60-564e-45f4-b472-51696a8594c8",
        "colab": {
          "base_uri": "https://localhost:8080/"
        }
      },
      "source": [
        "\n",
        "ner_system = ner_util.SequenceLabeler(NERParameters(), SequenceLabelingModel,\n",
        "                                      pretrained_word_emb=emb_model)\n",
        "ner_system.fit(Xtrain, Ytrain, Xval, Yval)"
      ],
      "execution_count": 16,
      "outputs": [
        {
          "output_type": "stream",
          "name": "stdout",
          "text": [
            "Epoch 1: train loss = 0.3478, val f1: 0.4968, time = 1.8255\n",
            "Epoch 2: train loss = 0.2441, val f1: 0.5417, time = 1.4899\n",
            "Epoch 3: train loss = 0.2224, val f1: 0.5768, time = 1.3298\n",
            "Epoch 4: train loss = 0.2096, val f1: 0.5750, time = 0.9233\n",
            "Epoch 5: train loss = 0.1985, val f1: 0.5827, time = 0.8630\n",
            "Epoch 6: train loss = 0.1909, val f1: 0.6016, time = 0.8631\n",
            "Epoch 7: train loss = 0.1844, val f1: 0.6039, time = 0.8719\n",
            "Epoch 8: train loss = 0.1792, val f1: 0.5879, time = 0.8638\n",
            "Epoch 9: train loss = 0.1752, val f1: 0.6004, time = 0.8547\n",
            "Epoch 10: train loss = 0.1715, val f1: 0.6145, time = 0.8449\n",
            "Epoch 11: train loss = 0.1686, val f1: 0.5980, time = 0.8732\n",
            "Epoch 12: train loss = 0.1649, val f1: 0.6114, time = 0.8734\n",
            "Epoch 13: train loss = 0.1631, val f1: 0.6012, time = 0.8775\n",
            "Epoch 14: train loss = 0.1610, val f1: 0.6025, time = 0.8555\n",
            "Epoch 15: train loss = 0.1582, val f1: 0.6156, time = 1.3041\n",
            "Epoch 16: train loss = 0.1556, val f1: 0.5986, time = 1.4776\n",
            "Epoch 17: train loss = 0.1550, val f1: 0.6067, time = 1.0368\n",
            "Epoch 18: train loss = 0.1537, val f1: 0.6098, time = 0.8822\n",
            "Epoch 19: train loss = 0.1528, val f1: 0.6190, time = 0.8635\n",
            "Epoch 20: train loss = 0.1522, val f1: 0.6116, time = 0.8757\n",
            "\n",
            "Final evaluation on the validation set:\n",
            "Overall: P = 0.6290, R = 0.5951, F1 = 0.6116\n",
            "Chemical: P = 0.7942, R = 0.6237, F1 = 0.6987\n",
            "Disease: P = 0.4867, R = 0.5591, F1 = 0.5204\n"
          ]
        },
        {
          "output_type": "execute_result",
          "data": {
            "text/plain": [
              "0.618962610334226"
            ]
          },
          "metadata": {},
          "execution_count": 16
        }
      ]
    },
    {
      "cell_type": "markdown",
      "metadata": {
        "id": "koYR9VfsceCX"
      },
      "source": [
        "To exemplify the output of the system, the following cell shows how to predict the IOB tags:"
      ]
    },
    {
      "cell_type": "code",
      "source": [
        "ner_system.predict(['The patient suffered from malaria .'.split()])"
      ],
      "metadata": {
        "id": "2Cxb4ekzkKa-",
        "outputId": "54533396-8741-4b59-b118-446dbc93055b",
        "colab": {
          "base_uri": "https://localhost:8080/"
        }
      },
      "execution_count": 17,
      "outputs": [
        {
          "output_type": "execute_result",
          "data": {
            "text/plain": [
              "[['O', 'O', 'O', 'O', 'B-Disease', 'O']]"
            ]
          },
          "metadata": {},
          "execution_count": 17
        }
      ]
    },
    {
      "cell_type": "markdown",
      "source": [
        "Alternatively, a visual format:"
      ],
      "metadata": {
        "id": "SAHDCoRd1bUI"
      }
    },
    {
      "cell_type": "code",
      "source": [
        "ner_util.show_entities(ner_system, ['The patient suffered from malaria .'.split()])"
      ],
      "metadata": {
        "id": "y2-5Lt8Ql-2J",
        "outputId": "7d7a5ee6-b985-487f-d94a-580cc49ca175",
        "colab": {
          "base_uri": "https://localhost:8080/",
          "height": 53
        }
      },
      "execution_count": 18,
      "outputs": [
        {
          "output_type": "display_data",
          "data": {
            "text/plain": [
              "<IPython.core.display.HTML object>"
            ],
            "text/html": [
              "<div style=\"font-size:150%; line-height: 150%;\"><div> The patient suffered from <b style=\"background-color: #ff3333; color: white; border-radius: 3px; padding: 3px;\"><sup style=font-size:small;><tt>Disease</tt></sup> malaria</b> .</div></div>"
            ]
          },
          "metadata": {}
        }
      ]
    },
    {
      "cell_type": "markdown",
      "source": [
        "### Using pre-trained BERT models"
      ],
      "metadata": {
        "id": "TuXXq-rvaMsB"
      }
    },
    {
      "cell_type": "code",
      "source": [
        "import transformers\n",
        "from transformers import AutoTokenizer, AutoModel"
      ],
      "metadata": {
        "id": "ahq2gKvhMK28"
      },
      "execution_count": 19,
      "outputs": []
    },
    {
      "cell_type": "markdown",
      "source": [
        "Set `BERT_MODEL_NAME` to point to a HuggingFace identifier."
      ],
      "metadata": {
        "id": "q1IzJ8YE194Y"
      }
    },
    {
      "cell_type": "code",
      "source": [
        "# BERT_MODEL_NAME = 'bert-base-uncased'\n",
        "BERT_MODEL_NAME = 'dmis-lab/biobert-v1.1'"
      ],
      "metadata": {
        "id": "Y04uU57BMp5P"
      },
      "execution_count": 38,
      "outputs": []
    },
    {
      "cell_type": "markdown",
      "source": [
        "Implement the missing pieces of code here."
      ],
      "metadata": {
        "id": "aGpDIywh2C6n"
      }
    },
    {
      "cell_type": "code",
      "source": [
        "class BERTSequenceModel(nn.Module):\n",
        "\n",
        "    def __init__(self, seq_labeler):\n",
        "        super().__init__()\n",
        "        p = seq_labeler.params\n",
        "        self.bert = AutoModel.from_pretrained(BERT_MODEL_NAME)\n",
        "\n",
        "        bert_output_size = self.bert.config.hidden_size\n",
        "        output_dim = seq_labeler.n_labels\n",
        "\n",
        "        # TODO add the output\n",
        "        self.dropout = nn.Dropout(p=0.1)\n",
        "        self.linear = nn.Linear(bert_output_size, output_dim)\n",
        "\n",
        "    def forward(self, words):\n",
        "        return self.linear(self.dropout(self.bert(words).last_hidden_state))"
      ],
      "metadata": {
        "id": "r_p-fcxd3lG0"
      },
      "execution_count": 39,
      "outputs": []
    },
    {
      "cell_type": "markdown",
      "source": [
        "Now, let's train and evaluate the BERT-based NER model."
      ],
      "metadata": {
        "id": "DlugRqNj2Tf1"
      }
    },
    {
      "cell_type": "code",
      "source": [
        "class SeqLabelerParameters:\n",
        "    device = 'cuda'\n",
        "    random_seed = 0\n",
        "    n_epochs = 3\n",
        "    batch_size = 32\n",
        "    learning_rate = 5e-5\n",
        "    weight_decay = 0\n",
        "    word_dropout_prob = 0.0\n",
        "    use_characters = False\n",
        "    bert_max_len = 128\n",
        "\n",
        "\n",
        "tokenizer = AutoTokenizer.from_pretrained(BERT_MODEL_NAME)\n",
        "ner_system = ner_util.SequenceLabeler(SeqLabelerParameters(), BERTSequenceModel,\n",
        "                                      bert_tokenizer=tokenizer)\n",
        "ner_system.fit(Xtrain, Ytrain, Xval, Yval)"
      ],
      "metadata": {
        "id": "2QURk9GgMwzK",
        "outputId": "a35a3ef8-0d40-4087-9578-1453c51384fd",
        "colab": {
          "base_uri": "https://localhost:8080/",
          "height": 701,
          "referenced_widgets": [
            "b434681317de419c97ac34b8b7b92c1e",
            "3ed63f0e16104d30b45c7cf63f388ff2",
            "7ee0ce374c33417c8ca193f44b1351da",
            "7963530fdd054c13a0a4b80873cd176b",
            "2c5bc2b2b6b34198a6b1b68c92d56abb",
            "719ee0939f28460a8bc1daad71b554da",
            "6e2d773522b043c8a1fcab3161a58763",
            "17d4e99bbe3b4d0e8cce9d386fad9d13",
            "45df553dec5d4aa396df475aca463ad7",
            "a95aa022906a4ed798efb749fc660010",
            "a13e56c272384b71ae95d78567eeae1d",
            "9034f7f2554a4f2cb4cfc697e348088d",
            "8e950a7bc3214aa88dd091bd1d54f0fb",
            "6f085f9bf5de46dd8c08337067e71283",
            "04987f7ce73f494686dbf153e5090b83",
            "e20a153f29b44735ac6d12617167bf82",
            "50e119d8ea9e4748a6bd84e24ff91027",
            "80c49ac14be34e31829ebb8839c3375e",
            "beb095134f18423ea42912010f5eea3b",
            "33a3038ca5b54a54abba30eb13150506",
            "5b5a7f462c5b45339ffef76b9e7c5696",
            "c786397ea09d42cb9476d8ac6ff09f7b",
            "8c602260ffd944bfbcf135e1ba8d3ba3",
            "6fbfb82efcd34a90bb4307592ea7b17a",
            "e2698e2dde2241368e6a6f2b6fb6abb7",
            "60ee046f6ca54fe1b49179f8bb0a8e3a",
            "c2c31911db0f48c5ad002d5a9e472940",
            "f09c181bdc2d48fe86e235442f718a92",
            "d36c4e27085742749d42a8f5461d3f73",
            "988f0406651844358e01562e0686370c",
            "6130c22ec38f4486823d68d04d204cd7",
            "d3407aab8b134af89043655456525119",
            "f467fd0395aa406187a66021de3241b5",
            "dce62fa2f8374485996cd6be640ff4ab",
            "d36ff43fda4443829871aff50efaa7a5",
            "5fd5b4c4638949e19b91d63d46d27a89",
            "4a68b4cddcb84f349369fe7e01a81d78",
            "351993c87e1543768fc267652788d012",
            "4218552e0a5b47598ea325e8ec38f1bd",
            "c0029ad0f0a64881ae6b578470a11654",
            "4efccae304a24297b40dce64ee9b3401",
            "31abfa42b857433297dbc05b0e2be87e",
            "f776207d6feb470c94e63d2f84486c63",
            "cb04017e03a74cc291a349ff157dfa59",
            "97b9c20aed124142869a628ab03080d1",
            "2b23c97831c94a17bf1b9f880d38a0f4",
            "2f42c927d62d49e19047a55e918810e2",
            "63f790a74f924414bfd59988bcca9436",
            "0a89ee35941b45c28f9b7b6b96ca974d",
            "c0c061aeb20a4ef3ab4a32e5aeb4911e",
            "5f309138793b4a62bab63796641d37c8",
            "794099e3d6084057b498583f1e3155f5",
            "cd01df20d87f47d09f7c282bbcd395f2",
            "d4e1e696bb0f432da16134d7236dd016",
            "2aa77b9606494505bee02f685710f4cd"
          ]
        }
      },
      "execution_count": 40,
      "outputs": [
        {
          "output_type": "display_data",
          "data": {
            "text/plain": [
              "tokenizer_config.json:   0%|          | 0.00/49.0 [00:00<?, ?B/s]"
            ],
            "application/vnd.jupyter.widget-view+json": {
              "version_major": 2,
              "version_minor": 0,
              "model_id": "b434681317de419c97ac34b8b7b92c1e"
            }
          },
          "metadata": {}
        },
        {
          "output_type": "stream",
          "name": "stderr",
          "text": [
            "/usr/local/lib/python3.10/dist-packages/huggingface_hub/file_download.py:1132: FutureWarning: `resume_download` is deprecated and will be removed in version 1.0.0. Downloads always resume when possible. If you want to force a new download, use `force_download=True`.\n",
            "  warnings.warn(\n"
          ]
        },
        {
          "output_type": "display_data",
          "data": {
            "text/plain": [
              "config.json:   0%|          | 0.00/462 [00:00<?, ?B/s]"
            ],
            "application/vnd.jupyter.widget-view+json": {
              "version_major": 2,
              "version_minor": 0,
              "model_id": "9034f7f2554a4f2cb4cfc697e348088d"
            }
          },
          "metadata": {}
        },
        {
          "output_type": "display_data",
          "data": {
            "text/plain": [
              "vocab.txt:   0%|          | 0.00/213k [00:00<?, ?B/s]"
            ],
            "application/vnd.jupyter.widget-view+json": {
              "version_major": 2,
              "version_minor": 0,
              "model_id": "8c602260ffd944bfbcf135e1ba8d3ba3"
            }
          },
          "metadata": {}
        },
        {
          "output_type": "display_data",
          "data": {
            "text/plain": [
              "special_tokens_map.json:   0%|          | 0.00/112 [00:00<?, ?B/s]"
            ],
            "application/vnd.jupyter.widget-view+json": {
              "version_major": 2,
              "version_minor": 0,
              "model_id": "dce62fa2f8374485996cd6be640ff4ab"
            }
          },
          "metadata": {}
        },
        {
          "output_type": "display_data",
          "data": {
            "text/plain": [
              "pytorch_model.bin:   0%|          | 0.00/433M [00:00<?, ?B/s]"
            ],
            "application/vnd.jupyter.widget-view+json": {
              "version_major": 2,
              "version_minor": 0,
              "model_id": "97b9c20aed124142869a628ab03080d1"
            }
          },
          "metadata": {}
        },
        {
          "output_type": "stream",
          "name": "stdout",
          "text": [
            ".................................................. (50)\n",
            ".................................................. (100)\n",
            "...........................................\n",
            ".................................................. (50)\n",
            ".................................................. (100)\n",
            "............................................\n",
            "Epoch 1: train loss = 0.4121, val f1: 0.8399, time = 90.0496\n",
            ".................................................. (50)\n",
            ".................................................. (100)\n",
            "...........................................\n",
            ".................................................. (50)\n",
            ".................................................. (100)\n",
            "............................................\n",
            "Epoch 2: train loss = 0.0620, val f1: 0.8639, time = 89.9893\n",
            ".................................................. (50)\n",
            ".................................................. (100)\n",
            "...........................................\n",
            ".................................................. (50)\n",
            ".................................................. (100)\n",
            "............................................\n",
            "Epoch 3: train loss = 0.0314, val f1: 0.8745, time = 89.4912\n",
            "\n",
            "Final evaluation on the validation set:\n",
            "Overall: P = 0.8589, R = 0.8907, F1 = 0.8745\n",
            "Chemical: P = 0.9350, R = 0.9255, F1 = 0.9302\n",
            "Disease: P = 0.7726, R = 0.8469, F1 = 0.8081\n"
          ]
        },
        {
          "output_type": "execute_result",
          "data": {
            "text/plain": [
              "0.874538366844481"
            ]
          },
          "metadata": {},
          "execution_count": 40
        }
      ]
    },
    {
      "cell_type": "code",
      "source": [],
      "metadata": {
        "id": "YIVh8436LBmk"
      },
      "execution_count": 24,
      "outputs": []
    }
  ]
}