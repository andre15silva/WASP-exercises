{
  "cells": [
    {
      "cell_type": "markdown",
      "metadata": {
        "id": "ZeKkvvISk7-J"
      },
      "source": [
        "# Using BERT models\n",
        "\n",
        "This example shows how to use BERT models from the HuggingFace library. We will first take a look at the basic usage and how we apply the model, and then see how we can fine-tune the BERT model to classify documents.\n",
        "\n",
        "To run this example, you need to make sure that the library `transformers` is installed. Please refer to [this page](https://huggingface.co/transformers/installation.html) for installation instructions, but in short you just need to install a package with `pip`. If you use Colab, the library is already installed.\n",
        "\n",
        "**Note**: If you are using Colab, please check that the runtime type is set to GPU after copying this notebook."
      ]
    },
    {
      "cell_type": "markdown",
      "metadata": {
        "id": "ke4t_1NJk7-m"
      },
      "source": [
        "### Using the BERT tokenizer\n",
        "\n",
        "BERT has a built-in tokenizer. It uses WordPiece tokenization, which means that it will split rare words into pieces.\n",
        "\n",
        "There are many models included in the `transformers` library, each one identified by a model name string. For a full list, see [here](https://huggingface.co/transformers/pretrained_models.html). We will mainly consider the *BERT* model, originally described in the [paper by Devlin et al. (2019)](https://aclanthology.org/N19-1423.pdf).\n",
        "\n",
        "Each model in the `transformers` library comes with its own corresponding tokenizer: `BertTokenizer`, `DistilBertTokenizer`, `RobertaTokenizer`, etc. You need to make sure you use the right tokenizer for your model. Fortunately, in the latest version of the library, there is a utility called `AutoTokenizer` that will load the appropriate tokenizer for the model you have selected. Let's see how to use it."
      ]
    },
    {
      "cell_type": "code",
      "execution_count": 1,
      "metadata": {
        "id": "q2pH-ahok7-o"
      },
      "outputs": [],
      "source": [
        "from transformers import AutoTokenizer"
      ]
    },
    {
      "cell_type": "code",
      "execution_count": 2,
      "metadata": {
        "id": "E0rSNviek7-x",
        "colab": {
          "base_uri": "https://localhost:8080/",
          "height": 249,
          "referenced_widgets": [
            "f54376d2f6ca4d5dab721fe024e47737",
            "afdd1b26b90c456f8d56f803b31bfc3b",
            "54ff271b52734a96af01dd862ac1ea94",
            "93538269b82d4cf6ba5a5026d8bb07e1",
            "b11a067ef12747209d78bd38c7e22893",
            "c7643b020f20459a83ac93cdc22708fd",
            "f16d7c7b5d574ccb88d56a4aa4f0e5fa",
            "d81e16393b1a4d658a4cdd1cff9a1d53",
            "840f1527774b447a9a10180f1c5b9841",
            "d7778ecce4dd47458d5aefd2ed81367d",
            "f40a2590872b420d8d5f5f3b3a718233",
            "53b8e9f2c5914b60b65b788b38392f7a",
            "cadfd0e4b0c04450ac4ba883ee2ca323",
            "8fb01dfe1e4e4a5e9a6e41df94ef8f05",
            "be88698245494aa99332c77109308711",
            "b3ae3eed44a34a74aea527c8af2d3754",
            "47f702649e38415190092179d8de0197",
            "6a1b38ecbab44b55a79e56bfb47467c6",
            "e414f516338e437abc5d18cef7d2186f",
            "2c6ac0ee919c4da8b76839f2322279fb",
            "184595ad046a41a2835b9ab382c097f4",
            "f0682c88fbb34221b89b419535c918e2",
            "edf17289b08249aea85a03f23c9f1606",
            "b0a8aff7427b429e8fb96243ecd4722c",
            "ff460e05c5bf49178f926c0e9dd8f5ef",
            "6324fd7f759d4d698158b83a6684c6d0",
            "599575822a214063a752fae8bfa81d40",
            "0529bc74c5064a779a0efc7f5e18d378",
            "adea26479e62492295de810e0951527c",
            "15bf6bb13bf6496cb402229810a845fe",
            "c530461235584729bb9d38cfbd6be6e7",
            "a27de7da1fb843bc82a18bfa730b6ef4",
            "3cc80e4aba074ad29d641c0ae65ed42a",
            "e4de4529e48b494f8f55b6df3c2bece1",
            "9ea9508bd7344bd9bf43a52711a1fb77",
            "c47ceab5d43b49e2bd2e960cdd4c492e",
            "9593e23a362a4d1d8f28463692a50e90",
            "980976dd19e8472597043d38f5d474bf",
            "d69163584f1845a28aadb14b18f1536d",
            "a4467ff2c5aa4d8ab41543cf82b1662b",
            "a97dc2d5747f4d539cbf658e1a25115d",
            "311d9d04fc1e4a14958cb4cb54421b38",
            "7aa840cf2489416896466f687dc45413",
            "adea9a80623c4b1eadb0991e662b190a"
          ]
        },
        "outputId": "0126e857-a7d8-4e44-c578-5de87d4e447d"
      },
      "outputs": [
        {
          "output_type": "stream",
          "name": "stderr",
          "text": [
            "/usr/local/lib/python3.10/dist-packages/huggingface_hub/utils/_token.py:88: UserWarning: \n",
            "The secret `HF_TOKEN` does not exist in your Colab secrets.\n",
            "To authenticate with the Hugging Face Hub, create a token in your settings tab (https://huggingface.co/settings/tokens), set it as secret in your Google Colab and restart your session.\n",
            "You will be able to reuse this secret in all of your notebooks.\n",
            "Please note that authentication is recommended but still optional to access public models or datasets.\n",
            "  warnings.warn(\n"
          ]
        },
        {
          "output_type": "display_data",
          "data": {
            "text/plain": [
              "tokenizer_config.json:   0%|          | 0.00/48.0 [00:00<?, ?B/s]"
            ],
            "application/vnd.jupyter.widget-view+json": {
              "version_major": 2,
              "version_minor": 0,
              "model_id": "f54376d2f6ca4d5dab721fe024e47737"
            }
          },
          "metadata": {}
        },
        {
          "output_type": "display_data",
          "data": {
            "text/plain": [
              "config.json:   0%|          | 0.00/570 [00:00<?, ?B/s]"
            ],
            "application/vnd.jupyter.widget-view+json": {
              "version_major": 2,
              "version_minor": 0,
              "model_id": "53b8e9f2c5914b60b65b788b38392f7a"
            }
          },
          "metadata": {}
        },
        {
          "output_type": "display_data",
          "data": {
            "text/plain": [
              "vocab.txt:   0%|          | 0.00/232k [00:00<?, ?B/s]"
            ],
            "application/vnd.jupyter.widget-view+json": {
              "version_major": 2,
              "version_minor": 0,
              "model_id": "edf17289b08249aea85a03f23c9f1606"
            }
          },
          "metadata": {}
        },
        {
          "output_type": "display_data",
          "data": {
            "text/plain": [
              "tokenizer.json:   0%|          | 0.00/466k [00:00<?, ?B/s]"
            ],
            "application/vnd.jupyter.widget-view+json": {
              "version_major": 2,
              "version_minor": 0,
              "model_id": "e4de4529e48b494f8f55b6df3c2bece1"
            }
          },
          "metadata": {}
        }
      ],
      "source": [
        "model_name = 'bert-base-uncased'\n",
        "\n",
        "tokenizer = AutoTokenizer.from_pretrained(model_name)"
      ]
    },
    {
      "cell_type": "markdown",
      "metadata": {
        "id": "n1lbHUpPk7-4"
      },
      "source": [
        "To exemplify how the tokenizer works, let's see an example. Note that we have added the special dummy tokens BERT uses: `[CLS]` to mark the beginning of the text, `[SEP]` at the end, and some padding."
      ]
    },
    {
      "cell_type": "code",
      "execution_count": 3,
      "metadata": {
        "id": "GkoQ5_0Ik7-6",
        "colab": {
          "base_uri": "https://localhost:8080/"
        },
        "outputId": "3201f614-e6b7-4b28-a24b-e85364be3146"
      },
      "outputs": [
        {
          "output_type": "execute_result",
          "data": {
            "text/plain": [
              "['[CLS]', 'rolf', 'lives', 'in', 'gothenburg', '.', '[SEP]', '[PAD]', '[PAD]']"
            ]
          },
          "metadata": {},
          "execution_count": 3
        }
      ],
      "source": [
        "tokenizer.tokenize('[CLS] Rolf lives in Gothenburg. [SEP] [PAD] [PAD]')"
      ]
    },
    {
      "cell_type": "markdown",
      "metadata": {
        "id": "rccHszNGk7_F"
      },
      "source": [
        "The following example shows how rare words are split into word pieces by the BERT tokenizer."
      ]
    },
    {
      "cell_type": "code",
      "execution_count": 4,
      "metadata": {
        "id": "60r74xqDk7_G",
        "colab": {
          "base_uri": "https://localhost:8080/"
        },
        "outputId": "da1d7969-e381-44ec-9d06-f6a52525d85d"
      },
      "outputs": [
        {
          "output_type": "execute_result",
          "data": {
            "text/plain": [
              "['su', '##zan', '##na', 'has', 'broken', 'the', 'tea', '##pot', '##s', '.']"
            ]
          },
          "metadata": {},
          "execution_count": 4
        }
      ],
      "source": [
        "tokenizer.tokenize('Suzanna has broken the teapots.')"
      ]
    },
    {
      "cell_type": "markdown",
      "metadata": {
        "id": "0X8lXW68k7_O"
      },
      "source": [
        "We can also encode the tokens as integers. (Each BERT tokenizer comes with a vocabulary that carries out this mapping.) The encoding step automatically adds the `[CLS]` and `[SEP]` dummy tokens at the beginning and end, which is why we get 7 integers for 5 tokens."
      ]
    },
    {
      "cell_type": "code",
      "execution_count": 5,
      "metadata": {
        "id": "bu7uIr9lk7_P",
        "colab": {
          "base_uri": "https://localhost:8080/"
        },
        "outputId": "0822d4b9-402a-440c-fe03-48611f00c9ce"
      },
      "outputs": [
        {
          "output_type": "execute_result",
          "data": {
            "text/plain": [
              "{'input_ids': tensor([[  101, 23381,  3268,  1999, 22836,  1012,   102],\n",
              "        [  101,  7820,  2742,   102,     0,     0,     0]]), 'token_type_ids': tensor([[0, 0, 0, 0, 0, 0, 0],\n",
              "        [0, 0, 0, 0, 0, 0, 0]]), 'attention_mask': tensor([[1, 1, 1, 1, 1, 1, 1],\n",
              "        [1, 1, 1, 1, 0, 0, 0]])}"
            ]
          },
          "metadata": {},
          "execution_count": 5
        }
      ],
      "source": [
        "tokenizer(['Rolf lives in Gothenburg.', 'Shorter example'],\n",
        "         truncation=True, max_length=128,\n",
        "         return_tensors='pt', padding=True)"
      ]
    },
    {
      "cell_type": "markdown",
      "metadata": {
        "id": "ZCUD7SQQk7_u"
      },
      "source": [
        "### Trying out a BERT model from the Transformers library\n",
        "\n",
        "For the tokenizer above, we used `AutoTokenizer` to load the right tokenizer, given a model name string. In a similar fashion, we use `AutoModel` here to load the right model. If you want to use another model, just change the name string in the hyperparameter settings below. (As mentioned above, see [this page](https://huggingface.co/transformers/pretrained_models.html) for a list of pre-trained models.) We'll typically get a warning message here, which we can ignore."
      ]
    },
    {
      "cell_type": "code",
      "execution_count": 6,
      "metadata": {
        "id": "GaOX-PD2ALIn",
        "colab": {
          "base_uri": "https://localhost:8080/",
          "height": 49,
          "referenced_widgets": [
            "cc900d7f02d34260a5c1204b750b5f28",
            "9523e337081c4b3f9beb20bed73766ea",
            "4ddcd57ba29c4a86a85e3477d7ccf1f8",
            "0ffb12a694624914916a9b19040a6142",
            "aab0888a5acf48698215d0ce28b8edea",
            "ef7bc4e06bf446ae85fee4f3c4b3eb38",
            "571752e5a16046aaa35d687992a540cd",
            "4e0cecf4d16342338e279ca442d1f84c",
            "2c71476261294d119c83905ba9d15df5",
            "6b4cbb5d462243a6b1b8ede06f942fbb",
            "80db4f9ffb2843d5bba4bd17951bce4a"
          ]
        },
        "outputId": "fc3a43f4-b2aa-4988-8793-98f8120a42fe"
      },
      "outputs": [
        {
          "output_type": "display_data",
          "data": {
            "text/plain": [
              "model.safetensors:   0%|          | 0.00/440M [00:00<?, ?B/s]"
            ],
            "application/vnd.jupyter.widget-view+json": {
              "version_major": 2,
              "version_minor": 0,
              "model_id": "cc900d7f02d34260a5c1204b750b5f28"
            }
          },
          "metadata": {}
        }
      ],
      "source": [
        "from transformers import AutoModel\n",
        "\n",
        "example_bert_model = AutoModel.from_pretrained(model_name)"
      ]
    },
    {
      "cell_type": "markdown",
      "metadata": {
        "id": "dfQoqoqbC8DM"
      },
      "source": [
        "We create an example input. This batch consists of a single sentence. We use the tokenizer above to encode the words as integers. (As above, special dummy tokens have been added at the beginning and end.)"
      ]
    },
    {
      "cell_type": "code",
      "execution_count": 7,
      "metadata": {
        "id": "5nU6QOy0JlHi",
        "colab": {
          "base_uri": "https://localhost:8080/"
        },
        "outputId": "9c8e3315-cb6a-4bfb-f7dd-72df25f7d6d1"
      },
      "outputs": [
        {
          "output_type": "execute_result",
          "data": {
            "text/plain": [
              "torch.Size([1, 7])"
            ]
          },
          "metadata": {},
          "execution_count": 7
        }
      ],
      "source": [
        "test_input = tokenizer(['The sun is shining .'], return_tensors='pt')\n",
        "test_input.input_ids.shape"
      ]
    },
    {
      "cell_type": "markdown",
      "metadata": {
        "id": "_TINr4-tJlHj"
      },
      "source": [
        "We can now apply the BERT model and get the output:"
      ]
    },
    {
      "cell_type": "code",
      "execution_count": 8,
      "metadata": {
        "id": "2Y2V01q5JlHj"
      },
      "outputs": [],
      "source": [
        "bert_output = example_bert_model(input_ids=test_input.input_ids,\n",
        "                                 attention_mask=test_input.attention_mask,\n",
        "                                 output_attentions=True, output_hidden_states=True)"
      ]
    },
    {
      "cell_type": "markdown",
      "metadata": {
        "id": "ROvKxduiJlHl"
      },
      "source": [
        "You can read about the output data structure here: https://huggingface.co/docs/transformers/main_classes/output\n",
        "\n",
        "The parts of this data structure that are most interesting for us are:\n",
        "\n",
        "- `last_hidden_state` (always returned)\n",
        "- `hidden_states` (returned because we set `output_hidden_states` to `True`)\n",
        "- `attentions` (returned because we set `attentions` to `True`)\n",
        "\n",
        "Take a look at these objects and try to understand why they have the shapes they have. (Note: `hidden_states` and `attentions` are tuples.)"
      ]
    },
    {
      "cell_type": "markdown",
      "metadata": {
        "id": "FFEp3CqkJlHl"
      },
      "source": [
        "### Visualizing attention\n",
        "\n",
        "The paper [*What does BERT look at? An Analysis of BERT's Attention*](https://aclanthology.org/W19-4828.pdf) by Clark et al (2019) describes an analysis of BERT's attention heads using visualization.\n",
        "\n",
        "There is [an online tool](https://huggingface.co/exbert/?model=bert-base-uncased&modelKind=bidirectional) that can help you create visualizations similar to the paper.\n",
        "\n",
        "You can also create visualizations in this notebook directly. The code below visualizes the attention scores using heatmaps.\n",
        "**Note**: keep in mind that in the paper and in the visualization tool, the layers and attention heads are numbered starting from 1. So if you want to visualize the head 11-6 as in Figure 1 in the paper, you will have to write\n",
        "```\n",
        "bert_outputs.attentions[10][0, 5]\n",
        "```"
      ]
    },
    {
      "cell_type": "code",
      "execution_count": 9,
      "metadata": {
        "id": "A1LuR979JlHm"
      },
      "outputs": [],
      "source": [
        "%config InlineBackend.figure_format = 'svg'\n",
        "import matplotlib.pyplot as plt\n",
        "plt.style.use('seaborn-v0_8')\n",
        "import numpy as np\n",
        "import warnings\n",
        "\n",
        "def plot_attention(input_ids, tokenizer, scores):\n",
        "    scores = scores.detach().numpy()\n",
        "\n",
        "    words = [tokenizer.decode(i) for i in input_ids]\n",
        "\n",
        "    if tokenizer.pad_token in words:\n",
        "        ix = words.index(tokenizer.pad_token)\n",
        "        words = words[:ix]\n",
        "        scores = scores[:ix, :ix]\n",
        "\n",
        "    with warnings.catch_warnings():\n",
        "        warnings.simplefilter('ignore')\n",
        "        fig, ax = plt.subplots()\n",
        "        heatmap = ax.pcolor(scores, cmap='Blues_r')\n",
        "\n",
        "        ax.set_xticklabels(words, minor=False, rotation='vertical')\n",
        "        ax.set_yticklabels(words, minor=False)\n",
        "\n",
        "        ax.xaxis.tick_top()\n",
        "        ax.set_xticks(np.arange(scores.shape[1]) + 0.5, minor=False)\n",
        "        ax.set_yticks(np.arange(scores.shape[0]) + 0.5, minor=False)\n",
        "        ax.invert_yaxis()\n",
        "\n",
        "        plt.colorbar(heatmap)"
      ]
    },
    {
      "cell_type": "markdown",
      "metadata": {
        "id": "frpbILR1JlHn"
      },
      "source": [
        "For instance, this code shows how head 1 in layer 3 attends to the next token as exemplified in Figure 1 in the paper."
      ]
    },
    {
      "cell_type": "code",
      "execution_count": 10,
      "metadata": {
        "id": "JP5AxmhHJlHn",
        "colab": {
          "base_uri": "https://localhost:8080/",
          "height": 498
        },
        "outputId": "8487bc86-6983-42a1-b744-70c52f743813"
      },
      "outputs": [
        {
          "output_type": "display_data",
          "data": {
            "text/plain": [
              "<Figure size 800x550 with 2 Axes>"
            ],
            "image/svg+xml": "<?xml version=\"1.0\" encoding=\"utf-8\" standalone=\"no\"?>\n<!DOCTYPE svg PUBLIC \"-//W3C//DTD SVG 1.1//EN\"\n  \"http://www.w3.org/Graphics/SVG/1.1/DTD/svg11.dtd\">\n<svg xmlns:xlink=\"http://www.w3.org/1999/xlink\" width=\"468.6735pt\" height=\"358.0075pt\" viewBox=\"0 0 468.6735 358.0075\" xmlns=\"http://www.w3.org/2000/svg\" version=\"1.1\">\n <metadata>\n  <rdf:RDF xmlns:dc=\"http://purl.org/dc/elements/1.1/\" xmlns:cc=\"http://creativecommons.org/ns#\" xmlns:rdf=\"http://www.w3.org/1999/02/22-rdf-syntax-ns#\">\n   <cc:Work>\n    <dc:type rdf:resource=\"http://purl.org/dc/dcmitype/StillImage\"/>\n    <dc:date>2024-04-12T09:14:57.460355</dc:date>\n    <dc:format>image/svg+xml</dc:format>\n    <dc:creator>\n     <cc:Agent>\n      <dc:title>Matplotlib v3.7.1, https://matplotlib.org/</dc:title>\n     </cc:Agent>\n    </dc:creator>\n   </cc:Work>\n  </rdf:RDF>\n </metadata>\n <defs>\n  <style type=\"text/css\">*{stroke-linejoin: round; stroke-linecap: butt}</style>\n </defs>\n <g id=\"figure_1\">\n  <g id=\"patch_1\">\n   <path d=\"M 0 358.0075 \nL 468.6735 358.0075 \nL 468.6735 0 \nL 0 0 \nz\n\" style=\"fill: #ffffff\"/>\n  </g>\n  <g id=\"axes_1\">\n   <g id=\"patch_2\">\n    <path d=\"M 45.8875 350.8075 \nL 403.0075 350.8075 \nL 403.0075 45.8875 \nL 45.8875 45.8875 \nz\n\" style=\"fill: #eaeaf2\"/>\n   </g>\n   <g id=\"matplotlib.axis_1\">\n    <g id=\"xtick_1\">\n     <g id=\"line2d_1\">\n      <path d=\"M 71.396071 350.8075 \nL 71.396071 45.8875 \n\" clip-path=\"url(#p9a36bf0b92)\" style=\"fill: none; stroke: #ffffff; stroke-linecap: round\"/>\n     </g>\n     <g id=\"line2d_2\"/>\n     <g id=\"text_1\">\n      <!-- [CLS] -->\n      <g style=\"fill: #262626\" transform=\"translate(73.982009 38.8875) rotate(-90) scale(0.1 -0.1)\">\n       <defs>\n        <path id=\"LiberationSans-5b\" d=\"M 456 -1328 \nL 456 4638 \nL 1728 4638 \nL 1728 4234 \nL 1000 4234 \nL 1000 -925 \nL 1728 -925 \nL 1728 -1328 \nL 456 -1328 \nz\n\" transform=\"scale(0.015625)\"/>\n        <path id=\"LiberationSans-43\" d=\"M 2475 3981 \nQ 2100 3981 1811 3856 \nQ 1522 3731 1326 3500 \nQ 1131 3269 1031 2944 \nQ 931 2619 931 2222 \nQ 931 1825 1039 1495 \nQ 1147 1166 1348 928 \nQ 1550 691 1842 559 \nQ 2134 428 2500 428 \nQ 2756 428 2967 495 \nQ 3178 563 3348 684 \nQ 3519 806 3653 973 \nQ 3788 1141 3891 1344 \nL 4378 1100 \nQ 4259 853 4084 640 \nQ 3909 428 3673 272 \nQ 3438 116 3139 26 \nQ 2841 -63 2472 -63 \nQ 1938 -63 1536 107 \nQ 1134 278 864 583 \nQ 594 888 459 1306 \nQ 325 1725 325 2222 \nQ 325 2738 467 3153 \nQ 609 3569 882 3861 \nQ 1156 4153 1556 4311 \nQ 1956 4469 2469 4469 \nQ 3172 4469 3644 4194 \nQ 4116 3919 4338 3378 \nL 3772 3191 \nQ 3709 3347 3603 3489 \nQ 3497 3631 3337 3740 \nQ 3178 3850 2964 3915 \nQ 2750 3981 2475 3981 \nz\n\" transform=\"scale(0.015625)\"/>\n        <path id=\"LiberationSans-4c\" d=\"M 525 0 \nL 525 4403 \nL 1122 4403 \nL 1122 488 \nL 3347 488 \nL 3347 0 \nL 525 0 \nz\n\" transform=\"scale(0.015625)\"/>\n        <path id=\"LiberationSans-53\" d=\"M 3975 1216 \nQ 3975 938 3867 703 \nQ 3759 469 3534 298 \nQ 3309 128 2967 32 \nQ 2625 -63 2156 -63 \nQ 1334 -63 875 225 \nQ 416 513 291 1056 \nL 869 1172 \nQ 913 1000 1003 859 \nQ 1094 719 1248 617 \nQ 1403 516 1631 459 \nQ 1859 403 2178 403 \nQ 2444 403 2666 448 \nQ 2888 494 3047 587 \nQ 3206 681 3295 829 \nQ 3384 978 3384 1184 \nQ 3384 1400 3286 1534 \nQ 3188 1669 3009 1756 \nQ 2831 1844 2584 1903 \nQ 2338 1963 2038 2031 \nQ 1853 2072 1667 2120 \nQ 1481 2169 1311 2236 \nQ 1141 2303 991 2393 \nQ 841 2484 731 2611 \nQ 622 2738 559 2905 \nQ 497 3072 497 3291 \nQ 497 3603 623 3826 \nQ 750 4050 975 4194 \nQ 1200 4338 1506 4403 \nQ 1813 4469 2169 4469 \nQ 2578 4469 2868 4405 \nQ 3159 4341 3359 4212 \nQ 3559 4084 3679 3895 \nQ 3800 3706 3872 3456 \nL 3284 3353 \nQ 3241 3513 3158 3638 \nQ 3075 3763 2940 3847 \nQ 2806 3931 2614 3975 \nQ 2422 4019 2163 4019 \nQ 1856 4019 1648 3964 \nQ 1441 3909 1314 3815 \nQ 1188 3722 1133 3595 \nQ 1078 3469 1078 3322 \nQ 1078 3125 1176 2998 \nQ 1275 2872 1444 2787 \nQ 1613 2703 1834 2647 \nQ 2056 2591 2306 2534 \nQ 2509 2488 2711 2439 \nQ 2913 2391 3097 2323 \nQ 3281 2256 3442 2165 \nQ 3603 2075 3722 1944 \nQ 3841 1813 3908 1634 \nQ 3975 1456 3975 1216 \nz\n\" transform=\"scale(0.015625)\"/>\n        <path id=\"LiberationSans-5d\" d=\"M 50 -1328 \nL 50 -925 \nL 778 -925 \nL 778 4234 \nL 50 4234 \nL 50 4638 \nL 1322 4638 \nL 1322 -1328 \nL 50 -1328 \nz\n\" transform=\"scale(0.015625)\"/>\n       </defs>\n       <use xlink:href=\"#LiberationSans-5b\"/>\n       <use xlink:href=\"#LiberationSans-43\" x=\"27.783203\"/>\n       <use xlink:href=\"#LiberationSans-4c\" x=\"100\"/>\n       <use xlink:href=\"#LiberationSans-53\" x=\"155.615234\"/>\n       <use xlink:href=\"#LiberationSans-5d\" x=\"222.314453\"/>\n      </g>\n     </g>\n    </g>\n    <g id=\"xtick_2\">\n     <g id=\"line2d_3\">\n      <path d=\"M 122.413214 350.8075 \nL 122.413214 45.8875 \n\" clip-path=\"url(#p9a36bf0b92)\" style=\"fill: none; stroke: #ffffff; stroke-linecap: round\"/>\n     </g>\n     <g id=\"line2d_4\"/>\n     <g id=\"text_2\">\n      <!-- the -->\n      <g style=\"fill: #262626\" transform=\"translate(124.999152 38.8875) rotate(-90) scale(0.1 -0.1)\">\n       <defs>\n        <path id=\"LiberationSans-74\" d=\"M 1731 25 \nQ 1603 -9 1470 -29 \nQ 1338 -50 1163 -50 \nQ 488 -50 488 716 \nL 488 2972 \nL 97 2972 \nL 97 3381 \nL 509 3381 \nL 675 4138 \nL 1050 4138 \nL 1050 3381 \nL 1675 3381 \nL 1675 2972 \nL 1050 2972 \nL 1050 838 \nQ 1050 594 1129 495 \nQ 1209 397 1406 397 \nQ 1488 397 1564 409 \nQ 1641 422 1731 441 \nL 1731 25 \nz\n\" transform=\"scale(0.015625)\"/>\n        <path id=\"LiberationSans-68\" d=\"M 991 2803 \nQ 1084 2975 1193 3095 \nQ 1303 3216 1434 3294 \nQ 1566 3372 1722 3408 \nQ 1878 3444 2072 3444 \nQ 2397 3444 2605 3356 \nQ 2813 3269 2933 3111 \nQ 3053 2953 3098 2734 \nQ 3144 2516 3144 2253 \nL 3144 0 \nL 2578 0 \nL 2578 2144 \nQ 2578 2359 2551 2521 \nQ 2525 2684 2450 2792 \nQ 2375 2900 2237 2954 \nQ 2100 3009 1881 3009 \nQ 1681 3009 1520 2937 \nQ 1359 2866 1245 2734 \nQ 1131 2603 1068 2415 \nQ 1006 2228 1006 1994 \nL 1006 0 \nL 444 0 \nL 444 4638 \nL 1006 4638 \nL 1006 3431 \nQ 1006 3328 1003 3225 \nQ 1000 3122 995 3034 \nQ 991 2947 987 2886 \nQ 984 2825 981 2803 \nL 991 2803 \nz\n\" transform=\"scale(0.015625)\"/>\n        <path id=\"LiberationSans-65\" d=\"M 863 1572 \nQ 863 1306 917 1082 \nQ 972 859 1086 698 \nQ 1200 538 1378 448 \nQ 1556 359 1806 359 \nQ 2172 359 2392 506 \nQ 2613 653 2691 878 \nL 3184 738 \nQ 3131 597 3036 455 \nQ 2941 313 2781 198 \nQ 2622 84 2383 10 \nQ 2144 -63 1806 -63 \nQ 1056 -63 664 384 \nQ 272 831 272 1713 \nQ 272 2188 390 2517 \nQ 509 2847 715 3053 \nQ 922 3259 1197 3351 \nQ 1472 3444 1784 3444 \nQ 2209 3444 2495 3306 \nQ 2781 3169 2954 2926 \nQ 3128 2684 3201 2356 \nQ 3275 2028 3275 1647 \nL 3275 1572 \nL 863 1572 \nz\nM 2694 2003 \nQ 2647 2538 2422 2783 \nQ 2197 3028 1775 3028 \nQ 1634 3028 1479 2983 \nQ 1325 2938 1194 2822 \nQ 1063 2706 972 2507 \nQ 881 2309 869 2003 \nL 2694 2003 \nz\n\" transform=\"scale(0.015625)\"/>\n       </defs>\n       <use xlink:href=\"#LiberationSans-74\"/>\n       <use xlink:href=\"#LiberationSans-68\" x=\"27.783203\"/>\n       <use xlink:href=\"#LiberationSans-65\" x=\"83.398438\"/>\n      </g>\n     </g>\n    </g>\n    <g id=\"xtick_3\">\n     <g id=\"line2d_5\">\n      <path d=\"M 173.430357 350.8075 \nL 173.430357 45.8875 \n\" clip-path=\"url(#p9a36bf0b92)\" style=\"fill: none; stroke: #ffffff; stroke-linecap: round\"/>\n     </g>\n     <g id=\"line2d_6\"/>\n     <g id=\"text_3\">\n      <!-- sun -->\n      <g style=\"fill: #262626\" transform=\"translate(176.016295 38.8875) rotate(-90) scale(0.1 -0.1)\">\n       <defs>\n        <path id=\"LiberationSans-73\" d=\"M 2969 934 \nQ 2969 697 2876 511 \nQ 2784 325 2609 198 \nQ 2434 72 2179 4 \nQ 1925 -63 1597 -63 \nQ 1303 -63 1067 -17 \nQ 831 28 653 128 \nQ 475 228 354 392 \nQ 234 556 178 794 \nL 675 891 \nQ 747 619 972 492 \nQ 1197 366 1597 366 \nQ 1778 366 1929 391 \nQ 2081 416 2190 477 \nQ 2300 538 2361 639 \nQ 2422 741 2422 891 \nQ 2422 1044 2350 1142 \nQ 2278 1241 2150 1306 \nQ 2022 1372 1839 1420 \nQ 1656 1469 1438 1528 \nQ 1234 1581 1034 1647 \nQ 834 1713 673 1820 \nQ 513 1928 413 2087 \nQ 313 2247 313 2488 \nQ 313 2950 642 3192 \nQ 972 3434 1603 3434 \nQ 2163 3434 2492 3237 \nQ 2822 3041 2909 2606 \nL 2403 2544 \nQ 2375 2675 2300 2764 \nQ 2225 2853 2119 2908 \nQ 2013 2963 1880 2986 \nQ 1747 3009 1603 3009 \nQ 1222 3009 1040 2893 \nQ 859 2778 859 2544 \nQ 859 2406 926 2317 \nQ 994 2228 1114 2167 \nQ 1234 2106 1403 2061 \nQ 1572 2016 1775 1966 \nQ 1909 1931 2050 1892 \nQ 2191 1853 2323 1798 \nQ 2456 1744 2573 1670 \nQ 2691 1597 2778 1494 \nQ 2866 1391 2917 1253 \nQ 2969 1116 2969 934 \nz\n\" transform=\"scale(0.015625)\"/>\n        <path id=\"LiberationSans-75\" d=\"M 981 3381 \nL 981 1238 \nQ 981 991 1017 825 \nQ 1053 659 1134 557 \nQ 1216 456 1348 414 \nQ 1481 372 1678 372 \nQ 1878 372 2039 442 \nQ 2200 513 2314 645 \nQ 2428 778 2490 973 \nQ 2553 1169 2553 1422 \nL 2553 3381 \nL 3116 3381 \nL 3116 722 \nQ 3116 616 3117 498 \nQ 3119 381 3122 276 \nQ 3125 172 3128 97 \nQ 3131 22 3134 0 \nL 2603 0 \nQ 2600 16 2597 84 \nQ 2594 153 2589 242 \nQ 2584 331 2581 423 \nQ 2578 516 2578 578 \nL 2569 578 \nQ 2488 431 2391 312 \nQ 2294 194 2166 111 \nQ 2038 28 1872 -17 \nQ 1706 -63 1488 -63 \nQ 1206 -63 1003 6 \nQ 800 75 669 219 \nQ 538 363 477 588 \nQ 416 813 416 1128 \nL 416 3381 \nL 981 3381 \nz\n\" transform=\"scale(0.015625)\"/>\n        <path id=\"LiberationSans-6e\" d=\"M 2578 0 \nL 2578 2144 \nQ 2578 2391 2542 2556 \nQ 2506 2722 2425 2823 \nQ 2344 2925 2211 2967 \nQ 2078 3009 1881 3009 \nQ 1681 3009 1520 2939 \nQ 1359 2869 1245 2736 \nQ 1131 2603 1068 2408 \nQ 1006 2213 1006 1959 \nL 1006 0 \nL 444 0 \nL 444 2659 \nQ 444 2766 442 2883 \nQ 441 3000 437 3104 \nQ 434 3209 431 3284 \nQ 428 3359 425 3381 \nL 956 3381 \nQ 959 3366 962 3297 \nQ 966 3228 970 3139 \nQ 975 3050 978 2958 \nQ 981 2866 981 2803 \nL 991 2803 \nQ 1072 2950 1169 3069 \nQ 1266 3188 1394 3270 \nQ 1522 3353 1687 3398 \nQ 1853 3444 2072 3444 \nQ 2353 3444 2556 3375 \nQ 2759 3306 2890 3162 \nQ 3022 3019 3083 2792 \nQ 3144 2566 3144 2253 \nL 3144 0 \nL 2578 0 \nz\n\" transform=\"scale(0.015625)\"/>\n       </defs>\n       <use xlink:href=\"#LiberationSans-73\"/>\n       <use xlink:href=\"#LiberationSans-75\" x=\"50\"/>\n       <use xlink:href=\"#LiberationSans-6e\" x=\"105.615234\"/>\n      </g>\n     </g>\n    </g>\n    <g id=\"xtick_4\">\n     <g id=\"line2d_7\">\n      <path d=\"M 224.4475 350.8075 \nL 224.4475 45.8875 \n\" clip-path=\"url(#p9a36bf0b92)\" style=\"fill: none; stroke: #ffffff; stroke-linecap: round\"/>\n     </g>\n     <g id=\"line2d_8\"/>\n     <g id=\"text_4\">\n      <!-- is -->\n      <g style=\"fill: #262626\" transform=\"translate(227.033438 38.8875) rotate(-90) scale(0.1 -0.1)\">\n       <defs>\n        <path id=\"LiberationSans-69\" d=\"M 428 4100 \nL 428 4638 \nL 991 4638 \nL 991 4100 \nL 428 4100 \nz\nM 428 0 \nL 428 3381 \nL 991 3381 \nL 991 0 \nL 428 0 \nz\n\" transform=\"scale(0.015625)\"/>\n       </defs>\n       <use xlink:href=\"#LiberationSans-69\"/>\n       <use xlink:href=\"#LiberationSans-73\" x=\"22.216797\"/>\n      </g>\n     </g>\n    </g>\n    <g id=\"xtick_5\">\n     <g id=\"line2d_9\">\n      <path d=\"M 275.464643 350.8075 \nL 275.464643 45.8875 \n\" clip-path=\"url(#p9a36bf0b92)\" style=\"fill: none; stroke: #ffffff; stroke-linecap: round\"/>\n     </g>\n     <g id=\"line2d_10\"/>\n     <g id=\"text_5\">\n      <!-- shining -->\n      <g style=\"fill: #262626\" transform=\"translate(278.05058 38.8875) rotate(-90) scale(0.1 -0.1)\">\n       <defs>\n        <path id=\"LiberationSans-67\" d=\"M 1713 -1328 \nQ 1422 -1328 1197 -1268 \nQ 972 -1209 812 -1098 \nQ 653 -988 553 -834 \nQ 453 -681 409 -494 \nL 975 -413 \nQ 1031 -647 1223 -773 \nQ 1416 -900 1728 -900 \nQ 1919 -900 2075 -847 \nQ 2231 -794 2340 -676 \nQ 2450 -559 2509 -371 \nQ 2569 -184 2569 84 \nL 2569 628 \nL 2563 628 \nQ 2500 500 2408 383 \nQ 2316 266 2183 175 \nQ 2050 84 1875 29 \nQ 1700 -25 1475 -25 \nQ 1153 -25 923 83 \nQ 694 191 548 406 \nQ 403 622 336 942 \nQ 269 1263 269 1684 \nQ 269 2091 336 2416 \nQ 403 2741 554 2967 \nQ 706 3194 948 3314 \nQ 1191 3434 1538 3434 \nQ 1897 3434 2161 3270 \nQ 2425 3106 2569 2803 \nL 2575 2803 \nQ 2575 2881 2579 2978 \nQ 2584 3075 2589 3161 \nQ 2594 3247 2600 3309 \nQ 2606 3372 2613 3381 \nL 3147 3381 \nQ 3144 3353 3141 3286 \nQ 3138 3219 3134 3125 \nQ 3131 3031 3129 2917 \nQ 3128 2803 3128 2681 \nL 3128 97 \nQ 3128 -613 2779 -970 \nQ 2431 -1328 1713 -1328 \nz\nM 2569 1691 \nQ 2569 2044 2492 2295 \nQ 2416 2547 2291 2706 \nQ 2166 2866 2005 2941 \nQ 1844 3016 1675 3016 \nQ 1459 3016 1304 2941 \nQ 1150 2866 1048 2705 \nQ 947 2544 898 2292 \nQ 850 2041 850 1691 \nQ 850 1325 898 1076 \nQ 947 828 1047 675 \nQ 1147 522 1300 456 \nQ 1453 391 1666 391 \nQ 1834 391 1995 462 \nQ 2156 534 2284 690 \nQ 2413 847 2491 1094 \nQ 2569 1341 2569 1691 \nz\n\" transform=\"scale(0.015625)\"/>\n       </defs>\n       <use xlink:href=\"#LiberationSans-73\"/>\n       <use xlink:href=\"#LiberationSans-68\" x=\"50\"/>\n       <use xlink:href=\"#LiberationSans-69\" x=\"105.615234\"/>\n       <use xlink:href=\"#LiberationSans-6e\" x=\"127.832031\"/>\n       <use xlink:href=\"#LiberationSans-69\" x=\"183.447266\"/>\n       <use xlink:href=\"#LiberationSans-6e\" x=\"205.664062\"/>\n       <use xlink:href=\"#LiberationSans-67\" x=\"261.279297\"/>\n      </g>\n     </g>\n    </g>\n    <g id=\"xtick_6\">\n     <g id=\"line2d_11\">\n      <path d=\"M 326.481786 350.8075 \nL 326.481786 45.8875 \n\" clip-path=\"url(#p9a36bf0b92)\" style=\"fill: none; stroke: #ffffff; stroke-linecap: round\"/>\n     </g>\n     <g id=\"line2d_12\"/>\n     <g id=\"text_6\">\n      <!-- . -->\n      <g style=\"fill: #262626\" transform=\"translate(329.067723 38.8875) rotate(-90) scale(0.1 -0.1)\">\n       <defs>\n        <path id=\"LiberationSans-2e\" d=\"M 584 0 \nL 584 684 \nL 1194 684 \nL 1194 0 \nL 584 0 \nz\n\" transform=\"scale(0.015625)\"/>\n       </defs>\n       <use xlink:href=\"#LiberationSans-2e\"/>\n      </g>\n     </g>\n    </g>\n    <g id=\"xtick_7\">\n     <g id=\"line2d_13\">\n      <path d=\"M 377.498929 350.8075 \nL 377.498929 45.8875 \n\" clip-path=\"url(#p9a36bf0b92)\" style=\"fill: none; stroke: #ffffff; stroke-linecap: round\"/>\n     </g>\n     <g id=\"line2d_14\"/>\n     <g id=\"text_7\">\n      <!-- [SEP] -->\n      <g style=\"fill: #262626\" transform=\"translate(380.084866 38.8875) rotate(-90) scale(0.1 -0.1)\">\n       <defs>\n        <path id=\"LiberationSans-45\" d=\"M 525 0 \nL 525 4403 \nL 3866 4403 \nL 3866 3916 \nL 1122 3916 \nL 1122 2503 \nL 3678 2503 \nL 3678 2022 \nL 1122 2022 \nL 1122 488 \nL 3994 488 \nL 3994 0 \nL 525 0 \nz\n\" transform=\"scale(0.015625)\"/>\n        <path id=\"LiberationSans-50\" d=\"M 3931 3078 \nQ 3931 2791 3836 2542 \nQ 3741 2294 3552 2111 \nQ 3363 1928 3078 1822 \nQ 2794 1716 2416 1716 \nL 1122 1716 \nL 1122 0 \nL 525 0 \nL 525 4403 \nL 2378 4403 \nQ 2769 4403 3059 4308 \nQ 3350 4213 3544 4039 \nQ 3738 3866 3834 3620 \nQ 3931 3375 3931 3078 \nz\nM 3331 3072 \nQ 3331 3491 3075 3708 \nQ 2819 3925 2306 3925 \nL 1122 3925 \nL 1122 2188 \nL 2331 2188 \nQ 2847 2188 3089 2416 \nQ 3331 2644 3331 3072 \nz\n\" transform=\"scale(0.015625)\"/>\n       </defs>\n       <use xlink:href=\"#LiberationSans-5b\"/>\n       <use xlink:href=\"#LiberationSans-53\" x=\"27.783203\"/>\n       <use xlink:href=\"#LiberationSans-45\" x=\"94.482422\"/>\n       <use xlink:href=\"#LiberationSans-50\" x=\"161.181641\"/>\n       <use xlink:href=\"#LiberationSans-5d\" x=\"227.880859\"/>\n      </g>\n     </g>\n    </g>\n   </g>\n   <g id=\"matplotlib.axis_2\">\n    <g id=\"ytick_1\">\n     <g id=\"line2d_15\">\n      <path d=\"M 45.8875 67.6675 \nL 403.0075 67.6675 \n\" clip-path=\"url(#p9a36bf0b92)\" style=\"fill: none; stroke: #ffffff; stroke-linecap: round\"/>\n     </g>\n     <g id=\"line2d_16\"/>\n     <g id=\"text_8\">\n      <!-- [CLS] -->\n      <g style=\"fill: #262626\" transform=\"translate(13.878125 71.290937) scale(0.1 -0.1)\">\n       <use xlink:href=\"#LiberationSans-5b\"/>\n       <use xlink:href=\"#LiberationSans-43\" x=\"27.783203\"/>\n       <use xlink:href=\"#LiberationSans-4c\" x=\"100\"/>\n       <use xlink:href=\"#LiberationSans-53\" x=\"155.615234\"/>\n       <use xlink:href=\"#LiberationSans-5d\" x=\"222.314453\"/>\n      </g>\n     </g>\n    </g>\n    <g id=\"ytick_2\">\n     <g id=\"line2d_17\">\n      <path d=\"M 45.8875 111.2275 \nL 403.0075 111.2275 \n\" clip-path=\"url(#p9a36bf0b92)\" style=\"fill: none; stroke: #ffffff; stroke-linecap: round\"/>\n     </g>\n     <g id=\"line2d_18\"/>\n     <g id=\"text_9\">\n      <!-- the -->\n      <g style=\"fill: #262626\" transform=\"translate(24.9875 114.850937) scale(0.1 -0.1)\">\n       <use xlink:href=\"#LiberationSans-74\"/>\n       <use xlink:href=\"#LiberationSans-68\" x=\"27.783203\"/>\n       <use xlink:href=\"#LiberationSans-65\" x=\"83.398438\"/>\n      </g>\n     </g>\n    </g>\n    <g id=\"ytick_3\">\n     <g id=\"line2d_19\">\n      <path d=\"M 45.8875 154.7875 \nL 403.0075 154.7875 \n\" clip-path=\"url(#p9a36bf0b92)\" style=\"fill: none; stroke: #ffffff; stroke-linecap: round\"/>\n     </g>\n     <g id=\"line2d_20\"/>\n     <g id=\"text_10\">\n      <!-- sun -->\n      <g style=\"fill: #262626\" transform=\"translate(22.765625 158.410937) scale(0.1 -0.1)\">\n       <use xlink:href=\"#LiberationSans-73\"/>\n       <use xlink:href=\"#LiberationSans-75\" x=\"50\"/>\n       <use xlink:href=\"#LiberationSans-6e\" x=\"105.615234\"/>\n      </g>\n     </g>\n    </g>\n    <g id=\"ytick_4\">\n     <g id=\"line2d_21\">\n      <path d=\"M 45.8875 198.3475 \nL 403.0075 198.3475 \n\" clip-path=\"url(#p9a36bf0b92)\" style=\"fill: none; stroke: #ffffff; stroke-linecap: round\"/>\n     </g>\n     <g id=\"line2d_22\"/>\n     <g id=\"text_11\">\n      <!-- is -->\n      <g style=\"fill: #262626\" transform=\"translate(31.665625 201.970937) scale(0.1 -0.1)\">\n       <use xlink:href=\"#LiberationSans-69\"/>\n       <use xlink:href=\"#LiberationSans-73\" x=\"22.216797\"/>\n      </g>\n     </g>\n    </g>\n    <g id=\"ytick_5\">\n     <g id=\"line2d_23\">\n      <path d=\"M 45.8875 241.9075 \nL 403.0075 241.9075 \n\" clip-path=\"url(#p9a36bf0b92)\" style=\"fill: none; stroke: #ffffff; stroke-linecap: round\"/>\n     </g>\n     <g id=\"line2d_24\"/>\n     <g id=\"text_12\">\n      <!-- shining -->\n      <g style=\"fill: #262626\" transform=\"translate(7.2 245.530937) scale(0.1 -0.1)\">\n       <use xlink:href=\"#LiberationSans-73\"/>\n       <use xlink:href=\"#LiberationSans-68\" x=\"50\"/>\n       <use xlink:href=\"#LiberationSans-69\" x=\"105.615234\"/>\n       <use xlink:href=\"#LiberationSans-6e\" x=\"127.832031\"/>\n       <use xlink:href=\"#LiberationSans-69\" x=\"183.447266\"/>\n       <use xlink:href=\"#LiberationSans-6e\" x=\"205.664062\"/>\n       <use xlink:href=\"#LiberationSans-67\" x=\"261.279297\"/>\n      </g>\n     </g>\n    </g>\n    <g id=\"ytick_6\">\n     <g id=\"line2d_25\">\n      <path d=\"M 45.8875 285.4675 \nL 403.0075 285.4675 \n\" clip-path=\"url(#p9a36bf0b92)\" style=\"fill: none; stroke: #ffffff; stroke-linecap: round\"/>\n     </g>\n     <g id=\"line2d_26\"/>\n     <g id=\"text_13\">\n      <!-- . -->\n      <g style=\"fill: #262626\" transform=\"translate(36.109375 289.090937) scale(0.1 -0.1)\">\n       <use xlink:href=\"#LiberationSans-2e\"/>\n      </g>\n     </g>\n    </g>\n    <g id=\"ytick_7\">\n     <g id=\"line2d_27\">\n      <path d=\"M 45.8875 329.0275 \nL 403.0075 329.0275 \n\" clip-path=\"url(#p9a36bf0b92)\" style=\"fill: none; stroke: #ffffff; stroke-linecap: round\"/>\n     </g>\n     <g id=\"line2d_28\"/>\n     <g id=\"text_14\">\n      <!-- [SEP] -->\n      <g style=\"fill: #262626\" transform=\"translate(13.320312 332.650937) scale(0.1 -0.1)\">\n       <use xlink:href=\"#LiberationSans-5b\"/>\n       <use xlink:href=\"#LiberationSans-53\" x=\"27.783203\"/>\n       <use xlink:href=\"#LiberationSans-45\" x=\"94.482422\"/>\n       <use xlink:href=\"#LiberationSans-50\" x=\"161.181641\"/>\n       <use xlink:href=\"#LiberationSans-5d\" x=\"227.880859\"/>\n      </g>\n     </g>\n    </g>\n   </g>\n   <g id=\"PolyCollection_1\">\n    <path d=\"M 45.8875 45.8875 \nL 45.8875 89.4475 \nL 96.904643 89.4475 \nL 96.904643 45.8875 \nL 45.8875 45.8875 \nz\n\" clip-path=\"url(#p9a36bf0b92)\" style=\"fill: #f5fafe\"/>\n    <path d=\"M 96.904643 45.8875 \nL 96.904643 89.4475 \nL 147.921786 89.4475 \nL 147.921786 45.8875 \nL 96.904643 45.8875 \nz\n\" clip-path=\"url(#p9a36bf0b92)\" style=\"fill: #08306b\"/>\n    <path d=\"M 147.921786 45.8875 \nL 147.921786 89.4475 \nL 198.938929 89.4475 \nL 198.938929 45.8875 \nL 147.921786 45.8875 \nz\n\" clip-path=\"url(#p9a36bf0b92)\" style=\"fill: #08306b\"/>\n    <path d=\"M 198.938929 45.8875 \nL 198.938929 89.4475 \nL 249.956071 89.4475 \nL 249.956071 45.8875 \nL 198.938929 45.8875 \nz\n\" clip-path=\"url(#p9a36bf0b92)\" style=\"fill: #08306b\"/>\n    <path d=\"M 249.956071 45.8875 \nL 249.956071 89.4475 \nL 300.973214 89.4475 \nL 300.973214 45.8875 \nL 249.956071 45.8875 \nz\n\" clip-path=\"url(#p9a36bf0b92)\" style=\"fill: #08306b\"/>\n    <path d=\"M 300.973214 45.8875 \nL 300.973214 89.4475 \nL 351.990357 89.4475 \nL 351.990357 45.8875 \nL 300.973214 45.8875 \nz\n\" clip-path=\"url(#p9a36bf0b92)\" style=\"fill: #08306b\"/>\n    <path d=\"M 351.990357 45.8875 \nL 351.990357 89.4475 \nL 403.0075 89.4475 \nL 403.0075 45.8875 \nL 351.990357 45.8875 \nz\n\" clip-path=\"url(#p9a36bf0b92)\" style=\"fill: #08316d\"/>\n    <path d=\"M 45.8875 89.4475 \nL 45.8875 133.0075 \nL 96.904643 133.0075 \nL 96.904643 89.4475 \nL 45.8875 89.4475 \nz\n\" clip-path=\"url(#p9a36bf0b92)\" style=\"fill: #08306b\"/>\n    <path d=\"M 96.904643 89.4475 \nL 96.904643 133.0075 \nL 147.921786 133.0075 \nL 147.921786 89.4475 \nL 96.904643 89.4475 \nz\n\" clip-path=\"url(#p9a36bf0b92)\" style=\"fill: #08306b\"/>\n    <path d=\"M 147.921786 89.4475 \nL 147.921786 133.0075 \nL 198.938929 133.0075 \nL 198.938929 89.4475 \nL 147.921786 89.4475 \nz\n\" clip-path=\"url(#p9a36bf0b92)\" style=\"fill: #f7fbff\"/>\n    <path d=\"M 198.938929 89.4475 \nL 198.938929 133.0075 \nL 249.956071 133.0075 \nL 249.956071 89.4475 \nL 198.938929 89.4475 \nz\n\" clip-path=\"url(#p9a36bf0b92)\" style=\"fill: #08306b\"/>\n    <path d=\"M 249.956071 89.4475 \nL 249.956071 133.0075 \nL 300.973214 133.0075 \nL 300.973214 89.4475 \nL 249.956071 89.4475 \nz\n\" clip-path=\"url(#p9a36bf0b92)\" style=\"fill: #08306b\"/>\n    <path d=\"M 300.973214 89.4475 \nL 300.973214 133.0075 \nL 351.990357 133.0075 \nL 351.990357 89.4475 \nL 300.973214 89.4475 \nz\n\" clip-path=\"url(#p9a36bf0b92)\" style=\"fill: #08306b\"/>\n    <path d=\"M 351.990357 89.4475 \nL 351.990357 133.0075 \nL 403.0075 133.0075 \nL 403.0075 89.4475 \nL 351.990357 89.4475 \nz\n\" clip-path=\"url(#p9a36bf0b92)\" style=\"fill: #08306b\"/>\n    <path d=\"M 45.8875 133.0075 \nL 45.8875 176.5675 \nL 96.904643 176.5675 \nL 96.904643 133.0075 \nL 45.8875 133.0075 \nz\n\" clip-path=\"url(#p9a36bf0b92)\" style=\"fill: #08306b\"/>\n    <path d=\"M 96.904643 133.0075 \nL 96.904643 176.5675 \nL 147.921786 176.5675 \nL 147.921786 133.0075 \nL 96.904643 133.0075 \nz\n\" clip-path=\"url(#p9a36bf0b92)\" style=\"fill: #08306b\"/>\n    <path d=\"M 147.921786 133.0075 \nL 147.921786 176.5675 \nL 198.938929 176.5675 \nL 198.938929 133.0075 \nL 147.921786 133.0075 \nz\n\" clip-path=\"url(#p9a36bf0b92)\" style=\"fill: #08306b\"/>\n    <path d=\"M 198.938929 133.0075 \nL 198.938929 176.5675 \nL 249.956071 176.5675 \nL 249.956071 133.0075 \nL 198.938929 133.0075 \nz\n\" clip-path=\"url(#p9a36bf0b92)\" style=\"fill: #f7fbff\"/>\n    <path d=\"M 249.956071 133.0075 \nL 249.956071 176.5675 \nL 300.973214 176.5675 \nL 300.973214 133.0075 \nL 249.956071 133.0075 \nz\n\" clip-path=\"url(#p9a36bf0b92)\" style=\"fill: #08306b\"/>\n    <path d=\"M 300.973214 133.0075 \nL 300.973214 176.5675 \nL 351.990357 176.5675 \nL 351.990357 133.0075 \nL 300.973214 133.0075 \nz\n\" clip-path=\"url(#p9a36bf0b92)\" style=\"fill: #08306b\"/>\n    <path d=\"M 351.990357 133.0075 \nL 351.990357 176.5675 \nL 403.0075 176.5675 \nL 403.0075 133.0075 \nL 351.990357 133.0075 \nz\n\" clip-path=\"url(#p9a36bf0b92)\" style=\"fill: #08306b\"/>\n    <path d=\"M 45.8875 176.5675 \nL 45.8875 220.1275 \nL 96.904643 220.1275 \nL 96.904643 176.5675 \nL 45.8875 176.5675 \nz\n\" clip-path=\"url(#p9a36bf0b92)\" style=\"fill: #08306b\"/>\n    <path d=\"M 96.904643 176.5675 \nL 96.904643 220.1275 \nL 147.921786 220.1275 \nL 147.921786 176.5675 \nL 96.904643 176.5675 \nz\n\" clip-path=\"url(#p9a36bf0b92)\" style=\"fill: #08306b\"/>\n    <path d=\"M 147.921786 176.5675 \nL 147.921786 220.1275 \nL 198.938929 220.1275 \nL 198.938929 176.5675 \nL 147.921786 176.5675 \nz\n\" clip-path=\"url(#p9a36bf0b92)\" style=\"fill: #08306b\"/>\n    <path d=\"M 198.938929 176.5675 \nL 198.938929 220.1275 \nL 249.956071 220.1275 \nL 249.956071 176.5675 \nL 198.938929 176.5675 \nz\n\" clip-path=\"url(#p9a36bf0b92)\" style=\"fill: #08306b\"/>\n    <path d=\"M 249.956071 176.5675 \nL 249.956071 220.1275 \nL 300.973214 220.1275 \nL 300.973214 176.5675 \nL 249.956071 176.5675 \nz\n\" clip-path=\"url(#p9a36bf0b92)\" style=\"fill: #f7fbff\"/>\n    <path d=\"M 300.973214 176.5675 \nL 300.973214 220.1275 \nL 351.990357 220.1275 \nL 351.990357 176.5675 \nL 300.973214 176.5675 \nz\n\" clip-path=\"url(#p9a36bf0b92)\" style=\"fill: #08306b\"/>\n    <path d=\"M 351.990357 176.5675 \nL 351.990357 220.1275 \nL 403.0075 220.1275 \nL 403.0075 176.5675 \nL 351.990357 176.5675 \nz\n\" clip-path=\"url(#p9a36bf0b92)\" style=\"fill: #08306b\"/>\n    <path d=\"M 45.8875 220.1275 \nL 45.8875 263.6875 \nL 96.904643 263.6875 \nL 96.904643 220.1275 \nL 45.8875 220.1275 \nz\n\" clip-path=\"url(#p9a36bf0b92)\" style=\"fill: #08306b\"/>\n    <path d=\"M 96.904643 220.1275 \nL 96.904643 263.6875 \nL 147.921786 263.6875 \nL 147.921786 220.1275 \nL 96.904643 220.1275 \nz\n\" clip-path=\"url(#p9a36bf0b92)\" style=\"fill: #08306b\"/>\n    <path d=\"M 147.921786 220.1275 \nL 147.921786 263.6875 \nL 198.938929 263.6875 \nL 198.938929 220.1275 \nL 147.921786 220.1275 \nz\n\" clip-path=\"url(#p9a36bf0b92)\" style=\"fill: #08306b\"/>\n    <path d=\"M 198.938929 220.1275 \nL 198.938929 263.6875 \nL 249.956071 263.6875 \nL 249.956071 220.1275 \nL 198.938929 220.1275 \nz\n\" clip-path=\"url(#p9a36bf0b92)\" style=\"fill: #08306b\"/>\n    <path d=\"M 249.956071 220.1275 \nL 249.956071 263.6875 \nL 300.973214 263.6875 \nL 300.973214 220.1275 \nL 249.956071 220.1275 \nz\n\" clip-path=\"url(#p9a36bf0b92)\" style=\"fill: #08306b\"/>\n    <path d=\"M 300.973214 220.1275 \nL 300.973214 263.6875 \nL 351.990357 263.6875 \nL 351.990357 220.1275 \nL 300.973214 220.1275 \nz\n\" clip-path=\"url(#p9a36bf0b92)\" style=\"fill: #f7fbff\"/>\n    <path d=\"M 351.990357 220.1275 \nL 351.990357 263.6875 \nL 403.0075 263.6875 \nL 403.0075 220.1275 \nL 351.990357 220.1275 \nz\n\" clip-path=\"url(#p9a36bf0b92)\" style=\"fill: #08306b\"/>\n    <path d=\"M 45.8875 263.6875 \nL 45.8875 307.2475 \nL 96.904643 307.2475 \nL 96.904643 263.6875 \nL 45.8875 263.6875 \nz\n\" clip-path=\"url(#p9a36bf0b92)\" style=\"fill: #08316d\"/>\n    <path d=\"M 96.904643 263.6875 \nL 96.904643 307.2475 \nL 147.921786 307.2475 \nL 147.921786 263.6875 \nL 96.904643 263.6875 \nz\n\" clip-path=\"url(#p9a36bf0b92)\" style=\"fill: #08306b\"/>\n    <path d=\"M 147.921786 263.6875 \nL 147.921786 307.2475 \nL 198.938929 307.2475 \nL 198.938929 263.6875 \nL 147.921786 263.6875 \nz\n\" clip-path=\"url(#p9a36bf0b92)\" style=\"fill: #08306b\"/>\n    <path d=\"M 198.938929 263.6875 \nL 198.938929 307.2475 \nL 249.956071 307.2475 \nL 249.956071 263.6875 \nL 198.938929 263.6875 \nz\n\" clip-path=\"url(#p9a36bf0b92)\" style=\"fill: #08306b\"/>\n    <path d=\"M 249.956071 263.6875 \nL 249.956071 307.2475 \nL 300.973214 307.2475 \nL 300.973214 263.6875 \nL 249.956071 263.6875 \nz\n\" clip-path=\"url(#p9a36bf0b92)\" style=\"fill: #08306b\"/>\n    <path d=\"M 300.973214 263.6875 \nL 300.973214 307.2475 \nL 351.990357 307.2475 \nL 351.990357 263.6875 \nL 300.973214 263.6875 \nz\n\" clip-path=\"url(#p9a36bf0b92)\" style=\"fill: #08306b\"/>\n    <path d=\"M 351.990357 263.6875 \nL 351.990357 307.2475 \nL 403.0075 307.2475 \nL 403.0075 263.6875 \nL 351.990357 263.6875 \nz\n\" clip-path=\"url(#p9a36bf0b92)\" style=\"fill: #f5fafe\"/>\n    <path d=\"M 45.8875 307.2475 \nL 45.8875 350.8075 \nL 96.904643 350.8075 \nL 96.904643 307.2475 \nL 45.8875 307.2475 \nz\n\" clip-path=\"url(#p9a36bf0b92)\" style=\"fill: #f6faff\"/>\n    <path d=\"M 96.904643 307.2475 \nL 96.904643 350.8075 \nL 147.921786 350.8075 \nL 147.921786 307.2475 \nL 96.904643 307.2475 \nz\n\" clip-path=\"url(#p9a36bf0b92)\" style=\"fill: #08306b\"/>\n    <path d=\"M 147.921786 307.2475 \nL 147.921786 350.8075 \nL 198.938929 350.8075 \nL 198.938929 307.2475 \nL 147.921786 307.2475 \nz\n\" clip-path=\"url(#p9a36bf0b92)\" style=\"fill: #08306b\"/>\n    <path d=\"M 198.938929 307.2475 \nL 198.938929 350.8075 \nL 249.956071 350.8075 \nL 249.956071 307.2475 \nL 198.938929 307.2475 \nz\n\" clip-path=\"url(#p9a36bf0b92)\" style=\"fill: #08306b\"/>\n    <path d=\"M 249.956071 307.2475 \nL 249.956071 350.8075 \nL 300.973214 350.8075 \nL 300.973214 307.2475 \nL 249.956071 307.2475 \nz\n\" clip-path=\"url(#p9a36bf0b92)\" style=\"fill: #08306b\"/>\n    <path d=\"M 300.973214 307.2475 \nL 300.973214 350.8075 \nL 351.990357 350.8075 \nL 351.990357 307.2475 \nL 300.973214 307.2475 \nz\n\" clip-path=\"url(#p9a36bf0b92)\" style=\"fill: #08306b\"/>\n    <path d=\"M 351.990357 307.2475 \nL 351.990357 350.8075 \nL 403.0075 350.8075 \nL 403.0075 307.2475 \nL 351.990357 307.2475 \nz\n\" clip-path=\"url(#p9a36bf0b92)\" style=\"fill: #08306b\"/>\n   </g>\n   <g id=\"patch_3\">\n    <path d=\"M 45.8875 350.8075 \nL 45.8875 45.8875 \n\" style=\"fill: none\"/>\n   </g>\n   <g id=\"patch_4\">\n    <path d=\"M 403.0075 350.8075 \nL 403.0075 45.8875 \n\" style=\"fill: none\"/>\n   </g>\n   <g id=\"patch_5\">\n    <path d=\"M 45.8875 350.8075 \nL 403.0075 350.8075 \n\" style=\"fill: none\"/>\n   </g>\n   <g id=\"patch_6\">\n    <path d=\"M 45.8875 45.8875 \nL 403.0075 45.8875 \n\" style=\"fill: none\"/>\n   </g>\n  </g>\n  <g id=\"axes_2\">\n   <g id=\"patch_7\">\n    <path d=\"M 425.3275 350.8075 \nL 440.5735 350.8075 \nL 440.5735 45.8875 \nL 425.3275 45.8875 \nz\n\" style=\"fill: #eaeaf2\"/>\n   </g>\n   <g id=\"matplotlib.axis_3\"/>\n   <g id=\"matplotlib.axis_4\">\n    <g id=\"ytick_8\">\n     <g id=\"line2d_29\"/>\n     <g id=\"text_15\">\n      <!-- 0.2 -->\n      <g style=\"fill: #262626\" transform=\"translate(447.5735 293.446457) scale(0.1 -0.1)\">\n       <defs>\n        <path id=\"LiberationSans-30\" d=\"M 3309 2203 \nQ 3309 1569 3189 1136 \nQ 3069 703 2861 436 \nQ 2653 169 2372 53 \nQ 2091 -63 1772 -63 \nQ 1450 -63 1172 53 \nQ 894 169 689 434 \nQ 484 700 367 1133 \nQ 250 1566 250 2203 \nQ 250 2869 367 3305 \nQ 484 3741 690 4000 \nQ 897 4259 1178 4364 \nQ 1459 4469 1791 4469 \nQ 2106 4469 2382 4364 \nQ 2659 4259 2865 4000 \nQ 3072 3741 3190 3305 \nQ 3309 2869 3309 2203 \nz\nM 2738 2203 \nQ 2738 2728 2675 3076 \nQ 2613 3425 2491 3633 \nQ 2369 3841 2192 3927 \nQ 2016 4013 1791 4013 \nQ 1553 4013 1372 3925 \nQ 1191 3838 1067 3630 \nQ 944 3422 881 3073 \nQ 819 2725 819 2203 \nQ 819 1697 883 1350 \nQ 947 1003 1070 792 \nQ 1194 581 1372 489 \nQ 1550 397 1778 397 \nQ 2000 397 2178 489 \nQ 2356 581 2479 792 \nQ 2603 1003 2670 1350 \nQ 2738 1697 2738 2203 \nz\n\" transform=\"scale(0.015625)\"/>\n        <path id=\"LiberationSans-32\" d=\"M 322 0 \nL 322 397 \nQ 481 763 711 1042 \nQ 941 1322 1194 1548 \nQ 1447 1775 1695 1969 \nQ 1944 2163 2144 2356 \nQ 2344 2550 2467 2762 \nQ 2591 2975 2591 3244 \nQ 2591 3431 2534 3573 \nQ 2478 3716 2372 3812 \nQ 2266 3909 2117 3957 \nQ 1969 4006 1788 4006 \nQ 1619 4006 1470 3959 \nQ 1322 3913 1206 3819 \nQ 1091 3725 1017 3586 \nQ 944 3447 922 3263 \nL 347 3316 \nQ 375 3553 478 3762 \nQ 581 3972 762 4130 \nQ 944 4288 1198 4378 \nQ 1453 4469 1788 4469 \nQ 2116 4469 2372 4391 \nQ 2628 4313 2804 4159 \nQ 2981 4006 3075 3781 \nQ 3169 3556 3169 3263 \nQ 3169 3041 3089 2841 \nQ 3009 2641 2876 2459 \nQ 2744 2278 2569 2109 \nQ 2394 1941 2203 1780 \nQ 2013 1619 1819 1461 \nQ 1625 1303 1454 1143 \nQ 1284 984 1150 820 \nQ 1016 656 941 478 \nL 3238 478 \nL 3238 0 \nL 322 0 \nz\n\" transform=\"scale(0.015625)\"/>\n       </defs>\n       <use xlink:href=\"#LiberationSans-30\"/>\n       <use xlink:href=\"#LiberationSans-2e\" x=\"55.615234\"/>\n       <use xlink:href=\"#LiberationSans-32\" x=\"83.398438\"/>\n      </g>\n     </g>\n    </g>\n    <g id=\"ytick_9\">\n     <g id=\"line2d_30\"/>\n     <g id=\"text_16\">\n      <!-- 0.4 -->\n      <g style=\"fill: #262626\" transform=\"translate(447.5735 232.461968) scale(0.1 -0.1)\">\n       <defs>\n        <path id=\"LiberationSans-34\" d=\"M 2753 997 \nL 2753 0 \nL 2222 0 \nL 2222 997 \nL 147 997 \nL 147 1434 \nL 2163 4403 \nL 2753 4403 \nL 2753 1441 \nL 3372 1441 \nL 3372 997 \nL 2753 997 \nz\nM 2222 3769 \nQ 2216 3753 2191 3708 \nQ 2166 3663 2134 3606 \nQ 2103 3550 2070 3492 \nQ 2038 3434 2013 3397 \nL 884 1734 \nQ 869 1709 839 1668 \nQ 809 1628 778 1586 \nQ 747 1544 715 1503 \nQ 684 1463 666 1441 \nL 2222 1441 \nL 2222 3769 \nz\n\" transform=\"scale(0.015625)\"/>\n       </defs>\n       <use xlink:href=\"#LiberationSans-30\"/>\n       <use xlink:href=\"#LiberationSans-2e\" x=\"55.615234\"/>\n       <use xlink:href=\"#LiberationSans-34\" x=\"83.398438\"/>\n      </g>\n     </g>\n    </g>\n    <g id=\"ytick_10\">\n     <g id=\"line2d_31\"/>\n     <g id=\"text_17\">\n      <!-- 0.6 -->\n      <g style=\"fill: #262626\" transform=\"translate(447.5735 171.47748) scale(0.1 -0.1)\">\n       <defs>\n        <path id=\"LiberationSans-36\" d=\"M 3278 1441 \nQ 3278 1109 3186 832 \nQ 3094 556 2914 357 \nQ 2734 159 2468 48 \nQ 2203 -63 1856 -63 \nQ 1472 -63 1184 84 \nQ 897 231 706 507 \nQ 516 784 420 1186 \nQ 325 1588 325 2100 \nQ 325 2688 433 3131 \nQ 541 3575 744 3872 \nQ 947 4169 1239 4319 \nQ 1531 4469 1900 4469 \nQ 2125 4469 2322 4422 \nQ 2519 4375 2680 4270 \nQ 2841 4166 2962 3994 \nQ 3084 3822 3156 3572 \nL 2619 3475 \nQ 2531 3759 2339 3886 \nQ 2147 4013 1894 4013 \nQ 1663 4013 1475 3903 \nQ 1288 3794 1156 3576 \nQ 1025 3359 954 3031 \nQ 884 2703 884 2266 \nQ 1038 2550 1316 2698 \nQ 1594 2847 1953 2847 \nQ 2253 2847 2497 2750 \nQ 2741 2653 2914 2470 \nQ 3088 2288 3183 2027 \nQ 3278 1766 3278 1441 \nz\nM 2706 1416 \nQ 2706 1644 2650 1828 \nQ 2594 2013 2481 2142 \nQ 2369 2272 2203 2342 \nQ 2038 2413 1819 2413 \nQ 1666 2413 1509 2367 \nQ 1353 2322 1226 2220 \nQ 1100 2119 1020 1953 \nQ 941 1788 941 1550 \nQ 941 1306 1003 1095 \nQ 1066 884 1183 728 \nQ 1300 572 1465 481 \nQ 1631 391 1838 391 \nQ 2041 391 2202 461 \nQ 2363 531 2475 664 \nQ 2588 797 2647 987 \nQ 2706 1178 2706 1416 \nz\n\" transform=\"scale(0.015625)\"/>\n       </defs>\n       <use xlink:href=\"#LiberationSans-30\"/>\n       <use xlink:href=\"#LiberationSans-2e\" x=\"55.615234\"/>\n       <use xlink:href=\"#LiberationSans-36\" x=\"83.398438\"/>\n      </g>\n     </g>\n    </g>\n    <g id=\"ytick_11\">\n     <g id=\"line2d_32\"/>\n     <g id=\"text_18\">\n      <!-- 0.8 -->\n      <g style=\"fill: #262626\" transform=\"translate(447.5735 110.492991) scale(0.1 -0.1)\">\n       <defs>\n        <path id=\"LiberationSans-38\" d=\"M 3281 1228 \nQ 3281 947 3192 711 \nQ 3103 475 2920 303 \nQ 2738 131 2453 34 \nQ 2169 -63 1781 -63 \nQ 1394 -63 1111 34 \nQ 828 131 642 301 \nQ 456 472 367 708 \nQ 278 944 278 1222 \nQ 278 1463 351 1650 \nQ 425 1838 548 1973 \nQ 672 2109 830 2192 \nQ 988 2275 1156 2303 \nL 1156 2316 \nQ 972 2359 826 2456 \nQ 681 2553 582 2689 \nQ 484 2825 432 2990 \nQ 381 3156 381 3341 \nQ 381 3572 470 3776 \nQ 559 3981 734 4136 \nQ 909 4291 1168 4380 \nQ 1428 4469 1769 4469 \nQ 2128 4469 2392 4378 \nQ 2656 4288 2829 4133 \nQ 3003 3978 3087 3772 \nQ 3172 3566 3172 3334 \nQ 3172 3153 3120 2987 \nQ 3069 2822 2970 2686 \nQ 2872 2550 2726 2454 \nQ 2581 2359 2391 2322 \nL 2391 2309 \nQ 2581 2278 2743 2195 \nQ 2906 2113 3025 1977 \nQ 3144 1841 3212 1653 \nQ 3281 1466 3281 1228 \nz\nM 2588 3303 \nQ 2588 3469 2545 3606 \nQ 2503 3744 2406 3842 \nQ 2309 3941 2153 3995 \nQ 1997 4050 1769 4050 \nQ 1547 4050 1394 3995 \nQ 1241 3941 1142 3842 \nQ 1044 3744 1000 3606 \nQ 956 3469 956 3303 \nQ 956 3172 990 3034 \nQ 1025 2897 1115 2784 \nQ 1206 2672 1365 2600 \nQ 1525 2528 1775 2528 \nQ 2041 2528 2202 2600 \nQ 2363 2672 2448 2784 \nQ 2534 2897 2561 3034 \nQ 2588 3172 2588 3303 \nz\nM 2697 1281 \nQ 2697 1441 2653 1589 \nQ 2609 1738 2503 1852 \nQ 2397 1966 2217 2036 \nQ 2038 2106 1769 2106 \nQ 1522 2106 1348 2036 \nQ 1175 1966 1067 1850 \nQ 959 1734 909 1582 \nQ 859 1431 859 1269 \nQ 859 1066 909 898 \nQ 959 731 1068 611 \nQ 1178 491 1356 425 \nQ 1534 359 1788 359 \nQ 2044 359 2219 425 \nQ 2394 491 2500 611 \nQ 2606 731 2651 901 \nQ 2697 1072 2697 1281 \nz\n\" transform=\"scale(0.015625)\"/>\n       </defs>\n       <use xlink:href=\"#LiberationSans-30\"/>\n       <use xlink:href=\"#LiberationSans-2e\" x=\"55.615234\"/>\n       <use xlink:href=\"#LiberationSans-38\" x=\"83.398438\"/>\n      </g>\n     </g>\n    </g>\n   </g>\n   <image xlink:href=\"data:image/png;base64,\niVBORw0KGgoAAAANSUhEUgAAABUAAAGnCAYAAABYYhxcAAAB7klEQVR4nO2cwY0kMQwD7YYfF87mtfm/95IgH4WiAhDEUZmW1cDcfz+/fyccXzrhOee8c/N537k3npQjv1Vp/jeVy+cgJZfPQUoun4MUqVHfOA0HilOzfA5ScvkcpOTyOZWuUfmY9VGQuo1GNZK2GpVPukblQ17pODV3n1OpnFNOpSD5bqRAjXJXKueUUylIvhspUKPclco55VT6CjknvxAoTgtJv8K3aI58DlJy+ZxK16h8dKzPLZ+DlFw+Bym5fA5ScvmcSteofMz6Ckk/tXzOiXqF5z5IPgepdwur3o58N1IgQ3GbtNxQOEi9gnqQoXBMGiSfc6I29cWTliptJN0VHU/KkU+6ojHyOUg1spLkY5CSz1KcRslXnY2sa1Q+QLdpxfrWqHiU7qjtpNOxYaKQlHRM16hwtGYpSqNKs1Q+qf1EbeiNB+cdBbqiOZ/j9F8j80k5S1nUusN89kHy3UjN+vJReUiA5DdWSCD58mckp1HuVSdIvhsp0GLGjRRolgKtkBpJQX+xsxOVDv2/i7nHczdSM5R8cLo/Q8mHHCm5oXCQkhsKBym5oXCQkhsKBym5oXCQkhsKBymQoVTkH3X3QYZCkk9BqnRF52MnqjD0kq7ofHCQAhkK5kTJ5cuRAhkKyaS3mAkHBym5ofwHIaUJOtL5PEkAAAAASUVORK5CYII=\" id=\"image2e03a7fa0c\" transform=\"scale(1 -1) translate(0 -304.56)\" x=\"425.52\" y=\"-46.08\" width=\"15.12\" height=\"304.56\"/>\n   <g id=\"LineCollection_1\"/>\n   <g id=\"patch_8\">\n    <path d=\"M 425.3275 350.8075 \nL 432.9505 350.8075 \nL 440.5735 350.8075 \nL 440.5735 45.8875 \nL 432.9505 45.8875 \nL 425.3275 45.8875 \nL 425.3275 350.8075 \nz\n\" style=\"fill: none\"/>\n   </g>\n  </g>\n </g>\n <defs>\n  <clipPath id=\"p9a36bf0b92\">\n   <rect x=\"45.8875\" y=\"45.8875\" width=\"357.12\" height=\"304.92\"/>\n  </clipPath>\n </defs>\n</svg>\n"
          },
          "metadata": {}
        }
      ],
      "source": [
        "layer = 3\n",
        "head = 1\n",
        "sentence = 0\n",
        "plot_attention(test_input.input_ids[sentence], tokenizer, bert_output.attentions[layer-1][sentence, head-1])"
      ]
    },
    {
      "cell_type": "markdown",
      "metadata": {
        "id": "AHYdGiGyJlHo"
      },
      "source": [
        "Try out the visualization tool or the heatmap visualization function in this notebook and try to see if you can see similar effects as described in the paper.\n",
        "\n",
        "Do you think we can learn anything about a model by this kind of inspection? There have been debates in the research community, for instance in the following papers:\n",
        "- Jain and Wallace (2019) [*Attention is not explanation*](https://aclanthology.org/N19-1357.pdf)\n",
        "- Wiegreffe and Pinter (2019) [*Attention is not not explanation*](https://aclanthology.org/D19-1002.pdf)\n",
        "- Bastings and Filippova (2020) [*The elephant in the interpretability room: Why use attention as explanation when we have saliency methods?*](https://aclanthology.org/2020.blackboxnlp-1.14.pdf)"
      ]
    },
    {
      "cell_type": "markdown",
      "metadata": {
        "id": "bhHdx2vMJlHp"
      },
      "source": [
        "### Masked language modeling\n",
        "\n",
        "The BERT model was trained in a multitask fashion where one of the two training tasks is *masked language modeling*: for some tokens in the sentence, we substitute the dummy symbol `[MASK]` and then train the model to guess the missing words.\n",
        "\n",
        "This masked language model can also be loaded via the library: we just need to use `AutoModelForMaskedLM` in this case. This loads the BERT model again, but also includes the \"head\" that predicts the missing tokens."
      ]
    },
    {
      "cell_type": "code",
      "execution_count": 11,
      "metadata": {
        "id": "WfA7Be5YJlHq",
        "colab": {
          "base_uri": "https://localhost:8080/"
        },
        "outputId": "b04b5bde-b8c6-4658-d664-505c752ca6cc"
      },
      "outputs": [
        {
          "output_type": "stream",
          "name": "stderr",
          "text": [
            "Some weights of the model checkpoint at bert-base-uncased were not used when initializing BertForMaskedLM: ['bert.pooler.dense.bias', 'bert.pooler.dense.weight', 'cls.seq_relationship.bias', 'cls.seq_relationship.weight']\n",
            "- This IS expected if you are initializing BertForMaskedLM from the checkpoint of a model trained on another task or with another architecture (e.g. initializing a BertForSequenceClassification model from a BertForPreTraining model).\n",
            "- This IS NOT expected if you are initializing BertForMaskedLM from the checkpoint of a model that you expect to be exactly identical (initializing a BertForSequenceClassification model from a BertForSequenceClassification model).\n"
          ]
        }
      ],
      "source": [
        "from transformers import AutoModelForMaskedLM\n",
        "\n",
        "mlm = AutoModelForMaskedLM.from_pretrained(model_name)"
      ]
    },
    {
      "cell_type": "markdown",
      "metadata": {
        "id": "zknY4c1FJlHq"
      },
      "source": [
        "The output of applying `mlm` is a data structure where the relevant part is a tensor called `logits`. What is the shape of this tensor?\n",
        "\n",
        "Can you see what the BERT model predicts for the masked token in the sentence below?\n",
        "\n",
        "**Hint:** In this case, the masked token is at position 5 (because a `[CLS]` token is added at position 0). In general, you can write something like the following to find the position of the masked token:\n",
        "```\n",
        "mask_position = list(masked_sentence.input_ids[0]).index(tokenizer.mask_token_id)\n",
        "```\n",
        "\n",
        "**Hint:** You may found it useful to apply either [`argmax`](https://pytorch.org/docs/stable/generated/torch.argmax.html) or [`topk`](https://pytorch.org/docs/stable/generated/torch.topk.html).\n",
        "\n",
        "**Hint:** If you know the index `i` in the vocabulary for some token, you can find the corresponding word string by calling `tokenizer.decode(i)`."
      ]
    },
    {
      "cell_type": "code",
      "execution_count": 12,
      "metadata": {
        "id": "LhW-TziiJlHr"
      },
      "outputs": [],
      "source": [
        "masked_sentence = tokenizer('I went to the [MASK] to learn how to code.', return_tensors='pt')"
      ]
    },
    {
      "cell_type": "markdown",
      "metadata": {
        "id": "bIDzJwdZJlHr"
      },
      "source": [
        "In the paper by Petroni et al. (2019) called [*Language Models as Knowledge Bases?*](https://aclanthology.org/D19-1250.pdf), it is claimed that models such as BERT implicitly store quite a bit of encyclopedic knowledge that we can probe using the masked language model. Try to probe the model using sentences such as `[MASK] is the capital of Sweden.` and see if this idea seems reasonable. Can you think of any drawbacks of this approach?"
      ]
    },
    {
      "cell_type": "markdown",
      "metadata": {
        "id": "91_UbPDrJlHr"
      },
      "source": [
        "Can you think of other experiments that would be interesting to carry out using the masked language model?"
      ]
    },
    {
      "cell_type": "markdown",
      "metadata": {
        "id": "T3seLgk0Cg4M"
      },
      "source": [
        "### Fine-tuning a BERT  model for document classification\n",
        "\n",
        "For the classification task, we'll use our usual Amazon review benchmark. Some of the code here is identical to the previous notebook on document classifiction (with CBoW and BoW), with some small changes to adapt the code for the way that BERT deals with tokenization and vocabularies.\n",
        "\n",
        "**Note**: the library includes ready-made solutions for document classification based on BERT (see [`BertForSequenceClassification`](https://huggingface.co/transformers/model_doc/bert.html#transformers.BertForSequenceClassification)), and it may seem a bit redundant that we design our own classifier on top of BERT. But the point here is that we'd like to show how to use BERT in a modular way as a general representation component, so that you can use it in other types of applications. You may also read about the [`Trainer`](https://huggingface.co/docs/transformers/main_classes/trainer) functionality as an alternative to the plain PyTorch solution we are using here to deal with preprocessing, training loop etc.\n",
        "\n",
        "Now, let's use a BERT model as we previously used other representation components (e.g. CBoW, RNN). There's only one small issue to keep in mind here: BERT gives *word* representations, but how do we get *document* representations? The recommended solution with BERT is to extract the representation at the dummy `[CLS]` token at position 0.\n",
        "\n",
        "<img src=\"http://www.cse.chalmers.se/~richajo/nlp2019/l5/bert_class.png\" alt=\"BERT\" style=\"width:30%;\"/>\n",
        "\n",
        "Now, please implement the code to build a document classifier on top of a BERT model. You will first need to declare the classification head (output unit) in `__init__`, and then implement the computation in `forward`."
      ]
    },
    {
      "cell_type": "code",
      "execution_count": 23,
      "metadata": {
        "id": "SoIgXJd5Cv4q"
      },
      "outputs": [],
      "source": [
        "from transformers import AutoModel\n",
        "from torch import nn\n",
        "\n",
        "class TextClassifierUsingBERT(nn.Module):\n",
        "\n",
        "    def __init__(self, clf):\n",
        "        super().__init__()\n",
        "\n",
        "        print('Loading pre-trained model...')\n",
        "        self.bert_model = AutoModel.from_pretrained(clf.params.bert_model_name)\n",
        "\n",
        "        # Size of the pre-trained model's word representations.\n",
        "        hidden_size = self.bert_model.config.hidden_size\n",
        "\n",
        "        # Number of classes for the classification task.\n",
        "        nbr_classes = clf.n_classes\n",
        "\n",
        "        # Also don't forget to create a classification \"head\" (output unit).\n",
        "        self.head = nn.Linear(hidden_size, nbr_classes)\n",
        "\n",
        "    def forward(self, Xbatch, Xmask):\n",
        "\n",
        "        # Xbatch is the document tensor of shape (n_docs, max_length), where\n",
        "        # n_docs is the number of documents in the batch, and max_length is\n",
        "        # the maximal document length in the batch. Since we truncate the\n",
        "        # documents to length 128 in this example, max_length will be 128\n",
        "        # in most cases.\n",
        "        # Xmask is the attention mask: it is 0 for the positions corresponding to\n",
        "        # the padding tokens, and 1 elsewhere.\n",
        "\n",
        "        # Your code here...\n",
        "        # As usual, print the shapes of the tensors if you are confused!\n",
        "\n",
        "        # When you have implemented this, the output shape should be (n_docs, nbr_classes)\n",
        "        # as in our previous classifiers. This output contains the logits for the classes:\n",
        "        # you do not have to apply a softmax.\n",
        "        return self.head(self.bert_model(input_ids=Xbatch, attention_mask=Xmask).last_hidden_state[:, 0, :])"
      ]
    },
    {
      "cell_type": "markdown",
      "metadata": {
        "id": "SZZ45pTLk7_3"
      },
      "source": [
        "### Running the text classifier\n",
        "\n",
        "Now, let's build the complete text classification model and train it on the dataset."
      ]
    },
    {
      "cell_type": "code",
      "execution_count": 14,
      "metadata": {
        "id": "tFjkEA3YJlHv",
        "colab": {
          "base_uri": "https://localhost:8080/"
        },
        "outputId": "d406a9b3-99bc-48b0-9670-e604309d409e"
      },
      "outputs": [
        {
          "output_type": "stream",
          "name": "stdout",
          "text": [
            "--2024-04-12 09:14:59--  http://www.cse.chalmers.se/~richajo/waspnlp2024/dredze_amazon_reviews.zip\n",
            "Resolving www.cse.chalmers.se (www.cse.chalmers.se)... 129.16.222.93\n",
            "Connecting to www.cse.chalmers.se (www.cse.chalmers.se)|129.16.222.93|:80... connected.\n",
            "HTTP request sent, awaiting response... 301 Moved Permanently\n",
            "Location: https://www.cse.chalmers.se/~richajo/waspnlp2024/dredze_amazon_reviews.zip [following]\n",
            "--2024-04-12 09:15:00--  https://www.cse.chalmers.se/~richajo/waspnlp2024/dredze_amazon_reviews.zip\n",
            "Connecting to www.cse.chalmers.se (www.cse.chalmers.se)|129.16.222.93|:443... connected.\n",
            "HTTP request sent, awaiting response... 200 OK\n",
            "Length: 3431912 (3.3M) [application/zip]\n",
            "Saving to: ‘dredze_amazon_reviews.zip’\n",
            "\n",
            "dredze_amazon_revie 100%[===================>]   3.27M  2.09MB/s    in 1.6s    \n",
            "\n",
            "2024-04-12 09:15:02 (2.09 MB/s) - ‘dredze_amazon_reviews.zip’ saved [3431912/3431912]\n",
            "\n",
            "Archive:  dredze_amazon_reviews.zip\n",
            "  inflating: dredze_amazon_reviews.tsv  \n"
          ]
        }
      ],
      "source": [
        "!wget http://www.cse.chalmers.se/~richajo/waspnlp2024/dredze_amazon_reviews.zip\n",
        "!unzip dredze_amazon_reviews.zip"
      ]
    },
    {
      "cell_type": "code",
      "execution_count": 15,
      "metadata": {
        "id": "Ks_TJ05eJlHv"
      },
      "outputs": [],
      "source": [
        "import pandas as pd\n",
        "amazon_corpus = pd.read_csv('dredze_amazon_reviews.tsv', sep='\\t', header=None, names=['product', 'sentiment', 'text'])"
      ]
    },
    {
      "cell_type": "markdown",
      "metadata": {
        "id": "j79H6CG4JlHw"
      },
      "source": [
        "**NOTE**: we use a lightly modified version of the classification code we used in previous lectures. The cell containing this code is available below and you need to exectute that cell before this one. (We put it below to improve readability of the notebook.)\n",
        "\n",
        "In my experiments, I got accuracies around 0.88 when I truncate the documents to 128 tokens and use the distilled BERT model (a \"compressed\" BERT model that runs somewhat faster). You can get higher accuracies if you use longer documents or larger BERT models, but you should be careful in that case so that you don't run out of GPU memory.\n",
        "\n",
        "This model is completely unregularized and the models seem to overfit quite quickly, with the accuracies sometimes peaking in the first epoch. Since each epoch takes about 2 minutes on my machine, so it's of course nice that we don't need to run it for many epochs."
      ]
    },
    {
      "cell_type": "code",
      "execution_count": 24,
      "metadata": {
        "id": "KkOndJSnk7_5",
        "colab": {
          "base_uri": "https://localhost:8080/"
        },
        "outputId": "01f8d99f-dcd7-4e3f-8a32-6a48d90d9b3c"
      },
      "outputs": [
        {
          "output_type": "stream",
          "name": "stdout",
          "text": [
            "Loading tokenizer...\n",
            "Loading pre-trained model...\n",
            "*** EPOCH 1 ***\n",
            ".................................................. (50)\n",
            ".................................................. (100)\n",
            ".................................................. (150)\n",
            ".................................................. (200)\n",
            ".................................................. (250)\n",
            "................................................\n",
            ".................................................. (50)\n",
            ".........................\n",
            "Time: 99.0409; train loss: 0.3315; train acc: 0.8599; val loss: 0.2784; val acc: 0.8871\n",
            "*** EPOCH 2 ***\n",
            ".................................................. (50)\n",
            ".................................................. (100)\n",
            ".................................................. (150)\n",
            ".................................................. (200)\n",
            ".................................................. (250)\n",
            "................................................\n",
            ".................................................. (50)\n",
            ".........................\n",
            "Time: 102.1963; train loss: 0.1629; train acc: 0.9390; val loss: 0.3368; val acc: 0.8817\n",
            "*** EPOCH 3 ***\n",
            ".................................................. (50)\n",
            ".................................................. (100)\n",
            ".................................................. (150)\n",
            ".................................................. (200)\n",
            ".................................................. (250)\n",
            "................................................\n",
            ".................................................. (50)\n",
            ".........................\n",
            "Time: 103.8431; train loss: 0.0736; train acc: 0.9747; val loss: 0.4335; val acc: 0.8653\n",
            "*** EPOCH 4 ***\n",
            ".................................................. (50)\n",
            ".................................................. (100)\n",
            ".................................................. (150)\n",
            ".................................................. (200)\n",
            ".................................................. (250)\n",
            "................................................\n",
            ".................................................. (50)\n",
            ".........................\n",
            "Time: 104.7324; train loss: 0.0526; train acc: 0.9814; val loss: 0.4324; val acc: 0.8859\n"
          ]
        }
      ],
      "source": [
        "class TextClassifierParametersBERT:\n",
        "    val_size = 0.2\n",
        "    device = 'cuda'\n",
        "    n_epochs = 4\n",
        "    batch_size = 32\n",
        "    decay = 0\n",
        "    max_len = 128\n",
        "    bert_model_name = 'distilbert-base-uncased'\n",
        "\n",
        "    # The BERT paper recommends learning rates 5e-5, 3e-5, or 2e-5\n",
        "    learning_rate = 5e-5\n",
        "\n",
        "torch.manual_seed(0)\n",
        "clf = NNClassifier(TextClassifierParametersBERT(), TextClassifierUsingBERT)\n",
        "\n",
        "clf.fit(list(amazon_corpus.text), list(amazon_corpus.sentiment))"
      ]
    },
    {
      "cell_type": "markdown",
      "metadata": {
        "id": "O9NM22QqKTLw"
      },
      "source": [
        "If we want, we can run the classifier interactively on some test documents. How would you think a bag-of-words classifier would have handled these cases?"
      ]
    },
    {
      "cell_type": "code",
      "execution_count": 25,
      "metadata": {
        "id": "Crte-S_IHspz",
        "colab": {
          "base_uri": "https://localhost:8080/"
        },
        "outputId": "213202c5-0ad7-47cb-cfcd-6b7b2079296a"
      },
      "outputs": [
        {
          "output_type": "execute_result",
          "data": {
            "text/plain": [
              "array(['neg', 'pos', 'pos', 'neg'], dtype='<U3')"
            ]
          },
          "metadata": {},
          "execution_count": 25
        }
      ],
      "source": [
        "clf.predict(['A bad song!', 'A great song!', 'Not a bad song!', 'Not a great song!'])"
      ]
    },
    {
      "cell_type": "markdown",
      "metadata": {
        "id": "6eAgsAC2HIK3"
      },
      "source": [
        "# Classification code\n",
        "\n",
        "This is almost the same code as we used for previous classifiers. The *major* difference is that we do not use our own vocabulary, but instead rely on BERT's built-in tokenizer. Apart from this, there are only some small cosmetic changes.\n",
        "\n",
        "Make sure you execute this cell before you run the classifier above."
      ]
    },
    {
      "cell_type": "code",
      "execution_count": 17,
      "metadata": {
        "id": "X7Nel-AQk8AN"
      },
      "outputs": [],
      "source": [
        "import torch\n",
        "from torch import nn\n",
        "from torch.utils.data import DataLoader\n",
        "from transformers import AutoModel, AutoTokenizer\n",
        "\n",
        "import numpy as np\n",
        "import time\n",
        "import sys\n",
        "from collections import defaultdict, Counter\n",
        "\n",
        "from sklearn.preprocessing import LabelEncoder\n",
        "from sklearn.model_selection import train_test_split\n",
        "\n",
        "class DocumentBatcher:\n",
        "    \"\"\"A collator that builds a batch from a number of documents.\"\"\"\n",
        "\n",
        "    def __init__(self, pad_id):\n",
        "        self.pad_id = pad_id\n",
        "\n",
        "    def make_batch_1(self, X):\n",
        "        \"\"\"Build a batch from a number of documents.\n",
        "        Returns a tensor of shape [n_docs, max_doc_length].\"\"\"\n",
        "\n",
        "        # How long is the longest document in this batch?\n",
        "        max_len = max(len(x) for x in X)\n",
        "\n",
        "        # Build the document tensor. We pad the shorter documents so that all documents\n",
        "        # have the same length.\n",
        "        Xpadded = torch.as_tensor([x + [self.pad_id]*(max_len-len(x)) for x in X])\n",
        "        return Xpadded\n",
        "\n",
        "\n",
        "    def make_batch_2(self, XY):\n",
        "        \"\"\"Build a batch from a number of documents and their labels.\n",
        "        Returns two tensors X and Y, where X is the document tensor,\n",
        "        of shape [n_docs, max_doc_length]\n",
        "\n",
        "        and\n",
        "\n",
        "        Y is the label tensor, of shape [n_docs].\n",
        "        \"\"\"\n",
        "\n",
        "        # How long is the longest document in this batch?\n",
        "        max_len = max(len(x) for x, _ in XY)\n",
        "\n",
        "        # Build the document tensor. We pad the shorter documents so that all documents\n",
        "        # have the same length.\n",
        "        Xpadded = torch.as_tensor([x + [self.pad_id]*(max_len-len(x)) for x, _ in XY])\n",
        "\n",
        "        # Build the label tensor.\n",
        "        Y = torch.as_tensor([y for _, y in XY])\n",
        "\n",
        "        return Xpadded, Y\n",
        "\n",
        "\n",
        "    def __call__(self, instances):\n",
        "        if isinstance(instances[0], tuple):\n",
        "            return self.make_batch_2(instances)\n",
        "        else:\n",
        "            return self.make_batch_1(instances)\n",
        "\n",
        "\n",
        "class NNClassifier:\n",
        "    \"\"\"A classifier based on a neural network.\"\"\"\n",
        "\n",
        "    def __init__(self, params, model_factory):\n",
        "        self.params = params\n",
        "        self.model_factory = model_factory\n",
        "        print('Loading tokenizer...')\n",
        "        self.tokenizer = AutoTokenizer.from_pretrained(params.bert_model_name)\n",
        "\n",
        "    def preprocess(self, X, Y):\n",
        "\n",
        "        Xtrain, Xval, Ytrain, Yval = train_test_split(X, Y, test_size=self.params.val_size, random_state=0)\n",
        "\n",
        "        self.lbl_enc = LabelEncoder()\n",
        "        self.lbl_enc.fit(Ytrain)\n",
        "        self.n_classes = len(self.lbl_enc.classes_)\n",
        "\n",
        "        Xtrain_encoded = self.tokenizer(Xtrain, truncation=True, max_length=128).input_ids\n",
        "        Xval_encoded = self.tokenizer(Xval, truncation=True, max_length=128).input_ids\n",
        "\n",
        "        train_dataset = list(zip(Xtrain_encoded, self.lbl_enc.transform(Ytrain)))\n",
        "        val_dataset = list(zip(Xval_encoded, self.lbl_enc.transform(Yval)))\n",
        "\n",
        "        batcher = DocumentBatcher(self.tokenizer.pad_token_id)\n",
        "\n",
        "        self.train_loader = DataLoader(train_dataset, self.params.batch_size, shuffle=True, collate_fn=batcher)\n",
        "        self.val_loader = DataLoader(val_dataset, self.params.batch_size, shuffle=False, collate_fn=batcher)\n",
        "\n",
        "\n",
        "    def fit(self, X, Y):\n",
        "        \"\"\"Train the model. We assume that a dataset and a model have already been provided.\"\"\"\n",
        "        par = self.params\n",
        "\n",
        "        self.preprocess(X, Y)\n",
        "\n",
        "        self.model = self.model_factory(self)\n",
        "        self.model.to(par.device)\n",
        "\n",
        "        self.loss_func = nn.CrossEntropyLoss()\n",
        "        optimizer = torch.optim.Adam(self.model.parameters(), lr=par.learning_rate, weight_decay=par.decay)\n",
        "\n",
        "        self.history = defaultdict(list)\n",
        "\n",
        "        for epoch in range(par.n_epochs):\n",
        "            print(f'*** EPOCH {epoch+1} ***')\n",
        "\n",
        "            t0 = time.time()\n",
        "\n",
        "            self.model.train()\n",
        "            train_loss, train_acc = self.epoch(self.train_loader, optimizer)\n",
        "\n",
        "            self.model.eval()\n",
        "            with torch.no_grad():\n",
        "                val_loss, val_acc = self.epoch(self.val_loader)\n",
        "\n",
        "            t1 = time.time()\n",
        "\n",
        "            self.history['train_loss'].append(train_loss)\n",
        "            self.history['train_acc'].append(train_acc)\n",
        "            self.history['val_loss'].append(val_loss)\n",
        "            self.history['val_acc'].append(val_acc)\n",
        "            self.history['time'].append(t1-t0)\n",
        "\n",
        "            print(f'Time: {t1-t0:.4f}; train loss: {train_loss:.4f}; train acc: {train_acc:.4f}; val loss: {val_loss:.4f}; val acc: {val_acc:.4f}')\n",
        "\n",
        "    def epoch(self, batches, optimizer=None):\n",
        "        \"\"\"Runs the neural network for one epoch, using the given batches.\n",
        "        If an optimizer is provided, this is training data and we will update the model\n",
        "        after each batch. Otherwise, this is assumed to be validation data.\n",
        "\n",
        "        Returns the loss and accuracy over the epoch.\"\"\"\n",
        "        n_correct = 0\n",
        "        n_instances = 0\n",
        "        total_loss = 0\n",
        "\n",
        "        for step, (Xbatch, Ybatch) in enumerate(batches, 1):\n",
        "            Xbatch = Xbatch.to(self.params.device)\n",
        "            Xmask = (Xbatch != self.tokenizer.pad_token_id).long()\n",
        "            Ybatch = Ybatch.to(self.params.device)\n",
        "\n",
        "            scores = self.model(Xbatch, Xmask)\n",
        "\n",
        "            loss = self.loss_func(scores, Ybatch)\n",
        "            total_loss += loss.item()\n",
        "\n",
        "            guesses = scores.argmax(dim=1)\n",
        "            n_correct += (guesses == Ybatch).sum().item()\n",
        "            n_instances += Ybatch.shape[0]\n",
        "\n",
        "            if optimizer:\n",
        "                optimizer.zero_grad()\n",
        "                loss.backward()\n",
        "                optimizer.step()\n",
        "\n",
        "            print('.', end='')\n",
        "            if step % 50 == 0:\n",
        "              print(f' ({step})')\n",
        "\n",
        "            sys.stdout.flush()\n",
        "\n",
        "        print()\n",
        "\n",
        "        return total_loss/len(batches), n_correct/n_instances\n",
        "\n",
        "\n",
        "    def predict(self, X):\n",
        "        \"\"\"Run a trained classifier on a set of instances and return the predictions.\"\"\"\n",
        "\n",
        "        batcher = DocumentBatcher(self.tokenizer.pad_token_id)\n",
        "        encoded = self.tokenizer(X).input_ids\n",
        "        loader = DataLoader(encoded, self.params.batch_size, collate_fn=batcher)\n",
        "\n",
        "        self.model.eval()\n",
        "        outputs = []\n",
        "        with torch.no_grad():\n",
        "            for Xbatch in loader:\n",
        "                Xbatch = Xbatch.to(self.params.device)\n",
        "                Xmask = (Xbatch != self.tokenizer.pad_token_id).long()\n",
        "                scores = self.model(Xbatch, Xmask)\n",
        "                guesses = scores.argmax(dim=1)\n",
        "                outputs.append(guesses.cpu().numpy())\n",
        "\n",
        "        return self.lbl_enc.inverse_transform(np.hstack(outputs))\n"
      ]
    },
    {
      "cell_type": "code",
      "execution_count": null,
      "metadata": {
        "id": "8-p5unPxLEhU"
      },
      "outputs": [],
      "source": []
    }
  ],
  "metadata": {
    "accelerator": "GPU",
    "colab": {
      "provenance": []
    },
    "kernelspec": {
      "display_name": "Python 3 (ipykernel)",
      "language": "python",
      "name": "python3"
    },
    "language_info": {
      "codemirror_mode": {
        "name": "ipython",
        "version": 3
      },
      "file_extension": ".py",
      "mimetype": "text/x-python",
      "name": "python",
      "nbconvert_exporter": "python",
      "pygments_lexer": "ipython3",
      "version": "3.11.7"
    },
    "widgets": {
      "application/vnd.jupyter.widget-state+json": {
        "f54376d2f6ca4d5dab721fe024e47737": {
          "model_module": "@jupyter-widgets/controls",
          "model_name": "HBoxModel",
          "model_module_version": "1.5.0",
          "state": {
            "_dom_classes": [],
            "_model_module": "@jupyter-widgets/controls",
            "_model_module_version": "1.5.0",
            "_model_name": "HBoxModel",
            "_view_count": null,
            "_view_module": "@jupyter-widgets/controls",
            "_view_module_version": "1.5.0",
            "_view_name": "HBoxView",
            "box_style": "",
            "children": [
              "IPY_MODEL_afdd1b26b90c456f8d56f803b31bfc3b",
              "IPY_MODEL_54ff271b52734a96af01dd862ac1ea94",
              "IPY_MODEL_93538269b82d4cf6ba5a5026d8bb07e1"
            ],
            "layout": "IPY_MODEL_b11a067ef12747209d78bd38c7e22893"
          }
        },
        "afdd1b26b90c456f8d56f803b31bfc3b": {
          "model_module": "@jupyter-widgets/controls",
          "model_name": "HTMLModel",
          "model_module_version": "1.5.0",
          "state": {
            "_dom_classes": [],
            "_model_module": "@jupyter-widgets/controls",
            "_model_module_version": "1.5.0",
            "_model_name": "HTMLModel",
            "_view_count": null,
            "_view_module": "@jupyter-widgets/controls",
            "_view_module_version": "1.5.0",
            "_view_name": "HTMLView",
            "description": "",
            "description_tooltip": null,
            "layout": "IPY_MODEL_c7643b020f20459a83ac93cdc22708fd",
            "placeholder": "​",
            "style": "IPY_MODEL_f16d7c7b5d574ccb88d56a4aa4f0e5fa",
            "value": "tokenizer_config.json: 100%"
          }
        },
        "54ff271b52734a96af01dd862ac1ea94": {
          "model_module": "@jupyter-widgets/controls",
          "model_name": "FloatProgressModel",
          "model_module_version": "1.5.0",
          "state": {
            "_dom_classes": [],
            "_model_module": "@jupyter-widgets/controls",
            "_model_module_version": "1.5.0",
            "_model_name": "FloatProgressModel",
            "_view_count": null,
            "_view_module": "@jupyter-widgets/controls",
            "_view_module_version": "1.5.0",
            "_view_name": "ProgressView",
            "bar_style": "success",
            "description": "",
            "description_tooltip": null,
            "layout": "IPY_MODEL_d81e16393b1a4d658a4cdd1cff9a1d53",
            "max": 48,
            "min": 0,
            "orientation": "horizontal",
            "style": "IPY_MODEL_840f1527774b447a9a10180f1c5b9841",
            "value": 48
          }
        },
        "93538269b82d4cf6ba5a5026d8bb07e1": {
          "model_module": "@jupyter-widgets/controls",
          "model_name": "HTMLModel",
          "model_module_version": "1.5.0",
          "state": {
            "_dom_classes": [],
            "_model_module": "@jupyter-widgets/controls",
            "_model_module_version": "1.5.0",
            "_model_name": "HTMLModel",
            "_view_count": null,
            "_view_module": "@jupyter-widgets/controls",
            "_view_module_version": "1.5.0",
            "_view_name": "HTMLView",
            "description": "",
            "description_tooltip": null,
            "layout": "IPY_MODEL_d7778ecce4dd47458d5aefd2ed81367d",
            "placeholder": "​",
            "style": "IPY_MODEL_f40a2590872b420d8d5f5f3b3a718233",
            "value": " 48.0/48.0 [00:00&lt;00:00, 1.54kB/s]"
          }
        },
        "b11a067ef12747209d78bd38c7e22893": {
          "model_module": "@jupyter-widgets/base",
          "model_name": "LayoutModel",
          "model_module_version": "1.2.0",
          "state": {
            "_model_module": "@jupyter-widgets/base",
            "_model_module_version": "1.2.0",
            "_model_name": "LayoutModel",
            "_view_count": null,
            "_view_module": "@jupyter-widgets/base",
            "_view_module_version": "1.2.0",
            "_view_name": "LayoutView",
            "align_content": null,
            "align_items": null,
            "align_self": null,
            "border": null,
            "bottom": null,
            "display": null,
            "flex": null,
            "flex_flow": null,
            "grid_area": null,
            "grid_auto_columns": null,
            "grid_auto_flow": null,
            "grid_auto_rows": null,
            "grid_column": null,
            "grid_gap": null,
            "grid_row": null,
            "grid_template_areas": null,
            "grid_template_columns": null,
            "grid_template_rows": null,
            "height": null,
            "justify_content": null,
            "justify_items": null,
            "left": null,
            "margin": null,
            "max_height": null,
            "max_width": null,
            "min_height": null,
            "min_width": null,
            "object_fit": null,
            "object_position": null,
            "order": null,
            "overflow": null,
            "overflow_x": null,
            "overflow_y": null,
            "padding": null,
            "right": null,
            "top": null,
            "visibility": null,
            "width": null
          }
        },
        "c7643b020f20459a83ac93cdc22708fd": {
          "model_module": "@jupyter-widgets/base",
          "model_name": "LayoutModel",
          "model_module_version": "1.2.0",
          "state": {
            "_model_module": "@jupyter-widgets/base",
            "_model_module_version": "1.2.0",
            "_model_name": "LayoutModel",
            "_view_count": null,
            "_view_module": "@jupyter-widgets/base",
            "_view_module_version": "1.2.0",
            "_view_name": "LayoutView",
            "align_content": null,
            "align_items": null,
            "align_self": null,
            "border": null,
            "bottom": null,
            "display": null,
            "flex": null,
            "flex_flow": null,
            "grid_area": null,
            "grid_auto_columns": null,
            "grid_auto_flow": null,
            "grid_auto_rows": null,
            "grid_column": null,
            "grid_gap": null,
            "grid_row": null,
            "grid_template_areas": null,
            "grid_template_columns": null,
            "grid_template_rows": null,
            "height": null,
            "justify_content": null,
            "justify_items": null,
            "left": null,
            "margin": null,
            "max_height": null,
            "max_width": null,
            "min_height": null,
            "min_width": null,
            "object_fit": null,
            "object_position": null,
            "order": null,
            "overflow": null,
            "overflow_x": null,
            "overflow_y": null,
            "padding": null,
            "right": null,
            "top": null,
            "visibility": null,
            "width": null
          }
        },
        "f16d7c7b5d574ccb88d56a4aa4f0e5fa": {
          "model_module": "@jupyter-widgets/controls",
          "model_name": "DescriptionStyleModel",
          "model_module_version": "1.5.0",
          "state": {
            "_model_module": "@jupyter-widgets/controls",
            "_model_module_version": "1.5.0",
            "_model_name": "DescriptionStyleModel",
            "_view_count": null,
            "_view_module": "@jupyter-widgets/base",
            "_view_module_version": "1.2.0",
            "_view_name": "StyleView",
            "description_width": ""
          }
        },
        "d81e16393b1a4d658a4cdd1cff9a1d53": {
          "model_module": "@jupyter-widgets/base",
          "model_name": "LayoutModel",
          "model_module_version": "1.2.0",
          "state": {
            "_model_module": "@jupyter-widgets/base",
            "_model_module_version": "1.2.0",
            "_model_name": "LayoutModel",
            "_view_count": null,
            "_view_module": "@jupyter-widgets/base",
            "_view_module_version": "1.2.0",
            "_view_name": "LayoutView",
            "align_content": null,
            "align_items": null,
            "align_self": null,
            "border": null,
            "bottom": null,
            "display": null,
            "flex": null,
            "flex_flow": null,
            "grid_area": null,
            "grid_auto_columns": null,
            "grid_auto_flow": null,
            "grid_auto_rows": null,
            "grid_column": null,
            "grid_gap": null,
            "grid_row": null,
            "grid_template_areas": null,
            "grid_template_columns": null,
            "grid_template_rows": null,
            "height": null,
            "justify_content": null,
            "justify_items": null,
            "left": null,
            "margin": null,
            "max_height": null,
            "max_width": null,
            "min_height": null,
            "min_width": null,
            "object_fit": null,
            "object_position": null,
            "order": null,
            "overflow": null,
            "overflow_x": null,
            "overflow_y": null,
            "padding": null,
            "right": null,
            "top": null,
            "visibility": null,
            "width": null
          }
        },
        "840f1527774b447a9a10180f1c5b9841": {
          "model_module": "@jupyter-widgets/controls",
          "model_name": "ProgressStyleModel",
          "model_module_version": "1.5.0",
          "state": {
            "_model_module": "@jupyter-widgets/controls",
            "_model_module_version": "1.5.0",
            "_model_name": "ProgressStyleModel",
            "_view_count": null,
            "_view_module": "@jupyter-widgets/base",
            "_view_module_version": "1.2.0",
            "_view_name": "StyleView",
            "bar_color": null,
            "description_width": ""
          }
        },
        "d7778ecce4dd47458d5aefd2ed81367d": {
          "model_module": "@jupyter-widgets/base",
          "model_name": "LayoutModel",
          "model_module_version": "1.2.0",
          "state": {
            "_model_module": "@jupyter-widgets/base",
            "_model_module_version": "1.2.0",
            "_model_name": "LayoutModel",
            "_view_count": null,
            "_view_module": "@jupyter-widgets/base",
            "_view_module_version": "1.2.0",
            "_view_name": "LayoutView",
            "align_content": null,
            "align_items": null,
            "align_self": null,
            "border": null,
            "bottom": null,
            "display": null,
            "flex": null,
            "flex_flow": null,
            "grid_area": null,
            "grid_auto_columns": null,
            "grid_auto_flow": null,
            "grid_auto_rows": null,
            "grid_column": null,
            "grid_gap": null,
            "grid_row": null,
            "grid_template_areas": null,
            "grid_template_columns": null,
            "grid_template_rows": null,
            "height": null,
            "justify_content": null,
            "justify_items": null,
            "left": null,
            "margin": null,
            "max_height": null,
            "max_width": null,
            "min_height": null,
            "min_width": null,
            "object_fit": null,
            "object_position": null,
            "order": null,
            "overflow": null,
            "overflow_x": null,
            "overflow_y": null,
            "padding": null,
            "right": null,
            "top": null,
            "visibility": null,
            "width": null
          }
        },
        "f40a2590872b420d8d5f5f3b3a718233": {
          "model_module": "@jupyter-widgets/controls",
          "model_name": "DescriptionStyleModel",
          "model_module_version": "1.5.0",
          "state": {
            "_model_module": "@jupyter-widgets/controls",
            "_model_module_version": "1.5.0",
            "_model_name": "DescriptionStyleModel",
            "_view_count": null,
            "_view_module": "@jupyter-widgets/base",
            "_view_module_version": "1.2.0",
            "_view_name": "StyleView",
            "description_width": ""
          }
        },
        "53b8e9f2c5914b60b65b788b38392f7a": {
          "model_module": "@jupyter-widgets/controls",
          "model_name": "HBoxModel",
          "model_module_version": "1.5.0",
          "state": {
            "_dom_classes": [],
            "_model_module": "@jupyter-widgets/controls",
            "_model_module_version": "1.5.0",
            "_model_name": "HBoxModel",
            "_view_count": null,
            "_view_module": "@jupyter-widgets/controls",
            "_view_module_version": "1.5.0",
            "_view_name": "HBoxView",
            "box_style": "",
            "children": [
              "IPY_MODEL_cadfd0e4b0c04450ac4ba883ee2ca323",
              "IPY_MODEL_8fb01dfe1e4e4a5e9a6e41df94ef8f05",
              "IPY_MODEL_be88698245494aa99332c77109308711"
            ],
            "layout": "IPY_MODEL_b3ae3eed44a34a74aea527c8af2d3754"
          }
        },
        "cadfd0e4b0c04450ac4ba883ee2ca323": {
          "model_module": "@jupyter-widgets/controls",
          "model_name": "HTMLModel",
          "model_module_version": "1.5.0",
          "state": {
            "_dom_classes": [],
            "_model_module": "@jupyter-widgets/controls",
            "_model_module_version": "1.5.0",
            "_model_name": "HTMLModel",
            "_view_count": null,
            "_view_module": "@jupyter-widgets/controls",
            "_view_module_version": "1.5.0",
            "_view_name": "HTMLView",
            "description": "",
            "description_tooltip": null,
            "layout": "IPY_MODEL_47f702649e38415190092179d8de0197",
            "placeholder": "​",
            "style": "IPY_MODEL_6a1b38ecbab44b55a79e56bfb47467c6",
            "value": "config.json: 100%"
          }
        },
        "8fb01dfe1e4e4a5e9a6e41df94ef8f05": {
          "model_module": "@jupyter-widgets/controls",
          "model_name": "FloatProgressModel",
          "model_module_version": "1.5.0",
          "state": {
            "_dom_classes": [],
            "_model_module": "@jupyter-widgets/controls",
            "_model_module_version": "1.5.0",
            "_model_name": "FloatProgressModel",
            "_view_count": null,
            "_view_module": "@jupyter-widgets/controls",
            "_view_module_version": "1.5.0",
            "_view_name": "ProgressView",
            "bar_style": "success",
            "description": "",
            "description_tooltip": null,
            "layout": "IPY_MODEL_e414f516338e437abc5d18cef7d2186f",
            "max": 570,
            "min": 0,
            "orientation": "horizontal",
            "style": "IPY_MODEL_2c6ac0ee919c4da8b76839f2322279fb",
            "value": 570
          }
        },
        "be88698245494aa99332c77109308711": {
          "model_module": "@jupyter-widgets/controls",
          "model_name": "HTMLModel",
          "model_module_version": "1.5.0",
          "state": {
            "_dom_classes": [],
            "_model_module": "@jupyter-widgets/controls",
            "_model_module_version": "1.5.0",
            "_model_name": "HTMLModel",
            "_view_count": null,
            "_view_module": "@jupyter-widgets/controls",
            "_view_module_version": "1.5.0",
            "_view_name": "HTMLView",
            "description": "",
            "description_tooltip": null,
            "layout": "IPY_MODEL_184595ad046a41a2835b9ab382c097f4",
            "placeholder": "​",
            "style": "IPY_MODEL_f0682c88fbb34221b89b419535c918e2",
            "value": " 570/570 [00:00&lt;00:00, 8.01kB/s]"
          }
        },
        "b3ae3eed44a34a74aea527c8af2d3754": {
          "model_module": "@jupyter-widgets/base",
          "model_name": "LayoutModel",
          "model_module_version": "1.2.0",
          "state": {
            "_model_module": "@jupyter-widgets/base",
            "_model_module_version": "1.2.0",
            "_model_name": "LayoutModel",
            "_view_count": null,
            "_view_module": "@jupyter-widgets/base",
            "_view_module_version": "1.2.0",
            "_view_name": "LayoutView",
            "align_content": null,
            "align_items": null,
            "align_self": null,
            "border": null,
            "bottom": null,
            "display": null,
            "flex": null,
            "flex_flow": null,
            "grid_area": null,
            "grid_auto_columns": null,
            "grid_auto_flow": null,
            "grid_auto_rows": null,
            "grid_column": null,
            "grid_gap": null,
            "grid_row": null,
            "grid_template_areas": null,
            "grid_template_columns": null,
            "grid_template_rows": null,
            "height": null,
            "justify_content": null,
            "justify_items": null,
            "left": null,
            "margin": null,
            "max_height": null,
            "max_width": null,
            "min_height": null,
            "min_width": null,
            "object_fit": null,
            "object_position": null,
            "order": null,
            "overflow": null,
            "overflow_x": null,
            "overflow_y": null,
            "padding": null,
            "right": null,
            "top": null,
            "visibility": null,
            "width": null
          }
        },
        "47f702649e38415190092179d8de0197": {
          "model_module": "@jupyter-widgets/base",
          "model_name": "LayoutModel",
          "model_module_version": "1.2.0",
          "state": {
            "_model_module": "@jupyter-widgets/base",
            "_model_module_version": "1.2.0",
            "_model_name": "LayoutModel",
            "_view_count": null,
            "_view_module": "@jupyter-widgets/base",
            "_view_module_version": "1.2.0",
            "_view_name": "LayoutView",
            "align_content": null,
            "align_items": null,
            "align_self": null,
            "border": null,
            "bottom": null,
            "display": null,
            "flex": null,
            "flex_flow": null,
            "grid_area": null,
            "grid_auto_columns": null,
            "grid_auto_flow": null,
            "grid_auto_rows": null,
            "grid_column": null,
            "grid_gap": null,
            "grid_row": null,
            "grid_template_areas": null,
            "grid_template_columns": null,
            "grid_template_rows": null,
            "height": null,
            "justify_content": null,
            "justify_items": null,
            "left": null,
            "margin": null,
            "max_height": null,
            "max_width": null,
            "min_height": null,
            "min_width": null,
            "object_fit": null,
            "object_position": null,
            "order": null,
            "overflow": null,
            "overflow_x": null,
            "overflow_y": null,
            "padding": null,
            "right": null,
            "top": null,
            "visibility": null,
            "width": null
          }
        },
        "6a1b38ecbab44b55a79e56bfb47467c6": {
          "model_module": "@jupyter-widgets/controls",
          "model_name": "DescriptionStyleModel",
          "model_module_version": "1.5.0",
          "state": {
            "_model_module": "@jupyter-widgets/controls",
            "_model_module_version": "1.5.0",
            "_model_name": "DescriptionStyleModel",
            "_view_count": null,
            "_view_module": "@jupyter-widgets/base",
            "_view_module_version": "1.2.0",
            "_view_name": "StyleView",
            "description_width": ""
          }
        },
        "e414f516338e437abc5d18cef7d2186f": {
          "model_module": "@jupyter-widgets/base",
          "model_name": "LayoutModel",
          "model_module_version": "1.2.0",
          "state": {
            "_model_module": "@jupyter-widgets/base",
            "_model_module_version": "1.2.0",
            "_model_name": "LayoutModel",
            "_view_count": null,
            "_view_module": "@jupyter-widgets/base",
            "_view_module_version": "1.2.0",
            "_view_name": "LayoutView",
            "align_content": null,
            "align_items": null,
            "align_self": null,
            "border": null,
            "bottom": null,
            "display": null,
            "flex": null,
            "flex_flow": null,
            "grid_area": null,
            "grid_auto_columns": null,
            "grid_auto_flow": null,
            "grid_auto_rows": null,
            "grid_column": null,
            "grid_gap": null,
            "grid_row": null,
            "grid_template_areas": null,
            "grid_template_columns": null,
            "grid_template_rows": null,
            "height": null,
            "justify_content": null,
            "justify_items": null,
            "left": null,
            "margin": null,
            "max_height": null,
            "max_width": null,
            "min_height": null,
            "min_width": null,
            "object_fit": null,
            "object_position": null,
            "order": null,
            "overflow": null,
            "overflow_x": null,
            "overflow_y": null,
            "padding": null,
            "right": null,
            "top": null,
            "visibility": null,
            "width": null
          }
        },
        "2c6ac0ee919c4da8b76839f2322279fb": {
          "model_module": "@jupyter-widgets/controls",
          "model_name": "ProgressStyleModel",
          "model_module_version": "1.5.0",
          "state": {
            "_model_module": "@jupyter-widgets/controls",
            "_model_module_version": "1.5.0",
            "_model_name": "ProgressStyleModel",
            "_view_count": null,
            "_view_module": "@jupyter-widgets/base",
            "_view_module_version": "1.2.0",
            "_view_name": "StyleView",
            "bar_color": null,
            "description_width": ""
          }
        },
        "184595ad046a41a2835b9ab382c097f4": {
          "model_module": "@jupyter-widgets/base",
          "model_name": "LayoutModel",
          "model_module_version": "1.2.0",
          "state": {
            "_model_module": "@jupyter-widgets/base",
            "_model_module_version": "1.2.0",
            "_model_name": "LayoutModel",
            "_view_count": null,
            "_view_module": "@jupyter-widgets/base",
            "_view_module_version": "1.2.0",
            "_view_name": "LayoutView",
            "align_content": null,
            "align_items": null,
            "align_self": null,
            "border": null,
            "bottom": null,
            "display": null,
            "flex": null,
            "flex_flow": null,
            "grid_area": null,
            "grid_auto_columns": null,
            "grid_auto_flow": null,
            "grid_auto_rows": null,
            "grid_column": null,
            "grid_gap": null,
            "grid_row": null,
            "grid_template_areas": null,
            "grid_template_columns": null,
            "grid_template_rows": null,
            "height": null,
            "justify_content": null,
            "justify_items": null,
            "left": null,
            "margin": null,
            "max_height": null,
            "max_width": null,
            "min_height": null,
            "min_width": null,
            "object_fit": null,
            "object_position": null,
            "order": null,
            "overflow": null,
            "overflow_x": null,
            "overflow_y": null,
            "padding": null,
            "right": null,
            "top": null,
            "visibility": null,
            "width": null
          }
        },
        "f0682c88fbb34221b89b419535c918e2": {
          "model_module": "@jupyter-widgets/controls",
          "model_name": "DescriptionStyleModel",
          "model_module_version": "1.5.0",
          "state": {
            "_model_module": "@jupyter-widgets/controls",
            "_model_module_version": "1.5.0",
            "_model_name": "DescriptionStyleModel",
            "_view_count": null,
            "_view_module": "@jupyter-widgets/base",
            "_view_module_version": "1.2.0",
            "_view_name": "StyleView",
            "description_width": ""
          }
        },
        "edf17289b08249aea85a03f23c9f1606": {
          "model_module": "@jupyter-widgets/controls",
          "model_name": "HBoxModel",
          "model_module_version": "1.5.0",
          "state": {
            "_dom_classes": [],
            "_model_module": "@jupyter-widgets/controls",
            "_model_module_version": "1.5.0",
            "_model_name": "HBoxModel",
            "_view_count": null,
            "_view_module": "@jupyter-widgets/controls",
            "_view_module_version": "1.5.0",
            "_view_name": "HBoxView",
            "box_style": "",
            "children": [
              "IPY_MODEL_b0a8aff7427b429e8fb96243ecd4722c",
              "IPY_MODEL_ff460e05c5bf49178f926c0e9dd8f5ef",
              "IPY_MODEL_6324fd7f759d4d698158b83a6684c6d0"
            ],
            "layout": "IPY_MODEL_599575822a214063a752fae8bfa81d40"
          }
        },
        "b0a8aff7427b429e8fb96243ecd4722c": {
          "model_module": "@jupyter-widgets/controls",
          "model_name": "HTMLModel",
          "model_module_version": "1.5.0",
          "state": {
            "_dom_classes": [],
            "_model_module": "@jupyter-widgets/controls",
            "_model_module_version": "1.5.0",
            "_model_name": "HTMLModel",
            "_view_count": null,
            "_view_module": "@jupyter-widgets/controls",
            "_view_module_version": "1.5.0",
            "_view_name": "HTMLView",
            "description": "",
            "description_tooltip": null,
            "layout": "IPY_MODEL_0529bc74c5064a779a0efc7f5e18d378",
            "placeholder": "​",
            "style": "IPY_MODEL_adea26479e62492295de810e0951527c",
            "value": "vocab.txt: 100%"
          }
        },
        "ff460e05c5bf49178f926c0e9dd8f5ef": {
          "model_module": "@jupyter-widgets/controls",
          "model_name": "FloatProgressModel",
          "model_module_version": "1.5.0",
          "state": {
            "_dom_classes": [],
            "_model_module": "@jupyter-widgets/controls",
            "_model_module_version": "1.5.0",
            "_model_name": "FloatProgressModel",
            "_view_count": null,
            "_view_module": "@jupyter-widgets/controls",
            "_view_module_version": "1.5.0",
            "_view_name": "ProgressView",
            "bar_style": "success",
            "description": "",
            "description_tooltip": null,
            "layout": "IPY_MODEL_15bf6bb13bf6496cb402229810a845fe",
            "max": 231508,
            "min": 0,
            "orientation": "horizontal",
            "style": "IPY_MODEL_c530461235584729bb9d38cfbd6be6e7",
            "value": 231508
          }
        },
        "6324fd7f759d4d698158b83a6684c6d0": {
          "model_module": "@jupyter-widgets/controls",
          "model_name": "HTMLModel",
          "model_module_version": "1.5.0",
          "state": {
            "_dom_classes": [],
            "_model_module": "@jupyter-widgets/controls",
            "_model_module_version": "1.5.0",
            "_model_name": "HTMLModel",
            "_view_count": null,
            "_view_module": "@jupyter-widgets/controls",
            "_view_module_version": "1.5.0",
            "_view_name": "HTMLView",
            "description": "",
            "description_tooltip": null,
            "layout": "IPY_MODEL_a27de7da1fb843bc82a18bfa730b6ef4",
            "placeholder": "​",
            "style": "IPY_MODEL_3cc80e4aba074ad29d641c0ae65ed42a",
            "value": " 232k/232k [00:00&lt;00:00, 580kB/s]"
          }
        },
        "599575822a214063a752fae8bfa81d40": {
          "model_module": "@jupyter-widgets/base",
          "model_name": "LayoutModel",
          "model_module_version": "1.2.0",
          "state": {
            "_model_module": "@jupyter-widgets/base",
            "_model_module_version": "1.2.0",
            "_model_name": "LayoutModel",
            "_view_count": null,
            "_view_module": "@jupyter-widgets/base",
            "_view_module_version": "1.2.0",
            "_view_name": "LayoutView",
            "align_content": null,
            "align_items": null,
            "align_self": null,
            "border": null,
            "bottom": null,
            "display": null,
            "flex": null,
            "flex_flow": null,
            "grid_area": null,
            "grid_auto_columns": null,
            "grid_auto_flow": null,
            "grid_auto_rows": null,
            "grid_column": null,
            "grid_gap": null,
            "grid_row": null,
            "grid_template_areas": null,
            "grid_template_columns": null,
            "grid_template_rows": null,
            "height": null,
            "justify_content": null,
            "justify_items": null,
            "left": null,
            "margin": null,
            "max_height": null,
            "max_width": null,
            "min_height": null,
            "min_width": null,
            "object_fit": null,
            "object_position": null,
            "order": null,
            "overflow": null,
            "overflow_x": null,
            "overflow_y": null,
            "padding": null,
            "right": null,
            "top": null,
            "visibility": null,
            "width": null
          }
        },
        "0529bc74c5064a779a0efc7f5e18d378": {
          "model_module": "@jupyter-widgets/base",
          "model_name": "LayoutModel",
          "model_module_version": "1.2.0",
          "state": {
            "_model_module": "@jupyter-widgets/base",
            "_model_module_version": "1.2.0",
            "_model_name": "LayoutModel",
            "_view_count": null,
            "_view_module": "@jupyter-widgets/base",
            "_view_module_version": "1.2.0",
            "_view_name": "LayoutView",
            "align_content": null,
            "align_items": null,
            "align_self": null,
            "border": null,
            "bottom": null,
            "display": null,
            "flex": null,
            "flex_flow": null,
            "grid_area": null,
            "grid_auto_columns": null,
            "grid_auto_flow": null,
            "grid_auto_rows": null,
            "grid_column": null,
            "grid_gap": null,
            "grid_row": null,
            "grid_template_areas": null,
            "grid_template_columns": null,
            "grid_template_rows": null,
            "height": null,
            "justify_content": null,
            "justify_items": null,
            "left": null,
            "margin": null,
            "max_height": null,
            "max_width": null,
            "min_height": null,
            "min_width": null,
            "object_fit": null,
            "object_position": null,
            "order": null,
            "overflow": null,
            "overflow_x": null,
            "overflow_y": null,
            "padding": null,
            "right": null,
            "top": null,
            "visibility": null,
            "width": null
          }
        },
        "adea26479e62492295de810e0951527c": {
          "model_module": "@jupyter-widgets/controls",
          "model_name": "DescriptionStyleModel",
          "model_module_version": "1.5.0",
          "state": {
            "_model_module": "@jupyter-widgets/controls",
            "_model_module_version": "1.5.0",
            "_model_name": "DescriptionStyleModel",
            "_view_count": null,
            "_view_module": "@jupyter-widgets/base",
            "_view_module_version": "1.2.0",
            "_view_name": "StyleView",
            "description_width": ""
          }
        },
        "15bf6bb13bf6496cb402229810a845fe": {
          "model_module": "@jupyter-widgets/base",
          "model_name": "LayoutModel",
          "model_module_version": "1.2.0",
          "state": {
            "_model_module": "@jupyter-widgets/base",
            "_model_module_version": "1.2.0",
            "_model_name": "LayoutModel",
            "_view_count": null,
            "_view_module": "@jupyter-widgets/base",
            "_view_module_version": "1.2.0",
            "_view_name": "LayoutView",
            "align_content": null,
            "align_items": null,
            "align_self": null,
            "border": null,
            "bottom": null,
            "display": null,
            "flex": null,
            "flex_flow": null,
            "grid_area": null,
            "grid_auto_columns": null,
            "grid_auto_flow": null,
            "grid_auto_rows": null,
            "grid_column": null,
            "grid_gap": null,
            "grid_row": null,
            "grid_template_areas": null,
            "grid_template_columns": null,
            "grid_template_rows": null,
            "height": null,
            "justify_content": null,
            "justify_items": null,
            "left": null,
            "margin": null,
            "max_height": null,
            "max_width": null,
            "min_height": null,
            "min_width": null,
            "object_fit": null,
            "object_position": null,
            "order": null,
            "overflow": null,
            "overflow_x": null,
            "overflow_y": null,
            "padding": null,
            "right": null,
            "top": null,
            "visibility": null,
            "width": null
          }
        },
        "c530461235584729bb9d38cfbd6be6e7": {
          "model_module": "@jupyter-widgets/controls",
          "model_name": "ProgressStyleModel",
          "model_module_version": "1.5.0",
          "state": {
            "_model_module": "@jupyter-widgets/controls",
            "_model_module_version": "1.5.0",
            "_model_name": "ProgressStyleModel",
            "_view_count": null,
            "_view_module": "@jupyter-widgets/base",
            "_view_module_version": "1.2.0",
            "_view_name": "StyleView",
            "bar_color": null,
            "description_width": ""
          }
        },
        "a27de7da1fb843bc82a18bfa730b6ef4": {
          "model_module": "@jupyter-widgets/base",
          "model_name": "LayoutModel",
          "model_module_version": "1.2.0",
          "state": {
            "_model_module": "@jupyter-widgets/base",
            "_model_module_version": "1.2.0",
            "_model_name": "LayoutModel",
            "_view_count": null,
            "_view_module": "@jupyter-widgets/base",
            "_view_module_version": "1.2.0",
            "_view_name": "LayoutView",
            "align_content": null,
            "align_items": null,
            "align_self": null,
            "border": null,
            "bottom": null,
            "display": null,
            "flex": null,
            "flex_flow": null,
            "grid_area": null,
            "grid_auto_columns": null,
            "grid_auto_flow": null,
            "grid_auto_rows": null,
            "grid_column": null,
            "grid_gap": null,
            "grid_row": null,
            "grid_template_areas": null,
            "grid_template_columns": null,
            "grid_template_rows": null,
            "height": null,
            "justify_content": null,
            "justify_items": null,
            "left": null,
            "margin": null,
            "max_height": null,
            "max_width": null,
            "min_height": null,
            "min_width": null,
            "object_fit": null,
            "object_position": null,
            "order": null,
            "overflow": null,
            "overflow_x": null,
            "overflow_y": null,
            "padding": null,
            "right": null,
            "top": null,
            "visibility": null,
            "width": null
          }
        },
        "3cc80e4aba074ad29d641c0ae65ed42a": {
          "model_module": "@jupyter-widgets/controls",
          "model_name": "DescriptionStyleModel",
          "model_module_version": "1.5.0",
          "state": {
            "_model_module": "@jupyter-widgets/controls",
            "_model_module_version": "1.5.0",
            "_model_name": "DescriptionStyleModel",
            "_view_count": null,
            "_view_module": "@jupyter-widgets/base",
            "_view_module_version": "1.2.0",
            "_view_name": "StyleView",
            "description_width": ""
          }
        },
        "e4de4529e48b494f8f55b6df3c2bece1": {
          "model_module": "@jupyter-widgets/controls",
          "model_name": "HBoxModel",
          "model_module_version": "1.5.0",
          "state": {
            "_dom_classes": [],
            "_model_module": "@jupyter-widgets/controls",
            "_model_module_version": "1.5.0",
            "_model_name": "HBoxModel",
            "_view_count": null,
            "_view_module": "@jupyter-widgets/controls",
            "_view_module_version": "1.5.0",
            "_view_name": "HBoxView",
            "box_style": "",
            "children": [
              "IPY_MODEL_9ea9508bd7344bd9bf43a52711a1fb77",
              "IPY_MODEL_c47ceab5d43b49e2bd2e960cdd4c492e",
              "IPY_MODEL_9593e23a362a4d1d8f28463692a50e90"
            ],
            "layout": "IPY_MODEL_980976dd19e8472597043d38f5d474bf"
          }
        },
        "9ea9508bd7344bd9bf43a52711a1fb77": {
          "model_module": "@jupyter-widgets/controls",
          "model_name": "HTMLModel",
          "model_module_version": "1.5.0",
          "state": {
            "_dom_classes": [],
            "_model_module": "@jupyter-widgets/controls",
            "_model_module_version": "1.5.0",
            "_model_name": "HTMLModel",
            "_view_count": null,
            "_view_module": "@jupyter-widgets/controls",
            "_view_module_version": "1.5.0",
            "_view_name": "HTMLView",
            "description": "",
            "description_tooltip": null,
            "layout": "IPY_MODEL_d69163584f1845a28aadb14b18f1536d",
            "placeholder": "​",
            "style": "IPY_MODEL_a4467ff2c5aa4d8ab41543cf82b1662b",
            "value": "tokenizer.json: 100%"
          }
        },
        "c47ceab5d43b49e2bd2e960cdd4c492e": {
          "model_module": "@jupyter-widgets/controls",
          "model_name": "FloatProgressModel",
          "model_module_version": "1.5.0",
          "state": {
            "_dom_classes": [],
            "_model_module": "@jupyter-widgets/controls",
            "_model_module_version": "1.5.0",
            "_model_name": "FloatProgressModel",
            "_view_count": null,
            "_view_module": "@jupyter-widgets/controls",
            "_view_module_version": "1.5.0",
            "_view_name": "ProgressView",
            "bar_style": "success",
            "description": "",
            "description_tooltip": null,
            "layout": "IPY_MODEL_a97dc2d5747f4d539cbf658e1a25115d",
            "max": 466062,
            "min": 0,
            "orientation": "horizontal",
            "style": "IPY_MODEL_311d9d04fc1e4a14958cb4cb54421b38",
            "value": 466062
          }
        },
        "9593e23a362a4d1d8f28463692a50e90": {
          "model_module": "@jupyter-widgets/controls",
          "model_name": "HTMLModel",
          "model_module_version": "1.5.0",
          "state": {
            "_dom_classes": [],
            "_model_module": "@jupyter-widgets/controls",
            "_model_module_version": "1.5.0",
            "_model_name": "HTMLModel",
            "_view_count": null,
            "_view_module": "@jupyter-widgets/controls",
            "_view_module_version": "1.5.0",
            "_view_name": "HTMLView",
            "description": "",
            "description_tooltip": null,
            "layout": "IPY_MODEL_7aa840cf2489416896466f687dc45413",
            "placeholder": "​",
            "style": "IPY_MODEL_adea9a80623c4b1eadb0991e662b190a",
            "value": " 466k/466k [00:00&lt;00:00, 781kB/s]"
          }
        },
        "980976dd19e8472597043d38f5d474bf": {
          "model_module": "@jupyter-widgets/base",
          "model_name": "LayoutModel",
          "model_module_version": "1.2.0",
          "state": {
            "_model_module": "@jupyter-widgets/base",
            "_model_module_version": "1.2.0",
            "_model_name": "LayoutModel",
            "_view_count": null,
            "_view_module": "@jupyter-widgets/base",
            "_view_module_version": "1.2.0",
            "_view_name": "LayoutView",
            "align_content": null,
            "align_items": null,
            "align_self": null,
            "border": null,
            "bottom": null,
            "display": null,
            "flex": null,
            "flex_flow": null,
            "grid_area": null,
            "grid_auto_columns": null,
            "grid_auto_flow": null,
            "grid_auto_rows": null,
            "grid_column": null,
            "grid_gap": null,
            "grid_row": null,
            "grid_template_areas": null,
            "grid_template_columns": null,
            "grid_template_rows": null,
            "height": null,
            "justify_content": null,
            "justify_items": null,
            "left": null,
            "margin": null,
            "max_height": null,
            "max_width": null,
            "min_height": null,
            "min_width": null,
            "object_fit": null,
            "object_position": null,
            "order": null,
            "overflow": null,
            "overflow_x": null,
            "overflow_y": null,
            "padding": null,
            "right": null,
            "top": null,
            "visibility": null,
            "width": null
          }
        },
        "d69163584f1845a28aadb14b18f1536d": {
          "model_module": "@jupyter-widgets/base",
          "model_name": "LayoutModel",
          "model_module_version": "1.2.0",
          "state": {
            "_model_module": "@jupyter-widgets/base",
            "_model_module_version": "1.2.0",
            "_model_name": "LayoutModel",
            "_view_count": null,
            "_view_module": "@jupyter-widgets/base",
            "_view_module_version": "1.2.0",
            "_view_name": "LayoutView",
            "align_content": null,
            "align_items": null,
            "align_self": null,
            "border": null,
            "bottom": null,
            "display": null,
            "flex": null,
            "flex_flow": null,
            "grid_area": null,
            "grid_auto_columns": null,
            "grid_auto_flow": null,
            "grid_auto_rows": null,
            "grid_column": null,
            "grid_gap": null,
            "grid_row": null,
            "grid_template_areas": null,
            "grid_template_columns": null,
            "grid_template_rows": null,
            "height": null,
            "justify_content": null,
            "justify_items": null,
            "left": null,
            "margin": null,
            "max_height": null,
            "max_width": null,
            "min_height": null,
            "min_width": null,
            "object_fit": null,
            "object_position": null,
            "order": null,
            "overflow": null,
            "overflow_x": null,
            "overflow_y": null,
            "padding": null,
            "right": null,
            "top": null,
            "visibility": null,
            "width": null
          }
        },
        "a4467ff2c5aa4d8ab41543cf82b1662b": {
          "model_module": "@jupyter-widgets/controls",
          "model_name": "DescriptionStyleModel",
          "model_module_version": "1.5.0",
          "state": {
            "_model_module": "@jupyter-widgets/controls",
            "_model_module_version": "1.5.0",
            "_model_name": "DescriptionStyleModel",
            "_view_count": null,
            "_view_module": "@jupyter-widgets/base",
            "_view_module_version": "1.2.0",
            "_view_name": "StyleView",
            "description_width": ""
          }
        },
        "a97dc2d5747f4d539cbf658e1a25115d": {
          "model_module": "@jupyter-widgets/base",
          "model_name": "LayoutModel",
          "model_module_version": "1.2.0",
          "state": {
            "_model_module": "@jupyter-widgets/base",
            "_model_module_version": "1.2.0",
            "_model_name": "LayoutModel",
            "_view_count": null,
            "_view_module": "@jupyter-widgets/base",
            "_view_module_version": "1.2.0",
            "_view_name": "LayoutView",
            "align_content": null,
            "align_items": null,
            "align_self": null,
            "border": null,
            "bottom": null,
            "display": null,
            "flex": null,
            "flex_flow": null,
            "grid_area": null,
            "grid_auto_columns": null,
            "grid_auto_flow": null,
            "grid_auto_rows": null,
            "grid_column": null,
            "grid_gap": null,
            "grid_row": null,
            "grid_template_areas": null,
            "grid_template_columns": null,
            "grid_template_rows": null,
            "height": null,
            "justify_content": null,
            "justify_items": null,
            "left": null,
            "margin": null,
            "max_height": null,
            "max_width": null,
            "min_height": null,
            "min_width": null,
            "object_fit": null,
            "object_position": null,
            "order": null,
            "overflow": null,
            "overflow_x": null,
            "overflow_y": null,
            "padding": null,
            "right": null,
            "top": null,
            "visibility": null,
            "width": null
          }
        },
        "311d9d04fc1e4a14958cb4cb54421b38": {
          "model_module": "@jupyter-widgets/controls",
          "model_name": "ProgressStyleModel",
          "model_module_version": "1.5.0",
          "state": {
            "_model_module": "@jupyter-widgets/controls",
            "_model_module_version": "1.5.0",
            "_model_name": "ProgressStyleModel",
            "_view_count": null,
            "_view_module": "@jupyter-widgets/base",
            "_view_module_version": "1.2.0",
            "_view_name": "StyleView",
            "bar_color": null,
            "description_width": ""
          }
        },
        "7aa840cf2489416896466f687dc45413": {
          "model_module": "@jupyter-widgets/base",
          "model_name": "LayoutModel",
          "model_module_version": "1.2.0",
          "state": {
            "_model_module": "@jupyter-widgets/base",
            "_model_module_version": "1.2.0",
            "_model_name": "LayoutModel",
            "_view_count": null,
            "_view_module": "@jupyter-widgets/base",
            "_view_module_version": "1.2.0",
            "_view_name": "LayoutView",
            "align_content": null,
            "align_items": null,
            "align_self": null,
            "border": null,
            "bottom": null,
            "display": null,
            "flex": null,
            "flex_flow": null,
            "grid_area": null,
            "grid_auto_columns": null,
            "grid_auto_flow": null,
            "grid_auto_rows": null,
            "grid_column": null,
            "grid_gap": null,
            "grid_row": null,
            "grid_template_areas": null,
            "grid_template_columns": null,
            "grid_template_rows": null,
            "height": null,
            "justify_content": null,
            "justify_items": null,
            "left": null,
            "margin": null,
            "max_height": null,
            "max_width": null,
            "min_height": null,
            "min_width": null,
            "object_fit": null,
            "object_position": null,
            "order": null,
            "overflow": null,
            "overflow_x": null,
            "overflow_y": null,
            "padding": null,
            "right": null,
            "top": null,
            "visibility": null,
            "width": null
          }
        },
        "adea9a80623c4b1eadb0991e662b190a": {
          "model_module": "@jupyter-widgets/controls",
          "model_name": "DescriptionStyleModel",
          "model_module_version": "1.5.0",
          "state": {
            "_model_module": "@jupyter-widgets/controls",
            "_model_module_version": "1.5.0",
            "_model_name": "DescriptionStyleModel",
            "_view_count": null,
            "_view_module": "@jupyter-widgets/base",
            "_view_module_version": "1.2.0",
            "_view_name": "StyleView",
            "description_width": ""
          }
        },
        "cc900d7f02d34260a5c1204b750b5f28": {
          "model_module": "@jupyter-widgets/controls",
          "model_name": "HBoxModel",
          "model_module_version": "1.5.0",
          "state": {
            "_dom_classes": [],
            "_model_module": "@jupyter-widgets/controls",
            "_model_module_version": "1.5.0",
            "_model_name": "HBoxModel",
            "_view_count": null,
            "_view_module": "@jupyter-widgets/controls",
            "_view_module_version": "1.5.0",
            "_view_name": "HBoxView",
            "box_style": "",
            "children": [
              "IPY_MODEL_9523e337081c4b3f9beb20bed73766ea",
              "IPY_MODEL_4ddcd57ba29c4a86a85e3477d7ccf1f8",
              "IPY_MODEL_0ffb12a694624914916a9b19040a6142"
            ],
            "layout": "IPY_MODEL_aab0888a5acf48698215d0ce28b8edea"
          }
        },
        "9523e337081c4b3f9beb20bed73766ea": {
          "model_module": "@jupyter-widgets/controls",
          "model_name": "HTMLModel",
          "model_module_version": "1.5.0",
          "state": {
            "_dom_classes": [],
            "_model_module": "@jupyter-widgets/controls",
            "_model_module_version": "1.5.0",
            "_model_name": "HTMLModel",
            "_view_count": null,
            "_view_module": "@jupyter-widgets/controls",
            "_view_module_version": "1.5.0",
            "_view_name": "HTMLView",
            "description": "",
            "description_tooltip": null,
            "layout": "IPY_MODEL_ef7bc4e06bf446ae85fee4f3c4b3eb38",
            "placeholder": "​",
            "style": "IPY_MODEL_571752e5a16046aaa35d687992a540cd",
            "value": "model.safetensors: 100%"
          }
        },
        "4ddcd57ba29c4a86a85e3477d7ccf1f8": {
          "model_module": "@jupyter-widgets/controls",
          "model_name": "FloatProgressModel",
          "model_module_version": "1.5.0",
          "state": {
            "_dom_classes": [],
            "_model_module": "@jupyter-widgets/controls",
            "_model_module_version": "1.5.0",
            "_model_name": "FloatProgressModel",
            "_view_count": null,
            "_view_module": "@jupyter-widgets/controls",
            "_view_module_version": "1.5.0",
            "_view_name": "ProgressView",
            "bar_style": "success",
            "description": "",
            "description_tooltip": null,
            "layout": "IPY_MODEL_4e0cecf4d16342338e279ca442d1f84c",
            "max": 440449768,
            "min": 0,
            "orientation": "horizontal",
            "style": "IPY_MODEL_2c71476261294d119c83905ba9d15df5",
            "value": 440449768
          }
        },
        "0ffb12a694624914916a9b19040a6142": {
          "model_module": "@jupyter-widgets/controls",
          "model_name": "HTMLModel",
          "model_module_version": "1.5.0",
          "state": {
            "_dom_classes": [],
            "_model_module": "@jupyter-widgets/controls",
            "_model_module_version": "1.5.0",
            "_model_name": "HTMLModel",
            "_view_count": null,
            "_view_module": "@jupyter-widgets/controls",
            "_view_module_version": "1.5.0",
            "_view_name": "HTMLView",
            "description": "",
            "description_tooltip": null,
            "layout": "IPY_MODEL_6b4cbb5d462243a6b1b8ede06f942fbb",
            "placeholder": "​",
            "style": "IPY_MODEL_80db4f9ffb2843d5bba4bd17951bce4a",
            "value": " 440M/440M [00:02&lt;00:00, 158MB/s]"
          }
        },
        "aab0888a5acf48698215d0ce28b8edea": {
          "model_module": "@jupyter-widgets/base",
          "model_name": "LayoutModel",
          "model_module_version": "1.2.0",
          "state": {
            "_model_module": "@jupyter-widgets/base",
            "_model_module_version": "1.2.0",
            "_model_name": "LayoutModel",
            "_view_count": null,
            "_view_module": "@jupyter-widgets/base",
            "_view_module_version": "1.2.0",
            "_view_name": "LayoutView",
            "align_content": null,
            "align_items": null,
            "align_self": null,
            "border": null,
            "bottom": null,
            "display": null,
            "flex": null,
            "flex_flow": null,
            "grid_area": null,
            "grid_auto_columns": null,
            "grid_auto_flow": null,
            "grid_auto_rows": null,
            "grid_column": null,
            "grid_gap": null,
            "grid_row": null,
            "grid_template_areas": null,
            "grid_template_columns": null,
            "grid_template_rows": null,
            "height": null,
            "justify_content": null,
            "justify_items": null,
            "left": null,
            "margin": null,
            "max_height": null,
            "max_width": null,
            "min_height": null,
            "min_width": null,
            "object_fit": null,
            "object_position": null,
            "order": null,
            "overflow": null,
            "overflow_x": null,
            "overflow_y": null,
            "padding": null,
            "right": null,
            "top": null,
            "visibility": null,
            "width": null
          }
        },
        "ef7bc4e06bf446ae85fee4f3c4b3eb38": {
          "model_module": "@jupyter-widgets/base",
          "model_name": "LayoutModel",
          "model_module_version": "1.2.0",
          "state": {
            "_model_module": "@jupyter-widgets/base",
            "_model_module_version": "1.2.0",
            "_model_name": "LayoutModel",
            "_view_count": null,
            "_view_module": "@jupyter-widgets/base",
            "_view_module_version": "1.2.0",
            "_view_name": "LayoutView",
            "align_content": null,
            "align_items": null,
            "align_self": null,
            "border": null,
            "bottom": null,
            "display": null,
            "flex": null,
            "flex_flow": null,
            "grid_area": null,
            "grid_auto_columns": null,
            "grid_auto_flow": null,
            "grid_auto_rows": null,
            "grid_column": null,
            "grid_gap": null,
            "grid_row": null,
            "grid_template_areas": null,
            "grid_template_columns": null,
            "grid_template_rows": null,
            "height": null,
            "justify_content": null,
            "justify_items": null,
            "left": null,
            "margin": null,
            "max_height": null,
            "max_width": null,
            "min_height": null,
            "min_width": null,
            "object_fit": null,
            "object_position": null,
            "order": null,
            "overflow": null,
            "overflow_x": null,
            "overflow_y": null,
            "padding": null,
            "right": null,
            "top": null,
            "visibility": null,
            "width": null
          }
        },
        "571752e5a16046aaa35d687992a540cd": {
          "model_module": "@jupyter-widgets/controls",
          "model_name": "DescriptionStyleModel",
          "model_module_version": "1.5.0",
          "state": {
            "_model_module": "@jupyter-widgets/controls",
            "_model_module_version": "1.5.0",
            "_model_name": "DescriptionStyleModel",
            "_view_count": null,
            "_view_module": "@jupyter-widgets/base",
            "_view_module_version": "1.2.0",
            "_view_name": "StyleView",
            "description_width": ""
          }
        },
        "4e0cecf4d16342338e279ca442d1f84c": {
          "model_module": "@jupyter-widgets/base",
          "model_name": "LayoutModel",
          "model_module_version": "1.2.0",
          "state": {
            "_model_module": "@jupyter-widgets/base",
            "_model_module_version": "1.2.0",
            "_model_name": "LayoutModel",
            "_view_count": null,
            "_view_module": "@jupyter-widgets/base",
            "_view_module_version": "1.2.0",
            "_view_name": "LayoutView",
            "align_content": null,
            "align_items": null,
            "align_self": null,
            "border": null,
            "bottom": null,
            "display": null,
            "flex": null,
            "flex_flow": null,
            "grid_area": null,
            "grid_auto_columns": null,
            "grid_auto_flow": null,
            "grid_auto_rows": null,
            "grid_column": null,
            "grid_gap": null,
            "grid_row": null,
            "grid_template_areas": null,
            "grid_template_columns": null,
            "grid_template_rows": null,
            "height": null,
            "justify_content": null,
            "justify_items": null,
            "left": null,
            "margin": null,
            "max_height": null,
            "max_width": null,
            "min_height": null,
            "min_width": null,
            "object_fit": null,
            "object_position": null,
            "order": null,
            "overflow": null,
            "overflow_x": null,
            "overflow_y": null,
            "padding": null,
            "right": null,
            "top": null,
            "visibility": null,
            "width": null
          }
        },
        "2c71476261294d119c83905ba9d15df5": {
          "model_module": "@jupyter-widgets/controls",
          "model_name": "ProgressStyleModel",
          "model_module_version": "1.5.0",
          "state": {
            "_model_module": "@jupyter-widgets/controls",
            "_model_module_version": "1.5.0",
            "_model_name": "ProgressStyleModel",
            "_view_count": null,
            "_view_module": "@jupyter-widgets/base",
            "_view_module_version": "1.2.0",
            "_view_name": "StyleView",
            "bar_color": null,
            "description_width": ""
          }
        },
        "6b4cbb5d462243a6b1b8ede06f942fbb": {
          "model_module": "@jupyter-widgets/base",
          "model_name": "LayoutModel",
          "model_module_version": "1.2.0",
          "state": {
            "_model_module": "@jupyter-widgets/base",
            "_model_module_version": "1.2.0",
            "_model_name": "LayoutModel",
            "_view_count": null,
            "_view_module": "@jupyter-widgets/base",
            "_view_module_version": "1.2.0",
            "_view_name": "LayoutView",
            "align_content": null,
            "align_items": null,
            "align_self": null,
            "border": null,
            "bottom": null,
            "display": null,
            "flex": null,
            "flex_flow": null,
            "grid_area": null,
            "grid_auto_columns": null,
            "grid_auto_flow": null,
            "grid_auto_rows": null,
            "grid_column": null,
            "grid_gap": null,
            "grid_row": null,
            "grid_template_areas": null,
            "grid_template_columns": null,
            "grid_template_rows": null,
            "height": null,
            "justify_content": null,
            "justify_items": null,
            "left": null,
            "margin": null,
            "max_height": null,
            "max_width": null,
            "min_height": null,
            "min_width": null,
            "object_fit": null,
            "object_position": null,
            "order": null,
            "overflow": null,
            "overflow_x": null,
            "overflow_y": null,
            "padding": null,
            "right": null,
            "top": null,
            "visibility": null,
            "width": null
          }
        },
        "80db4f9ffb2843d5bba4bd17951bce4a": {
          "model_module": "@jupyter-widgets/controls",
          "model_name": "DescriptionStyleModel",
          "model_module_version": "1.5.0",
          "state": {
            "_model_module": "@jupyter-widgets/controls",
            "_model_module_version": "1.5.0",
            "_model_name": "DescriptionStyleModel",
            "_view_count": null,
            "_view_module": "@jupyter-widgets/base",
            "_view_module_version": "1.2.0",
            "_view_name": "StyleView",
            "description_width": ""
          }
        }
      }
    }
  },
  "nbformat": 4,
  "nbformat_minor": 0
}