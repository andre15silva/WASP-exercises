{
 "cells": [
  {
   "cell_type": "markdown",
   "metadata": {},
   "source": [
    "# Assignment 1: Language modelling"
   ]
  },
  {
   "cell_type": "markdown",
   "metadata": {},
   "source": [
    "In this assignment you will implement and train two or three neural language models: the fixed-window model, the recurrent neural network model from Unit&nbsp;1-2, and optionally a model based on the Transformer architecture from Unit&nbsp;1-3. You will evaluate these models by computing their perplexity on a benchmark dataset."
   ]
  },
  {
   "cell_type": "code",
   "execution_count": 1,
   "metadata": {},
   "outputs": [],
   "source": [
    "import torch"
   ]
  },
  {
   "cell_type": "markdown",
   "metadata": {},
   "source": [
    "For this lab, you should use the GPU if you have one:"
   ]
  },
  {
   "cell_type": "code",
   "execution_count": 2,
   "metadata": {},
   "outputs": [],
   "source": [
    "device = torch.device('cuda' if torch.cuda.is_available() else 'cpu')    # NVIDIA\n",
    "# device = torch.device('mps')    # Apple Silicon"
   ]
  },
  {
   "cell_type": "markdown",
   "metadata": {},
   "source": [
    "## Data"
   ]
  },
  {
   "cell_type": "markdown",
   "metadata": {},
   "source": [
    "The data for this assignment is [WikiText](https://blog.salesforceairesearch.com/the-wikitext-long-term-dependency-language-modeling-dataset/), a collection of more than 100 million tokens extracted from the “Good” and “Featured” articles on Wikipedia. We will use the small version of the dataset, which contains slightly more than 2.5 million tokens.\n",
    "\n",
    "The next cell contains code for an object that will act as a container for the “training” and the “validation” section of the data. We fill this container by reading the corresponding text files. The only processing we do is to whitespace-tokenise and to replace each newline with an end-of-sentence token."
   ]
  },
  {
   "cell_type": "code",
   "execution_count": 3,
   "metadata": {},
   "outputs": [],
   "source": [
    "class WikiText(object):\n",
    "\n",
    "    def __init__(self):\n",
    "        self.word2idx = {}\n",
    "        self.idx2word = []\n",
    "        self.train = self.read_data('wiki.train.tokens')\n",
    "        self.valid = self.read_data('wiki.valid.tokens')\n",
    "\n",
    "    def read_data(self, path):\n",
    "        ids = []\n",
    "        with open(path, encoding='utf-8') as source:\n",
    "            for line in source:\n",
    "                for word in line.split() + ['<eos>']:\n",
    "                    if word not in self.word2idx:\n",
    "                        self.word2idx[word] = len(self.word2idx)\n",
    "                        self.idx2word.append(word)\n",
    "                    ids.append(self.word2idx[word])\n",
    "        return ids"
   ]
  },
  {
   "cell_type": "markdown",
   "metadata": {},
   "source": [
    "The cell below loads the data and prints the total number of tokens and the size of the vocabulary."
   ]
  },
  {
   "cell_type": "code",
   "execution_count": 4,
   "metadata": {},
   "outputs": [
    {
     "name": "stdout",
     "output_type": "stream",
     "text": [
      "Tokens in train: 2088628\n",
      "Tokens in valid: 217646\n",
      "Vocabulary size: 33278\n"
     ]
    }
   ],
   "source": [
    "wikitext = WikiText()\n",
    "\n",
    "print('Tokens in train:', len(wikitext.train))\n",
    "print('Tokens in valid:', len(wikitext.valid))\n",
    "print('Vocabulary size:', len(wikitext.word2idx))"
   ]
  },
  {
   "cell_type": "markdown",
   "metadata": {},
   "source": [
    "## Problem 1: Fixed-window model"
   ]
  },
  {
   "cell_type": "markdown",
   "metadata": {},
   "source": [
    "In this section, you will implement and train the fixed-window neural language model proposed by [Bengio et al. (2003)](http://www.jmlr.org/papers/volume3/bengio03a/bengio03a.pdf) and presented in the lectures. Recall that an input to the network takes the form of a vector of $n-1$ integers representing the preceding words. Each integer is mapped to a vector via an embedding layer. (All positions share the same embedding.) The embedding vectors are then concatenated and sent through a two-layer feed-forward network with a non-linearity in the form of a rectified linear unit (ReLU) and a final softmax layer."
   ]
  },
  {
   "cell_type": "markdown",
   "metadata": {},
   "source": [
    "### Problem 1.1: Vectorise the data"
   ]
  },
  {
   "cell_type": "markdown",
   "metadata": {},
   "source": [
    "Your first task is to write code for transforming the data in the WikiText container into a vectorised form that can be fed to the fixed-window model. Concretely, you will implement a [collate function](https://pytorch.org/docs/stable/data.html#dataloader-collate-fn) in the form of a callable vectoriser object. Complete the skeleton code in the cell below:"
   ]
  },
  {
   "cell_type": "code",
   "execution_count": 5,
   "metadata": {},
   "outputs": [],
   "source": [
    "class FixedWindowVectorizer(object):\n",
    "    def __init__(self, n):\n",
    "        self.n = n\n",
    "\n",
    "    def __call__(self, data):\n",
    "        return torch.tensor([data[i:i+self.n-1] for i in range(len(data)-self.n+1)], device=device), torch.tensor([data[i+self.n-1] for i in range(len(data)-self.n+1)], device=device)"
   ]
  },
  {
   "cell_type": "markdown",
   "metadata": {},
   "source": [
    "Your code should implement the following specification:\n",
    "\n",
    "**__init__** (*self*, *n*)\n",
    "\n",
    "> Creates a new vectoriser with n-gram order $n$. Your code should be able to handle arbitrary n-gram orders $n \\geq 1$.\n",
    "\n",
    "**__call__** (*self*, *data*)\n",
    "\n",
    "> Transforms WikiText *data* (a list of word ids) into a pair of tensors $\\mathbf{X}$, $\\mathbf{y}$ that can be used to train the fixed-window model. Let $N$ be the total number of $n$-grams from the token list; then $\\mathbf{X}$ is a matrix with shape $(N, n-1)$ and $\\mathbf{y}$ is a vector with length $N$."
   ]
  },
  {
   "cell_type": "markdown",
   "metadata": {},
   "source": [
    "#### 🤞 Test your code\n",
    "\n",
    "Test your implementation by running the code in the next cell. Does the output match your expectation?"
   ]
  },
  {
   "cell_type": "code",
   "execution_count": 6,
   "metadata": {},
   "outputs": [
    {
     "name": "stdout",
     "output_type": "stream",
     "text": [
      "torch.Size([217644, 2]) torch.Size([217644])\n"
     ]
    }
   ],
   "source": [
    "valid_x, valid_y = FixedWindowVectorizer(3)(wikitext.valid)\n",
    "\n",
    "print(valid_x.size(), valid_y.size())"
   ]
  },
  {
   "cell_type": "markdown",
   "metadata": {},
   "source": [
    "### Problem 1.2: Implement the model"
   ]
  },
  {
   "cell_type": "markdown",
   "metadata": {},
   "source": [
    "Your next task is to implement the fixed-window model based on the graphical specification given in the lecture."
   ]
  },
  {
   "cell_type": "code",
   "execution_count": 7,
   "metadata": {},
   "outputs": [],
   "source": [
    "import torch.nn as nn\n",
    "\n",
    "class FixedWindowModel(nn.Module):\n",
    "\n",
    "    def __init__(self, n, n_words, embedding_dim=64, hidden_dim=64):\n",
    "        super().__init__()\n",
    "        self.n = n\n",
    "        self.n_words = n_words\n",
    "        self.embedding_dim = embedding_dim\n",
    "        self.hidden_dim = hidden_dim\n",
    "        self.embedding = nn.Embedding(n_words, embedding_dim)\n",
    "        self.fc1 = nn.Linear((n-1) * embedding_dim, hidden_dim)\n",
    "        self.fc2 = nn.Linear(hidden_dim, n_words)\n",
    "\n",
    "    def forward(self, x):\n",
    "        return self.fc2(torch.tanh(self.fc1(self.embedding(x).view(x.size(0), -1))))\n",
    "\n",
    "    def generate(self, context, n_tokens=10, temperature=1.0):\n",
    "        for _ in range(n_tokens):\n",
    "            # Sample with temperature: divide logits by temperature before softmax, then sample multinomial distribution\n",
    "            # We can only send the last n-1 tokens to the model\n",
    "            logits = torch.softmax(self(context[:, -self.n+1:])/temperature, dim=0)\n",
    "            idxs = logits.multinomial(num_samples=1, replacement=True)\n",
    "            context = torch.cat((context, idxs), dim=1)\n",
    "        return context"
   ]
  },
  {
   "cell_type": "markdown",
   "metadata": {},
   "source": [
    "Here is the specification of the two methods:\n",
    "\n",
    "**__init__** (*self*, *n*, *n_words*, *embedding_dim*=64, *hidden_dim*=64)\n",
    "\n",
    "> Creates a new fixed-window neural language model. The argument *n* specifies the model&rsquo;s $n$-gram order. The argument *n_words* is the number of words in the vocabulary. The arguments *embedding_dim* and *hidden_dim* specify the dimensionalities of the embedding layer and the hidden layer of the feedforward network, respectively; their default value is 64.\n",
    "\n",
    "**forward** (*self*, *x*)\n",
    "\n",
    "> Computes the network output on an input batch *x*. The shape of *x* is $(B, n-1)$, where $B$ is the batch size. The output of the forward pass is a tensor of shape $(B, V)$ where $V$ is the number of words in the vocabulary.\n",
    "\n",
    "#### 🤞 Test your code\n",
    "\n",
    "Test your code by instantiating the model and feeding it a batch of examples from the training data."
   ]
  },
  {
   "cell_type": "code",
   "execution_count": 8,
   "metadata": {},
   "outputs": [
    {
     "name": "stdout",
     "output_type": "stream",
     "text": [
      "FixedWindowModel(\n",
      "  (embedding): Embedding(33278, 64)\n",
      "  (fc1): Linear(in_features=128, out_features=64, bias=True)\n",
      "  (fc2): Linear(in_features=64, out_features=33278, bias=True)\n",
      ")\n",
      "Number of parameters: 4301118\n",
      "torch.Size([16, 33278])\n"
     ]
    },
    {
     "data": {
      "text/plain": [
       "tensor([[    1,     2,     3, 16738, 22230,  3839,  3877, 27720,  6772, 14499,\n",
       "         24509,  7938,  5720],\n",
       "        [    1,     2,     4, 22129, 33270, 20146, 17175,  4726, 22297,  9838,\n",
       "         10773,  8804, 19095]], device='cuda:0')"
      ]
     },
     "execution_count": 8,
     "metadata": {},
     "output_type": "execute_result"
    }
   ],
   "source": [
    "# Instantiate objects\n",
    "test_model_fw = FixedWindowModel(3, len(wikitext.word2idx)).to(device)\n",
    "vectorizer = FixedWindowVectorizer(3)\n",
    "\n",
    "# Print model\n",
    "print(test_model_fw)\n",
    "print('Number of parameters:', sum(p.numel() for p in test_model_fw.parameters() if p.requires_grad))\n",
    "\n",
    "# Test the forward pass\n",
    "x, y = vectorizer(wikitext.valid)\n",
    "print(test_model_fw(x[:16]).size())\n",
    "\n",
    "# Test generate function\n",
    "test_model_fw.generate(torch.tensor([[1, 2, 3], [1, 2, 4]], device=device))"
   ]
  },
  {
   "cell_type": "markdown",
   "metadata": {},
   "source": [
    "### Problem 1.3: Train the model"
   ]
  },
  {
   "cell_type": "markdown",
   "metadata": {},
   "source": [
    "Next, write code to train the fixed-window model using minibatch gradient descent and the cross-entropy loss function. This should be a straightforward generalisation of the training loops that you have seen so far. Complete the skeleton code in the cell below:"
   ]
  },
  {
   "cell_type": "code",
   "execution_count": 10,
   "metadata": {},
   "outputs": [],
   "source": [
    "def perplexity_fixed_window(model, vectorizer, data, batch_size=3072):\n",
    "    # Test the model by computing the perplexity on the validation set\n",
    "    # Save memory by not storing gradients\n",
    "    with torch.no_grad():\n",
    "        model.train(mode=False)\n",
    "        loss_fn = nn.CrossEntropyLoss()\n",
    "        nlls = []\n",
    "        for i in range(0, len(data)-model.n+1, batch_size):\n",
    "            x, y = vectorizer(data[i:i+batch_size])\n",
    "            y_pred = model(x)\n",
    "            nlls.append(loss_fn(y_pred, y))\n",
    "        return torch.exp(torch.stack(nlls).mean()).item()\n",
    "\n",
    "def train_fixed_window(n, n_epochs=2, batch_size=3072, lr=1e-2):\n",
    "    # Initialization \n",
    "    model = FixedWindowModel(n, len(wikitext.word2idx)).to(device)\n",
    "    vectorizer = FixedWindowVectorizer(n)\n",
    "    optimizer = torch.optim.Adam(model.parameters(), lr=lr, weight_decay=1e-6)\n",
    "    loss_fn = nn.CrossEntropyLoss()\n",
    "\n",
    "    # Training loop\n",
    "    for epoch in range(n_epochs):\n",
    "        model.train()\n",
    "        for i in range(0, len(wikitext.train)-n+1, batch_size):\n",
    "            x, y = vectorizer(wikitext.train[i:i+batch_size])\n",
    "            y_pred = model(x)\n",
    "            loss = loss_fn(y_pred, y)\n",
    "            optimizer.zero_grad()\n",
    "            loss.backward()\n",
    "            optimizer.step()\n",
    "        print('Epoch:', epoch)\n",
    "        print('Validation Perplexity:', perplexity_fixed_window(model, vectorizer, wikitext.valid))    \n",
    "    return model"
   ]
  },
  {
   "cell_type": "markdown",
   "metadata": {},
   "source": [
    "Here is the specification of the training function:\n",
    "\n",
    "**train_fixed_window** (*n*, *n_epochs* = 2, *batch_size* = 3072, *lr* = 0.01)\n",
    "\n",
    "> Trains a fixed-window neural language model of order *n* using minibatch gradient descent and returns it. The parameters *n_epochs* and *batch_size* specify the number of training epochs and the minibatch size, respectively. Training uses the cross-entropy loss function and the [Adam optimizer](https://pytorch.org/docs/stable/optim.html#torch.optim.Adam) with learning rate *lr*. After each epoch, prints the perplexity of the model on the validation data."
   ]
  },
  {
   "cell_type": "markdown",
   "metadata": {},
   "source": [
    "The code in the cell below trains a trigram model."
   ]
  },
  {
   "cell_type": "code",
   "execution_count": 13,
   "metadata": {},
   "outputs": [
    {
     "name": "stdout",
     "output_type": "stream",
     "text": [
      "Epoch: 0\n",
      "Validation Perplexity: 330.84820556640625\n",
      "Epoch: 1\n",
      "Validation Perplexity: 318.74090576171875\n"
     ]
    }
   ],
   "source": [
    "model_fixed_window = train_fixed_window(3)"
   ]
  },
  {
   "cell_type": "markdown",
   "metadata": {},
   "source": [
    "#### Performance goal\n",
    "\n",
    "Your submitted notebook must contain output demonstrating a validation perplexity of **at most 360** after training for two epochs with the default parameters.\n",
    "\n",
    "⚠️ Computing the validation perplexity in one go (for the full validation set) will most probably exhaust your computer’s memory and/or take a lot of time. Instead, do the computation at the minibatch level and aggregate the results."
   ]
  },
  {
   "cell_type": "markdown",
   "metadata": {},
   "source": [
    "#### 🤞 Test your code\n",
    "\n",
    "To see whether your network is learning something, print or plot the loss and/or the perplexity on the training data. If the two values do not decrease during training, try to find the problem before wasting time (and electricity) on useless computation.\n",
    "\n",
    "Training and even evaluation will take some time – on a CPU, you should expect several minutes per epoch, depending on hardware. Our reference implementation uses a GPU and runs in 45&nbsp;seconds on a MacBook Pro (2023)."
   ]
  },
  {
   "cell_type": "markdown",
   "metadata": {},
   "source": [
    "## Problem 2: Recurrent neural network model"
   ]
  },
  {
   "cell_type": "markdown",
   "metadata": {},
   "source": [
    "In this section, you will implement the recurrent neural network language model. Recall that an input to this model is a vector of word ids. Each integer is mapped to an embedding vector. The sequence of embedded vectors is then fed into an unrolled LSTM. At each position $i$ in the sequence, the hidden state of the LSTM at that position is sent through a linear transformation into a final softmax layer representing the probability distribution over the words at position $i+1$. In theory, the input vector could represent the complete training data; for practical reasons, however, we will truncate the input to some fixed value *bptt_len*. This length is called the **backpropagation-through-time horizon**."
   ]
  },
  {
   "cell_type": "markdown",
   "metadata": {},
   "source": [
    "### Problem 2.1: Vectorise the data"
   ]
  },
  {
   "cell_type": "markdown",
   "metadata": {},
   "source": [
    "As in the previous problem, your first task is to transform the data in the WikiText container into a vectorised form that can be fed to the model."
   ]
  },
  {
   "cell_type": "code",
   "execution_count": 14,
   "metadata": {},
   "outputs": [],
   "source": [
    "class RNNVectorizer(object):\n",
    "    def __init__(self, bptt_len):\n",
    "        self.bptt_len = bptt_len\n",
    "\n",
    "    def __call__(self, data):\n",
    "        return torch.tensor([data[i:i+self.bptt_len] for i in range(0, len(data)-self.bptt_len-1, self.bptt_len)], device=device), torch.tensor([data[i+1:i+self.bptt_len+1] for i in range(0, len(data)-self.bptt_len-1, self.bptt_len)], device=device)"
   ]
  },
  {
   "cell_type": "markdown",
   "metadata": {},
   "source": [
    "Your vectoriser should meet the following specification:\n",
    "\n",
    "**__init__** (*self*, *bptt_len*)\n",
    "\n",
    "> Creates a new vectoriser. The parameter *bptt_len* specifies the backpropagation-through-time horizon.\n",
    "\n",
    "**__call__** (*self*, *data*)\n",
    "\n",
    "> Transforms a list of token indexes *data* into a pair of tensors $\\mathbf{X}$, $\\mathbf{Y}$ that can be used to train the recurrent neural language model. The rows of both tensors represent contiguous subsequences of token indexes of length *bptt_len*. Compared to the sequences in $\\mathbf{X}$, the corresponding sequences in $\\mathbf{Y}$ are shifted one position to the right. More precisely, if the $i$ th row of $\\mathbf{X}$ is the sequence that starts at token position $j$, then the same row of $\\mathbf{Y}$ is the sequence that starts at position $j+1$."
   ]
  },
  {
   "cell_type": "markdown",
   "metadata": {},
   "source": [
    "#### 🤞 Test your code\n",
    "\n",
    "Test your implementation by running the following code:"
   ]
  },
  {
   "cell_type": "code",
   "execution_count": 15,
   "metadata": {},
   "outputs": [
    {
     "name": "stdout",
     "output_type": "stream",
     "text": [
      "torch.Size([6801, 32]) torch.Size([6801, 32])\n",
      "tensor([    0,     1, 32966, 32967,     1,     0,     0, 32966, 32967,    13,\n",
      "          406,    23,    17,  6253, 19902,   310,  1444, 19902,    13,    26,\n",
      "           27,  2576,    16,     9, 19902,   115,    17,  4929,  4121,  9611,\n",
      "           13,  4854], device='cuda:0')\n",
      "tensor([    1, 32966, 32967,     1,     0,     0, 32966, 32967,    13,   406,\n",
      "           23,    17,  6253, 19902,   310,  1444, 19902,    13,    26,    27,\n",
      "         2576,    16,     9, 19902,   115,    17,  4929,  4121,  9611,    13,\n",
      "         4854,  2429], device='cuda:0')\n"
     ]
    }
   ],
   "source": [
    "valid_x, valid_y = RNNVectorizer(32)(wikitext.valid)\n",
    "\n",
    "print(valid_x.size(), valid_y.size())\n",
    "\n",
    "print(valid_x[0])\n",
    "print(valid_y[0])\n",
    "\n",
    "assert(valid_x[0][-1] == valid_y[0][-2])"
   ]
  },
  {
   "cell_type": "markdown",
   "metadata": {},
   "source": [
    "### Problem 2.2: Implement the model"
   ]
  },
  {
   "cell_type": "markdown",
   "metadata": {},
   "source": [
    "Your next task is to implement the recurrent neural network model based on the graphical specification."
   ]
  },
  {
   "cell_type": "code",
   "execution_count": 16,
   "metadata": {},
   "outputs": [],
   "source": [
    "import torch.nn as nn\n",
    "\n",
    "class RNNModel(nn.Module):\n",
    "    \n",
    "    def __init__(self, n_words, embedding_dim=64, hidden_dim=64):\n",
    "        super().__init__()\n",
    "        self.n_words = n_words\n",
    "        self.embedding_dim = embedding_dim\n",
    "        self.hidden_dim = hidden_dim\n",
    "        self.embedding = nn.Embedding(n_words, embedding_dim)\n",
    "        self.lstm = nn.LSTM(embedding_dim, hidden_dim, batch_first=True)\n",
    "        self.fc = nn.Linear(hidden_dim, n_words)\n",
    "\n",
    "    def forward(self, x):\n",
    "        x = self.embedding(x)\n",
    "        x, _ = self.lstm(x)\n",
    "        return self.fc(x)\n",
    "\n",
    "    def generate(self, context, n_tokens=10, temperature=1.0):\n",
    "        for _ in range(n_tokens):\n",
    "            # Sample with temperature: divide logits by temperature before softmax, then sample multinomial distribution\n",
    "            # We want the logits for the last token (the predicted one)\n",
    "            logits = torch.softmax(self(context)[:, -1, :] / temperature, dim=0)\n",
    "            idxs = logits.multinomial(num_samples=1, replacement=True)\n",
    "            context = torch.cat((context, idxs), dim=1)\n",
    "        return context"
   ]
  },
  {
   "cell_type": "markdown",
   "metadata": {},
   "source": [
    "Your implementation should follow this specification:\n",
    "\n",
    "**__init__** (*self*, *n_words*, *embedding_dim* = 64, *hidden_dim* = 64)\n",
    "\n",
    "> Creates a new recurrent neural network language model based on an LSTM. The argument *n_words* is the number of words in the vocabulary. The arguments *embedding_dim* and *hidden_dim* specify the dimensionalities of the embedding layer and the LSTM hidden layer, respectively; their default value is 64.\n",
    "\n",
    "**forward** (*self*, *x*)\n",
    "\n",
    "> Computes the network output on an input batch *x*. The shape of *x* is $(B, H)$, where $B$ is the batch size and $H$ is the length of each input sequence. The shape of the output tensor is $(B, H, V)$, where $V$ is the size of the vocabulary."
   ]
  },
  {
   "cell_type": "code",
   "execution_count": 17,
   "metadata": {},
   "outputs": [
    {
     "name": "stdout",
     "output_type": "stream",
     "text": [
      "RNNModel(\n",
      "  (embedding): Embedding(33278, 64)\n",
      "  (lstm): LSTM(64, 64, batch_first=True)\n",
      "  (fc): Linear(in_features=64, out_features=33278, bias=True)\n",
      ")\n",
      "Number of parameters: 4326142\n",
      "torch.Size([16, 32, 33278])\n",
      "tensor([[    1,     2,     3,   400, 18809, 12429, 14255, 21129, 27567,  4154,\n",
      "           999, 24100, 24929],\n",
      "        [    1,     2,     4, 24760,     7, 10194,  9776,  6553, 24030, 10958,\n",
      "         18523, 24004,  6398]], device='cuda:0')\n"
     ]
    }
   ],
   "source": [
    "# Instantiate objects\n",
    "test_model_rnn = RNNModel(len(wikitext.word2idx)).to(device)\n",
    "vectorizer = RNNVectorizer(32)\n",
    "\n",
    "# Print model\n",
    "print(test_model_rnn)\n",
    "print('Number of parameters:', sum(p.numel() for p in test_model_rnn.parameters() if p.requires_grad))\n",
    "\n",
    "# Test the forward pass\n",
    "x, y = vectorizer(wikitext.valid)\n",
    "print(test_model_rnn(x[:16]).shape)\n",
    "\n",
    "# Test the generate function\n",
    "print(test_model_rnn.generate(torch.tensor([[1, 2, 3], [1, 2, 4]], device=device)))"
   ]
  },
  {
   "cell_type": "markdown",
   "metadata": {},
   "source": [
    "#### 🤞 Test your code\n",
    "\n",
    "Test your code by instantiating the model and feeding it a batch of examples from the training data."
   ]
  },
  {
   "cell_type": "markdown",
   "metadata": {},
   "source": [
    "### Problem 2.3: Train the model"
   ]
  },
  {
   "cell_type": "markdown",
   "metadata": {},
   "source": [
    "The training loop for the recurrent neural network model is essentially identical to the loop that you wrote for the feed-forward model. The only thing to note is that the cross-entropy loss function expects its input to be a two-dimensional tensor; you will therefore have to re-shape the output tensor from the LSTM as well as the gold-standard output tensor in a suitable way. The most efficient way to do so is to use the [`view()`](https://pytorch.org/docs/stable/tensors.html#torch.Tensor.view) method."
   ]
  },
  {
   "cell_type": "code",
   "execution_count": 32,
   "metadata": {},
   "outputs": [],
   "source": [
    "def perplexity_rnn(model, vectorizer, data, batch_size=64):\n",
    "    # Test the model by computing the perplexity on the validation set\n",
    "    # Save memory by not storing gradients\n",
    "    with torch.no_grad():\n",
    "        model.train(mode=False)\n",
    "        loss_fn = nn.CrossEntropyLoss()\n",
    "        nlls = []\n",
    "        for i in range(0, len(data)-model.lstm.input_size-1, batch_size):\n",
    "            x, y = vectorizer(data[i:i+batch_size])\n",
    "            y_pred = model(x)\n",
    "            nlls.append(loss_fn(y_pred.view(-1, len(wikitext.word2idx)), y.view(-1)))\n",
    "        return torch.exp(torch.stack(nlls).mean()).item()\n",
    "\n",
    "def train_rnn_model(model, n_epochs=2, batch_size=3072, bptt_len=32, lr=1e-2):\n",
    "    # Initialization\n",
    "    vectorizer = RNNVectorizer(bptt_len)\n",
    "    optimizer = torch.optim.Adam(model.parameters(), lr=lr, weight_decay=1e-6)\n",
    "    loss_fn = nn.CrossEntropyLoss()\n",
    "\n",
    "    # Training loop\n",
    "    for epoch in range(n_epochs):\n",
    "        model.train()\n",
    "        x, y = vectorizer(wikitext.train)\n",
    "        for i in range(0, len(x), batch_size):\n",
    "            x_batch, y_batch = x[i:i+batch_size], y[i:i+batch_size]\n",
    "            y_pred = model(x_batch)\n",
    "            loss = loss_fn(y_pred.view(-1, len(wikitext.word2idx)), y_batch.view(-1))\n",
    "            optimizer.zero_grad()\n",
    "            loss.backward()\n",
    "            optimizer.step()\n",
    "        print('Epoch:', epoch)\n",
    "        print('Validation Perplexity:', perplexity_rnn(model, vectorizer, wikitext.valid))    \n",
    "    return model\n",
    "\n",
    "def train_rnn(n_epochs=2, batch_size=3072, bptt_len=32, lr=1e-2):\n",
    "    return train_rnn_model(RNNModel(len(wikitext.word2idx)).to(device), n_epochs, batch_size, bptt_len, lr)"
   ]
  },
  {
   "cell_type": "markdown",
   "metadata": {},
   "source": [
    "Here is the specification of the training function:\n",
    "\n",
    "**train_rnn** (*n_epochs* = 2, *batch_size* = 3072, *bptt_len* = 32, *lr* = 0.01)\n",
    "\n",
    "> Trains a recurrent neural network language model on the WikiText data using minibatch gradient descent and returns it. The parameters *n_epochs* and *batch_size* specify the number of training epochs and the minibatch size, respectively. The parameter *bptt_len* specifies the length of the backpropagation-through-time horizon, that is, the length of the input and output sequences. Training uses the cross-entropy loss function and the [Adam optimizer](https://pytorch.org/docs/stable/optim.html#torch.optim.Adam) with learning rate *lr*. After each epoch, prints the perplexity of the model on the validation data."
   ]
  },
  {
   "cell_type": "markdown",
   "metadata": {},
   "source": [
    "Evaluate your model by running the following code cell:"
   ]
  },
  {
   "cell_type": "code",
   "execution_count": 33,
   "metadata": {},
   "outputs": [
    {
     "name": "stdout",
     "output_type": "stream",
     "text": [
      "Epoch: 0\n",
      "Validation Perplexity: 328.1418762207031\n",
      "Epoch: 1\n",
      "Validation Perplexity: 267.7008361816406\n"
     ]
    }
   ],
   "source": [
    "# Had to change batch_size and lr due to OOM issues\n",
    "model_rnn = train_rnn(2, 64, 32, 0.005)"
   ]
  },
  {
   "cell_type": "markdown",
   "metadata": {},
   "source": [
    "#### Performance goal\n",
    "\n",
    "Your submitted notebook must contain output demonstrating a validation perplexity of **at most 280** after training for two epochs with the default hyperparameters."
   ]
  },
  {
   "cell_type": "markdown",
   "metadata": {},
   "source": [
    "## Problem 3: Transformer model (optional)"
   ]
  },
  {
   "cell_type": "markdown",
   "metadata": {},
   "source": [
    "If you are up for a challenge, try implementing a Transformer-based language model. The required vectoriser is identical to the vectoriser for the RNN model. For the model itself, you can use the Pytorch modules [`nn.TransformerEncoder`](https://pytorch.org/docs/stable/generated/torch.nn.TransformerEncoderLayer.html) and [`nn.TransformerEncoderLayer`](https://pytorch.org/docs/stable/generated/torch.nn.TransformerEncoderLayer.html).  To represent positional information, follow the approach from the original Transformer paper and use sine and cosine functions of different frequencies ([details](https://nlp.seas.harvard.edu/2018/04/03/attention.html#positional-encoding)), or learn position-specific embeddings. Can you get a lower perplexity than for the RNN model?"
   ]
  },
  {
   "cell_type": "markdown",
   "metadata": {},
   "source": [
    "## Problem 4: Generation"
   ]
  },
  {
   "cell_type": "markdown",
   "metadata": {},
   "source": [
    "In this section, you will implement a simple generation mechanism for the language models you have implemented.\n",
    "\n",
    "Recall that one way to generate text with a language model is to repeatedly sample from the model’s output distribution, conditioning on some context. More specifically, this involves treating the softmax-normalised logits of the model as a multinomial distribution. The “creativeness” of the generation can be controlled with the temperature parameter of the softmax distribution.\n",
    "\n",
    "To implement this recipe, we first ask you to extend each model with a `generate` method according to the following specification:\n",
    "\n",
    "**generate** (*self*, *context*, *n_tokens* = 10, *temperature* = 1.0)\n",
    "\n",
    "> Takes a batch of context tokens *context* and extends it by sampling *n_tokens* new tokens from the model’s output distribution, scaled with the temperature *temperature*. Returns the extended context.\n",
    "\n",
    "In a second stage, you should implement a convenience function `generate` that allows you to easily generate text with different models, like this:\n",
    "\n",
    "```\n",
    "generate(model_fixed_window, 'i like', max_tokens=10, temperature=1.5)\n",
    "```"
   ]
  },
  {
   "cell_type": "code",
   "execution_count": 34,
   "metadata": {},
   "outputs": [
    {
     "name": "stdout",
     "output_type": "stream",
     "text": [
      "i like tonnage plantations inactivity nudes bodily rap 1932 Fries suspense complimenting\n",
      "i like friend pack York Советская oral Tarpan neon Schumann Gallia Spears\n"
     ]
    }
   ],
   "source": [
    "def generate(model, context, max_tokens=3, temperature=1.0):\n",
    "    # Tokenize\n",
    "    input_ids = torch.tensor([[wikitext.word2idx[word] for word in context.split()]], device=device)\n",
    "    # We do not need to store the gradients when generating\n",
    "    with torch.no_grad():\n",
    "        input_ids = model.generate(input_ids, n_tokens=max_tokens, temperature=temperature)\n",
    "    return \" \".join(wikitext.idx2word[idx] for idx in input_ids[0]).split(\"<eos>\")[0]\n",
    "\n",
    "print(generate(model_fixed_window, 'i like', max_tokens=10, temperature=1.5))\n",
    "print(generate(model_rnn, 'i like', max_tokens=10, temperature=1.5))"
   ]
  },
  {
   "cell_type": "markdown",
   "metadata": {},
   "source": [
    "Here is the specification of the convenience function:\n",
    "\n",
    "**generate** (*model*, *context*, *max_tokens* = 10, *temperature* = 1.0)\n",
    "\n",
    "> Takes a context sentence *context*, tokenises and vectorises it, and passes it to the specified *model* to generate new text. The new text consists of at most *max_tokens*, but is cut off at the first `<eos>` token. Returns the generated text (including the context)."
   ]
  },
  {
   "cell_type": "markdown",
   "metadata": {},
   "source": [
    "## Problem 5: Parameter initialisation"
   ]
  },
  {
   "cell_type": "markdown",
   "metadata": {},
   "source": [
    "The error surfaces explored when training neural networks can be very complex. Because of this, it is important to choose “good” initial values for the parameters. In PyTorch, the weights of the embedding layer are initialised by sampling from the standard normal distribution $\\mathcal{N}(0, 1)$. Test how changing the initialisation affects the perplexity of your language models. Find research articles that propose different initialisation strategies.\n",
    "\n",
    "Write a short (150&nbsp;words) report about your experiments and literature search. Use the following prompts:\n",
    "\n",
    "* What different initialisation did you try? What results did you get?\n",
    "* How do your results compare to what was suggested by the research articles?\n",
    "* What did you learn? How, exactly, did you learn it? Why does this learning matter?"
   ]
  },
  {
   "cell_type": "markdown",
   "metadata": {},
   "source": [
    "### Report\n",
    "\n",
    "#### Methods\n",
    "\n",
    "We use four different initialization strategies for the embedding weights:\n",
    "1. Uniform distribution\n",
    "2. Normal distribution\n",
    "3. Xavier uniform distribution [1] (we use uniform as proposed in the original paper)\n",
    "4. Kaiming normal distribution [2] (we use normal as proposed in the original paper)\n",
    "\n",
    "We train ten RNN models with each initialization, to account for randomness.\\\n",
    "For each of the strategies, the default pytorch parameters are employed.\\\n",
    "The code and execution results can be found after this report.\n",
    "\n",
    "#### Results\n",
    "```\n",
    "Uniform initialization\n",
    "Mean:  279.8584503173828\n",
    "Std:  4.1893097628015115\n",
    "\n",
    "Normal initialization\n",
    "Mean:  270.80449829101565\n",
    "Std:  2.6815572422077953\n",
    "\n",
    "Xavier initialization\n",
    "Mean:  273.4174377441406\n",
    "Std:  3.3659920284614633\n",
    "\n",
    "Kaiming initialization\n",
    "Mean:  272.05133361816405\n",
    "Std:  1.8209715806031563\n",
    "```\n",
    "\n",
    "The normal distribution achieves the best mean results, following by Kaiming, Xavier, and Uniform.\n",
    "\n",
    "#### Discussion\n",
    "\n",
    "The Xavier init [1] tries to improve the uniform initialization by taking into account the input size to maintain the variance of the output regardless of the input size. Maintaining the variance helps tackle the exploding/vanishing gradient problem in deep neural networks.\n",
    "Our results show that Xavier indeed performs better than the uniform initialization, as also observed in [1].\n",
    "\n",
    "The Kaiming init takes into account the non-linearity of activation functions. It is worth noting that the Kaiming paper [2] works heavily on top of rectified activation (i.e., ReLU) and that the LSTM layer uses tanh, a symmetric function, for activation.\n",
    "This difference might be behind the higher perplexity w.r.t. the normal distribution.\n",
    "Nonetheless, it still performs better than the Xavier init as also observed in [2].\n",
    "\n",
    "Overall, the default initialization scheme (i.e., N(0, 1)) performed slightly better than Xavier and Kaiming.\n",
    "\n",
    "#### References\n",
    "\n",
    "[1] Glorot, X., & Bengio, Y. (2010, March). Understanding the difficulty of training deep feedforward neural networks. In Proceedings of the thirteenth international conference on artificial intelligence and statistics (pp. 249-256). JMLR Workshop and Conference Proceedings.\\\n",
    "[2] He, K., Zhang, X., Ren, S., & Sun, J. (2015). Delving deep into rectifiers: Surpassing human-level performance on imagenet classification. In Proceedings of the IEEE international conference on computer vision (pp. 1026-1034)."
   ]
  },
  {
   "cell_type": "code",
   "execution_count": 49,
   "metadata": {},
   "outputs": [],
   "source": [
    "def init_uniform(model):\n",
    "    torch.nn.init.uniform_(model.embedding.weight)\n",
    "\n",
    "def init_normal(model):\n",
    "    nn.init.normal_(model.embedding.weight)\n",
    "\n",
    "def init_xavier(model):\n",
    "    nn.init.xavier_uniform_(model.embedding.weight)\n",
    "\n",
    "def init_kaiming(model):\n",
    "    nn.init.kaiming_normal_(model.embedding.weight)"
   ]
  },
  {
   "cell_type": "code",
   "execution_count": 47,
   "metadata": {},
   "outputs": [
    {
     "name": "stdout",
     "output_type": "stream",
     "text": [
      "Epoch: 0\n",
      "Validation Perplexity: 353.9242858886719\n",
      "Epoch: 1\n",
      "Validation Perplexity: 274.8731384277344\n",
      "Epoch: 0\n",
      "Validation Perplexity: 339.4307556152344\n",
      "Epoch: 1\n",
      "Validation Perplexity: 275.37506103515625\n",
      "Epoch: 0\n",
      "Validation Perplexity: 353.7783203125\n",
      "Epoch: 1\n",
      "Validation Perplexity: 276.1128234863281\n",
      "Epoch: 0\n",
      "Validation Perplexity: 344.0949401855469\n",
      "Epoch: 1\n",
      "Validation Perplexity: 273.32769775390625\n",
      "Epoch: 0\n",
      "Validation Perplexity: 366.4917297363281\n",
      "Epoch: 1\n",
      "Validation Perplexity: 284.0852355957031\n",
      "Epoch: 0\n",
      "Validation Perplexity: 328.4405517578125\n",
      "Epoch: 1\n",
      "Validation Perplexity: 270.49859619140625\n",
      "Epoch: 0\n",
      "Validation Perplexity: 346.5953063964844\n",
      "Epoch: 1\n",
      "Validation Perplexity: 273.08111572265625\n",
      "Epoch: 0\n",
      "Validation Perplexity: 338.7983703613281\n",
      "Epoch: 1\n",
      "Validation Perplexity: 269.53759765625\n",
      "Epoch: 0\n",
      "Validation Perplexity: 360.36260986328125\n",
      "Epoch: 1\n",
      "Validation Perplexity: 277.8545227050781\n",
      "Epoch: 0\n",
      "Validation Perplexity: 329.918701171875\n",
      "Epoch: 1\n",
      "Validation Perplexity: 269.3349609375\n",
      "Epoch: 0\n",
      "Validation Perplexity: 346.69384765625\n",
      "Epoch: 1\n",
      "Validation Perplexity: 269.7642517089844\n",
      "Epoch: 0\n",
      "Validation Perplexity: 338.3827819824219\n",
      "Epoch: 1\n",
      "Validation Perplexity: 274.2567443847656\n",
      "Epoch: 0\n",
      "Validation Perplexity: 364.7091979980469\n",
      "Epoch: 1\n",
      "Validation Perplexity: 283.140625\n",
      "Epoch: 0\n",
      "Validation Perplexity: 330.86444091796875\n",
      "Epoch: 1\n",
      "Validation Perplexity: 270.9178771972656\n",
      "Epoch: 0\n",
      "Validation Perplexity: 348.4012756347656\n",
      "Epoch: 1\n",
      "Validation Perplexity: 271.3504638671875\n",
      "Epoch: 0\n",
      "Validation Perplexity: 338.8497314453125\n",
      "Epoch: 1\n",
      "Validation Perplexity: 270.579345703125\n",
      "Epoch: 0\n",
      "Validation Perplexity: 364.9052429199219\n",
      "Epoch: 1\n",
      "Validation Perplexity: 282.0354309082031\n",
      "Epoch: 0\n",
      "Validation Perplexity: 325.3979797363281\n",
      "Epoch: 1\n",
      "Validation Perplexity: 267.6015319824219\n",
      "Epoch: 0\n",
      "Validation Perplexity: 361.62176513671875\n",
      "Epoch: 1\n",
      "Validation Perplexity: 277.99658203125\n",
      "Epoch: 0\n",
      "Validation Perplexity: 345.8515930175781\n",
      "Epoch: 1\n",
      "Validation Perplexity: 274.67608642578125\n",
      "Epoch: 0\n",
      "Validation Perplexity: 359.7405700683594\n",
      "Epoch: 1\n",
      "Validation Perplexity: 273.9118347167969\n",
      "Epoch: 0\n",
      "Validation Perplexity: 330.96636962890625\n",
      "Epoch: 1\n",
      "Validation Perplexity: 270.9081726074219\n",
      "Epoch: 0\n",
      "Validation Perplexity: 350.53759765625\n",
      "Epoch: 1\n",
      "Validation Perplexity: 270.9727783203125\n",
      "Epoch: 0\n",
      "Validation Perplexity: 337.2046813964844\n",
      "Epoch: 1\n",
      "Validation Perplexity: 271.7996826171875\n",
      "Epoch: 0\n",
      "Validation Perplexity: 361.86444091796875\n",
      "Epoch: 1\n",
      "Validation Perplexity: 278.4018249511719\n",
      "Epoch: 0\n",
      "Validation Perplexity: 326.5780944824219\n",
      "Epoch: 1\n",
      "Validation Perplexity: 265.6103210449219\n",
      "Epoch: 0\n",
      "Validation Perplexity: 347.1485900878906\n",
      "Epoch: 1\n",
      "Validation Perplexity: 270.21563720703125\n",
      "Epoch: 0\n",
      "Validation Perplexity: 340.3128967285156\n",
      "Epoch: 1\n",
      "Validation Perplexity: 271.20391845703125\n",
      "Epoch: 0\n",
      "Validation Perplexity: 363.2796936035156\n",
      "Epoch: 1\n",
      "Validation Perplexity: 287.9935607910156\n",
      "Epoch: 0\n",
      "Validation Perplexity: 334.34771728515625\n",
      "Epoch: 1\n",
      "Validation Perplexity: 272.148681640625\n",
      "Epoch: 0\n",
      "Validation Perplexity: 352.13885498046875\n",
      "Epoch: 1\n",
      "Validation Perplexity: 269.57293701171875\n",
      "Epoch: 0\n",
      "Validation Perplexity: 338.5491943359375\n",
      "Epoch: 1\n",
      "Validation Perplexity: 271.0469665527344\n",
      "Epoch: 0\n",
      "Validation Perplexity: 364.9919128417969\n",
      "Epoch: 1\n",
      "Validation Perplexity: 276.7812805175781\n",
      "Epoch: 0\n",
      "Validation Perplexity: 334.1406555175781\n",
      "Epoch: 1\n",
      "Validation Perplexity: 271.9498291015625\n",
      "Epoch: 0\n",
      "Validation Perplexity: 356.9791564941406\n",
      "Epoch: 1\n",
      "Validation Perplexity: 278.5799255371094\n",
      "Epoch: 0\n",
      "Validation Perplexity: 336.8868103027344\n",
      "Epoch: 1\n",
      "Validation Perplexity: 269.8630676269531\n",
      "Epoch: 0\n",
      "Validation Perplexity: 357.7460021972656\n",
      "Epoch: 1\n",
      "Validation Perplexity: 279.5070495605469\n",
      "Epoch: 0\n",
      "Validation Perplexity: 332.4704284667969\n",
      "Epoch: 1\n",
      "Validation Perplexity: 273.699951171875\n",
      "Epoch: 0\n",
      "Validation Perplexity: 358.09295654296875\n",
      "Epoch: 1\n",
      "Validation Perplexity: 276.5278625488281\n",
      "Epoch: 0\n",
      "Validation Perplexity: 343.3898010253906\n",
      "Epoch: 1\n",
      "Validation Perplexity: 274.22222900390625\n"
     ]
    }
   ],
   "source": [
    "def train_eval_rnn_uniform():\n",
    "    model = RNNModel(len(wikitext.word2idx)).to(device)\n",
    "    init_uniform(model)\n",
    "    model = train_rnn_model(model, 2, 64, 32, 0.005)\n",
    "    return perplexity_rnn(model, RNNVectorizer(32), wikitext.valid)\n",
    "\n",
    "def train_eval_rnn_normal():\n",
    "    model = RNNModel(len(wikitext.word2idx)).to(device)\n",
    "    init_normal(model)\n",
    "    model = train_rnn_model(model, 2, 64, 32, 0.005)\n",
    "    return perplexity_rnn(model, RNNVectorizer(32), wikitext.valid)\n",
    "\n",
    "def train_eval_rnn_xavier():\n",
    "    model = RNNModel(len(wikitext.word2idx)).to(device)\n",
    "    init_xavier(model)\n",
    "    model = train_rnn_model(model, 2, 64, 32, 0.005)\n",
    "    return perplexity_rnn(model, RNNVectorizer(32), wikitext.valid)\n",
    "\n",
    "def train_eval_rnn_kaiming():\n",
    "    model = RNNModel(len(wikitext.word2idx)).to(device)\n",
    "    init_kaiming(model)\n",
    "    model = train_rnn_model(model, 2, 64, 32, 0.005)\n",
    "    return perplexity_rnn(model, RNNVectorizer(32), wikitext.valid)\n",
    "\n",
    "# We train 10 models for each initialization technique, to account for randomness\n",
    "perplexity_uniform = []\n",
    "perplexity_normal = []\n",
    "perplexity_xavier = []\n",
    "perplexity_kaiming = []\n",
    "for _ in range(10):\n",
    "    perplexity_uniform.append(train_eval_rnn_uniform())\n",
    "    perplexity_normal.append(train_eval_rnn_normal())\n",
    "    perplexity_xavier.append(train_eval_rnn_xavier())\n",
    "    perplexity_kaiming.append(train_eval_rnn_kaiming())"
   ]
  },
  {
   "cell_type": "code",
   "execution_count": 48,
   "metadata": {},
   "outputs": [
    {
     "name": "stdout",
     "output_type": "stream",
     "text": [
      "Uniform initialization\n",
      "Mean:  279.8584503173828\n",
      "Std:  4.1893097628015115\n",
      "\n",
      "Normal initialization\n",
      "Mean:  270.80449829101565\n",
      "Std:  2.6815572422077953\n",
      "\n",
      "Xavier initialization\n",
      "Mean:  273.4174377441406\n",
      "Std:  3.3659920284614633\n",
      "\n",
      "Kaiming initialization\n",
      "Mean:  272.05133361816405\n",
      "Std:  1.8209715806031563\n",
      "\n"
     ]
    }
   ],
   "source": [
    "import numpy as np\n",
    "\n",
    "print(\"Uniform initialization\")\n",
    "print(\"Mean: \", np.mean(perplexity_uniform))\n",
    "print(\"Std: \", np.std(perplexity_uniform))\n",
    "print()\n",
    "\n",
    "print(\"Normal initialization\")\n",
    "print(\"Mean: \", np.mean(perplexity_normal))\n",
    "print(\"Std: \", np.std(perplexity_normal))\n",
    "print()\n",
    "\n",
    "print(\"Xavier initialization\")\n",
    "print(\"Mean: \", np.mean(perplexity_xavier))\n",
    "print(\"Std: \", np.std(perplexity_xavier))\n",
    "print()\n",
    "\n",
    "print(\"Kaiming initialization\")\n",
    "print(\"Mean: \", np.mean(perplexity_kaiming))\n",
    "print(\"Std: \", np.std(perplexity_kaiming))\n",
    "print()"
   ]
  },
  {
   "cell_type": "code",
   "execution_count": null,
   "metadata": {},
   "outputs": [],
   "source": []
  }
 ],
 "metadata": {
  "accelerator": "GPU",
  "colab": {
   "collapsed_sections": [],
   "name": "LM.ipynb",
   "provenance": [],
   "toc_visible": true
  },
  "kernelspec": {
   "display_name": "Python 3 (ipykernel)",
   "language": "python",
   "name": "python3"
  },
  "language_info": {
   "codemirror_mode": {
    "name": "ipython",
    "version": 3
   },
   "file_extension": ".py",
   "mimetype": "text/x-python",
   "name": "python",
   "nbconvert_exporter": "python",
   "pygments_lexer": "ipython3",
   "version": "3.8.19"
  }
 },
 "nbformat": 4,
 "nbformat_minor": 4
}
