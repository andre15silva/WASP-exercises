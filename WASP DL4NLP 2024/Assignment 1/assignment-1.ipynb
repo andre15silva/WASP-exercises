{
 "cells": [
  {
   "cell_type": "markdown",
   "metadata": {},
   "source": [
    "# Assignment 1: Language modelling"
   ]
  },
  {
   "cell_type": "markdown",
   "metadata": {},
   "source": [
    "In this assignment you will implement and train two or three neural language models: the fixed-window model, the recurrent neural network model from Unit&nbsp;1-2, and optionally a model based on the Transformer architecture from Unit&nbsp;1-3. You will evaluate these models by computing their perplexity on a benchmark dataset."
   ]
  },
  {
   "cell_type": "code",
   "execution_count": 3,
   "metadata": {},
   "outputs": [],
   "source": [
    "import torch"
   ]
  },
  {
   "cell_type": "markdown",
   "metadata": {},
   "source": [
    "For this lab, you should use the GPU if you have one:"
   ]
  },
  {
   "cell_type": "code",
   "execution_count": 4,
   "metadata": {},
   "outputs": [],
   "source": [
    "device = torch.device('cuda' if torch.cuda.is_available() else 'cpu')    # NVIDIA\n",
    "# device = torch.device('mps')    # Apple Silicon"
   ]
  },
  {
   "cell_type": "markdown",
   "metadata": {},
   "source": [
    "## Data"
   ]
  },
  {
   "cell_type": "markdown",
   "metadata": {},
   "source": [
    "The data for this assignment is [WikiText](https://blog.salesforceairesearch.com/the-wikitext-long-term-dependency-language-modeling-dataset/), a collection of more than 100 million tokens extracted from the “Good” and “Featured” articles on Wikipedia. We will use the small version of the dataset, which contains slightly more than 2.5 million tokens.\n",
    "\n",
    "The next cell contains code for an object that will act as a container for the “training” and the “validation” section of the data. We fill this container by reading the corresponding text files. The only processing we do is to whitespace-tokenise and to replace each newline with an end-of-sentence token."
   ]
  },
  {
   "cell_type": "code",
   "execution_count": 5,
   "metadata": {},
   "outputs": [],
   "source": [
    "class WikiText(object):\n",
    "\n",
    "    def __init__(self):\n",
    "        self.word2idx = {}\n",
    "        self.idx2word = []\n",
    "        self.train = self.read_data('wiki.train.tokens')\n",
    "        self.valid = self.read_data('wiki.valid.tokens')\n",
    "\n",
    "    def read_data(self, path):\n",
    "        ids = []\n",
    "        with open(path, encoding='utf-8') as source:\n",
    "            for line in source:\n",
    "                for word in line.split() + ['<eos>']:\n",
    "                    if word not in self.word2idx:\n",
    "                        self.word2idx[word] = len(self.word2idx)\n",
    "                        self.idx2word.append(word)\n",
    "                    ids.append(self.word2idx[word])\n",
    "        return ids"
   ]
  },
  {
   "cell_type": "markdown",
   "metadata": {},
   "source": [
    "The cell below loads the data and prints the total number of tokens and the size of the vocabulary."
   ]
  },
  {
   "cell_type": "code",
   "execution_count": 6,
   "metadata": {},
   "outputs": [
    {
     "name": "stdout",
     "output_type": "stream",
     "text": [
      "Tokens in train: 2088628\n",
      "Tokens in valid: 217646\n",
      "Vocabulary size: 33278\n"
     ]
    }
   ],
   "source": [
    "wikitext = WikiText()\n",
    "\n",
    "print('Tokens in train:', len(wikitext.train))\n",
    "print('Tokens in valid:', len(wikitext.valid))\n",
    "print('Vocabulary size:', len(wikitext.word2idx))"
   ]
  },
  {
   "cell_type": "markdown",
   "metadata": {},
   "source": [
    "## Problem 1: Fixed-window model"
   ]
  },
  {
   "cell_type": "markdown",
   "metadata": {},
   "source": [
    "In this section, you will implement and train the fixed-window neural language model proposed by [Bengio et al. (2003)](http://www.jmlr.org/papers/volume3/bengio03a/bengio03a.pdf) and presented in the lectures. Recall that an input to the network takes the form of a vector of $n-1$ integers representing the preceding words. Each integer is mapped to a vector via an embedding layer. (All positions share the same embedding.) The embedding vectors are then concatenated and sent through a two-layer feed-forward network with a non-linearity in the form of a rectified linear unit (ReLU) and a final softmax layer."
   ]
  },
  {
   "cell_type": "markdown",
   "metadata": {},
   "source": [
    "### Problem 1.1: Vectorise the data"
   ]
  },
  {
   "cell_type": "markdown",
   "metadata": {},
   "source": [
    "Your first task is to write code for transforming the data in the WikiText container into a vectorised form that can be fed to the fixed-window model. Concretely, you will implement a [collate function](https://pytorch.org/docs/stable/data.html#dataloader-collate-fn) in the form of a callable vectoriser object. Complete the skeleton code in the cell below:"
   ]
  },
  {
   "cell_type": "code",
   "execution_count": 19,
   "metadata": {},
   "outputs": [],
   "source": [
    "class FixedWindowVectorizer(object):\n",
    "    def __init__(self, n):\n",
    "        self.n = n\n",
    "\n",
    "    def __call__(self, data):\n",
    "        return torch.tensor([data[i:i+self.n-1] for i in range(len(data)-self.n+1)], device=device), torch.tensor([data[i+self.n-1] for i in range(len(data)-self.n+1)], device=device)"
   ]
  },
  {
   "cell_type": "markdown",
   "metadata": {},
   "source": [
    "Your code should implement the following specification:\n",
    "\n",
    "**__init__** (*self*, *n*)\n",
    "\n",
    "> Creates a new vectoriser with n-gram order $n$. Your code should be able to handle arbitrary n-gram orders $n \\geq 1$.\n",
    "\n",
    "**__call__** (*self*, *data*)\n",
    "\n",
    "> Transforms WikiText *data* (a list of word ids) into a pair of tensors $\\mathbf{X}$, $\\mathbf{y}$ that can be used to train the fixed-window model. Let $N$ be the total number of $n$-grams from the token list; then $\\mathbf{X}$ is a matrix with shape $(N, n-1)$ and $\\mathbf{y}$ is a vector with length $N$."
   ]
  },
  {
   "cell_type": "markdown",
   "metadata": {},
   "source": [
    "#### 🤞 Test your code\n",
    "\n",
    "Test your implementation by running the code in the next cell. Does the output match your expectation?"
   ]
  },
  {
   "cell_type": "code",
   "execution_count": 20,
   "metadata": {},
   "outputs": [
    {
     "name": "stdout",
     "output_type": "stream",
     "text": [
      "torch.Size([217644, 2]) torch.Size([217644])\n"
     ]
    }
   ],
   "source": [
    "valid_x, valid_y = FixedWindowVectorizer(3)(wikitext.valid)\n",
    "\n",
    "print(valid_x.size(), valid_y.size())"
   ]
  },
  {
   "cell_type": "markdown",
   "metadata": {},
   "source": [
    "### Problem 1.2: Implement the model"
   ]
  },
  {
   "cell_type": "markdown",
   "metadata": {},
   "source": [
    "Your next task is to implement the fixed-window model based on the graphical specification given in the lecture."
   ]
  },
  {
   "cell_type": "code",
   "execution_count": 32,
   "metadata": {},
   "outputs": [],
   "source": [
    "import torch.nn as nn\n",
    "\n",
    "class FixedWindowModel(nn.Module):\n",
    "\n",
    "    def __init__(self, n, n_words, embedding_dim=64, hidden_dim=64):\n",
    "        super().__init__()\n",
    "        self.n = n\n",
    "        self.n_words = n_words\n",
    "        self.embedding_dim = embedding_dim\n",
    "        self.hidden_dim = hidden_dim\n",
    "        self.embedding = nn.Embedding(n_words, embedding_dim)\n",
    "        self.fc1 = nn.Linear((n-1) * embedding_dim, hidden_dim)\n",
    "        self.fc2 = nn.Linear(hidden_dim, n_words)\n",
    "\n",
    "    def forward(self, x):\n",
    "        return self.fc2(torch.tanh(self.fc1(self.embedding(x).view(x.size(0), -1))))\n",
    "        "
   ]
  },
  {
   "cell_type": "markdown",
   "metadata": {},
   "source": [
    "Here is the specification of the two methods:\n",
    "\n",
    "**__init__** (*self*, *n*, *n_words*, *embedding_dim*=64, *hidden_dim*=64)\n",
    "\n",
    "> Creates a new fixed-window neural language model. The argument *n* specifies the model&rsquo;s $n$-gram order. The argument *n_words* is the number of words in the vocabulary. The arguments *embedding_dim* and *hidden_dim* specify the dimensionalities of the embedding layer and the hidden layer of the feedforward network, respectively; their default value is 64.\n",
    "\n",
    "**forward** (*self*, *x*)\n",
    "\n",
    "> Computes the network output on an input batch *x*. The shape of *x* is $(B, n-1)$, where $B$ is the batch size. The output of the forward pass is a tensor of shape $(B, V)$ where $V$ is the number of words in the vocabulary.\n",
    "\n",
    "#### 🤞 Test your code\n",
    "\n",
    "Test your code by instantiating the model and feeding it a batch of examples from the training data."
   ]
  },
  {
   "cell_type": "code",
   "execution_count": 33,
   "metadata": {},
   "outputs": [
    {
     "name": "stdout",
     "output_type": "stream",
     "text": [
      "FixedWindowModel(\n",
      "  (embedding): Embedding(33278, 64)\n",
      "  (fc1): Linear(in_features=128, out_features=64, bias=True)\n",
      "  (fc2): Linear(in_features=64, out_features=33278, bias=True)\n",
      ")\n",
      "Number of parameters: 4301118\n",
      "torch.Size([16, 33278])\n"
     ]
    }
   ],
   "source": [
    "# Instantiate objects\n",
    "model = FixedWindowModel(3, len(wikitext.word2idx)).to(device)\n",
    "vectorizer = FixedWindowVectorizer(3)\n",
    "\n",
    "# Print model\n",
    "print(model)\n",
    "print('Number of parameters:', sum(p.numel() for p in model.parameters() if p.requires_grad))\n",
    "\n",
    "# Test the forward pass\n",
    "x, y = vectorizer(wikitext.valid)\n",
    "print(model(x[:16]).size())"
   ]
  },
  {
   "cell_type": "markdown",
   "metadata": {},
   "source": [
    "### Problem 1.3: Train the model"
   ]
  },
  {
   "cell_type": "markdown",
   "metadata": {},
   "source": [
    "Next, write code to train the fixed-window model using minibatch gradient descent and the cross-entropy loss function. This should be a straightforward generalisation of the training loops that you have seen so far. Complete the skeleton code in the cell below:"
   ]
  },
  {
   "cell_type": "code",
   "execution_count": 34,
   "metadata": {},
   "outputs": [],
   "source": [
    "def train_fixed_window(n, n_epochs=2, batch_size=3072, lr=1e-2):\n",
    "    # Initialization \n",
    "    model = FixedWindowModel(n, len(wikitext.word2idx)).to(device)\n",
    "    vectorizer = FixedWindowVectorizer(n)\n",
    "    optimizer = torch.optim.Adam(model.parameters(), lr=lr, weight_decay=1e-6)\n",
    "    loss_fn = nn.CrossEntropyLoss()\n",
    "\n",
    "    # Training loop\n",
    "    for epoch in range(n_epochs):\n",
    "        model.train()\n",
    "        for i in range(0, len(wikitext.train)-n+1, batch_size):\n",
    "            x, y = vectorizer(wikitext.train[i:i+batch_size])\n",
    "            y_pred = model(x)\n",
    "            loss = loss_fn(y_pred, y)\n",
    "            optimizer.zero_grad()\n",
    "            loss.backward()\n",
    "            optimizer.step()\n",
    "            # Print loss and perplexity every 10 batches\n",
    "            if i % (10*batch_size) == 0:\n",
    "                print('Epoch:', epoch, 'Loss:', loss.item())\n",
    "                print('Perplexity:', torch.exp(loss).item())\n",
    "    \n",
    "    return model"
   ]
  },
  {
   "cell_type": "markdown",
   "metadata": {},
   "source": [
    "Here is the specification of the training function:\n",
    "\n",
    "**train_fixed_window** (*n*, *n_epochs* = 2, *batch_size* = 3072, *lr* = 0.01)\n",
    "\n",
    "> Trains a fixed-window neural language model of order *n* using minibatch gradient descent and returns it. The parameters *n_epochs* and *batch_size* specify the number of training epochs and the minibatch size, respectively. Training uses the cross-entropy loss function and the [Adam optimizer](https://pytorch.org/docs/stable/optim.html#torch.optim.Adam) with learning rate *lr*. After each epoch, prints the perplexity of the model on the validation data."
   ]
  },
  {
   "cell_type": "markdown",
   "metadata": {},
   "source": [
    "The code in the cell below trains a trigram model."
   ]
  },
  {
   "cell_type": "code",
   "execution_count": 35,
   "metadata": {},
   "outputs": [
    {
     "name": "stdout",
     "output_type": "stream",
     "text": [
      "Epoch: 0 Loss: 10.468208312988281\n",
      "Perplexity: 35179.1328125\n",
      "Epoch: 0 Loss: 8.573813438415527\n",
      "Perplexity: 5291.26904296875\n",
      "Epoch: 0 Loss: 7.862389087677002\n",
      "Perplexity: 2597.71923828125\n",
      "Epoch: 0 Loss: 7.519444942474365\n",
      "Perplexity: 1843.543701171875\n",
      "Epoch: 0 Loss: 7.290140151977539\n",
      "Perplexity: 1465.776123046875\n",
      "Epoch: 0 Loss: 7.223855495452881\n",
      "Perplexity: 1371.7677001953125\n",
      "Epoch: 0 Loss: 6.55470609664917\n",
      "Perplexity: 702.5426635742188\n",
      "Epoch: 0 Loss: 7.142079830169678\n",
      "Perplexity: 1264.0546875\n",
      "Epoch: 0 Loss: 6.799921035766602\n",
      "Perplexity: 897.7764282226562\n",
      "Epoch: 0 Loss: 6.712947368621826\n",
      "Perplexity: 822.9927368164062\n",
      "Epoch: 0 Loss: 6.519131660461426\n",
      "Perplexity: 677.9893798828125\n",
      "Epoch: 0 Loss: 6.9059014320373535\n",
      "Perplexity: 998.1478881835938\n",
      "Epoch: 0 Loss: 6.544114112854004\n",
      "Perplexity: 695.1405639648438\n",
      "Epoch: 0 Loss: 6.53188419342041\n",
      "Perplexity: 686.6908569335938\n",
      "Epoch: 0 Loss: 6.480810165405273\n",
      "Perplexity: 652.4993896484375\n",
      "Epoch: 0 Loss: 6.228670120239258\n",
      "Perplexity: 507.0806884765625\n",
      "Epoch: 0 Loss: 6.2473883628845215\n",
      "Perplexity: 516.6617431640625\n",
      "Epoch: 0 Loss: 6.54449987411499\n",
      "Perplexity: 695.4088134765625\n",
      "Epoch: 0 Loss: 6.375334739685059\n",
      "Perplexity: 587.1819458007812\n",
      "Epoch: 0 Loss: 6.487825870513916\n",
      "Perplexity: 657.0932006835938\n",
      "Epoch: 0 Loss: 6.0464067459106445\n",
      "Perplexity: 422.5918273925781\n",
      "Epoch: 0 Loss: 6.472590923309326\n",
      "Perplexity: 647.1583251953125\n",
      "Epoch: 0 Loss: 6.280144691467285\n",
      "Perplexity: 533.8659057617188\n",
      "Epoch: 0 Loss: 6.350991249084473\n",
      "Perplexity: 573.0604858398438\n",
      "Epoch: 0 Loss: 6.158320903778076\n",
      "Perplexity: 472.6338195800781\n",
      "Epoch: 0 Loss: 6.154796123504639\n",
      "Perplexity: 470.9708251953125\n",
      "Epoch: 0 Loss: 5.931041240692139\n",
      "Perplexity: 376.54638671875\n",
      "Epoch: 0 Loss: 6.5280537605285645\n",
      "Perplexity: 684.0655517578125\n",
      "Epoch: 0 Loss: 6.676345348358154\n",
      "Perplexity: 793.4141235351562\n",
      "Epoch: 0 Loss: 6.399474620819092\n",
      "Perplexity: 601.5289306640625\n",
      "Epoch: 0 Loss: 6.194277286529541\n",
      "Perplexity: 489.9372253417969\n",
      "Epoch: 0 Loss: 6.30670166015625\n",
      "Perplexity: 548.2337036132812\n",
      "Epoch: 0 Loss: 5.804896831512451\n",
      "Perplexity: 331.92095947265625\n",
      "Epoch: 0 Loss: 6.260106563568115\n",
      "Perplexity: 523.2747192382812\n",
      "Epoch: 0 Loss: 6.035417556762695\n",
      "Perplexity: 417.9732971191406\n",
      "Epoch: 0 Loss: 6.226077079772949\n",
      "Perplexity: 505.7674865722656\n",
      "Epoch: 0 Loss: 6.376958847045898\n",
      "Perplexity: 588.1363525390625\n",
      "Epoch: 0 Loss: 6.028397083282471\n",
      "Perplexity: 415.0491943359375\n",
      "Epoch: 0 Loss: 5.980152130126953\n",
      "Perplexity: 395.5005187988281\n",
      "Epoch: 0 Loss: 6.042152404785156\n",
      "Perplexity: 420.79779052734375\n",
      "Epoch: 0 Loss: 6.318525314331055\n",
      "Perplexity: 554.7542724609375\n",
      "Epoch: 0 Loss: 6.128794193267822\n",
      "Perplexity: 458.88250732421875\n",
      "Epoch: 0 Loss: 5.501338005065918\n",
      "Perplexity: 245.01954650878906\n",
      "Epoch: 0 Loss: 6.254013538360596\n",
      "Perplexity: 520.0960693359375\n",
      "Epoch: 0 Loss: 6.111623764038086\n",
      "Perplexity: 451.070556640625\n",
      "Epoch: 0 Loss: 6.127575397491455\n",
      "Perplexity: 458.32354736328125\n",
      "Epoch: 0 Loss: 6.410511016845703\n",
      "Perplexity: 608.2044067382812\n",
      "Epoch: 0 Loss: 6.234500408172607\n",
      "Perplexity: 510.0457458496094\n",
      "Epoch: 0 Loss: 6.1059088706970215\n",
      "Perplexity: 448.5000915527344\n",
      "Epoch: 0 Loss: 6.191842555999756\n",
      "Perplexity: 488.7458190917969\n",
      "Epoch: 0 Loss: 6.066394805908203\n",
      "Perplexity: 431.12359619140625\n",
      "Epoch: 0 Loss: 6.185827255249023\n",
      "Perplexity: 485.814697265625\n",
      "Epoch: 0 Loss: 5.7641987800598145\n",
      "Perplexity: 318.68359375\n",
      "Epoch: 0 Loss: 6.2434210777282715\n",
      "Perplexity: 514.6160278320312\n",
      "Epoch: 0 Loss: 5.777432918548584\n",
      "Perplexity: 322.92913818359375\n",
      "Epoch: 0 Loss: 6.30515718460083\n",
      "Perplexity: 547.3876342773438\n",
      "Epoch: 0 Loss: 6.11641788482666\n",
      "Perplexity: 453.23822021484375\n",
      "Epoch: 0 Loss: 5.888253688812256\n",
      "Perplexity: 360.77471923828125\n",
      "Epoch: 0 Loss: 5.993809700012207\n",
      "Perplexity: 400.93914794921875\n",
      "Epoch: 0 Loss: 5.991074562072754\n",
      "Perplexity: 399.8440246582031\n",
      "Epoch: 0 Loss: 6.2861480712890625\n",
      "Perplexity: 537.08056640625\n",
      "Epoch: 0 Loss: 6.2472686767578125\n",
      "Perplexity: 516.5999145507812\n",
      "Epoch: 0 Loss: 6.043970108032227\n",
      "Perplexity: 421.5633544921875\n",
      "Epoch: 0 Loss: 5.690703868865967\n",
      "Perplexity: 296.1019592285156\n",
      "Epoch: 0 Loss: 6.390072822570801\n",
      "Perplexity: 595.8999633789062\n",
      "Epoch: 0 Loss: 6.142025470733643\n",
      "Perplexity: 464.99444580078125\n",
      "Epoch: 0 Loss: 5.9864115715026855\n",
      "Perplexity: 397.9839172363281\n",
      "Epoch: 0 Loss: 5.961642265319824\n",
      "Perplexity: 388.2472229003906\n",
      "Epoch: 1 Loss: 6.064720153808594\n",
      "Perplexity: 430.4022216796875\n",
      "Epoch: 1 Loss: 6.046371936798096\n",
      "Perplexity: 422.5771179199219\n",
      "Epoch: 1 Loss: 5.882079601287842\n",
      "Perplexity: 358.5541076660156\n",
      "Epoch: 1 Loss: 5.867006301879883\n",
      "Perplexity: 353.1900634765625\n",
      "Epoch: 1 Loss: 5.981062889099121\n",
      "Perplexity: 395.86090087890625\n",
      "Epoch: 1 Loss: 6.115588188171387\n",
      "Perplexity: 452.8623352050781\n",
      "Epoch: 1 Loss: 5.516668796539307\n",
      "Perplexity: 248.80484008789062\n",
      "Epoch: 1 Loss: 6.217790126800537\n",
      "Perplexity: 501.5935363769531\n",
      "Epoch: 1 Loss: 5.956186294555664\n",
      "Perplexity: 386.13470458984375\n",
      "Epoch: 1 Loss: 6.059089183807373\n",
      "Perplexity: 427.9854431152344\n",
      "Epoch: 1 Loss: 5.734532356262207\n",
      "Perplexity: 309.3682556152344\n",
      "Epoch: 1 Loss: 6.331051349639893\n",
      "Perplexity: 561.7468872070312\n",
      "Epoch: 1 Loss: 5.941473007202148\n",
      "Perplexity: 380.4949951171875\n",
      "Epoch: 1 Loss: 5.834024429321289\n",
      "Perplexity: 341.7311706542969\n",
      "Epoch: 1 Loss: 5.89973783493042\n",
      "Perplexity: 364.9417724609375\n",
      "Epoch: 1 Loss: 5.642856121063232\n",
      "Perplexity: 282.26776123046875\n",
      "Epoch: 1 Loss: 5.573343753814697\n",
      "Perplexity: 263.3130798339844\n",
      "Epoch: 1 Loss: 5.916705131530762\n",
      "Perplexity: 371.1866760253906\n",
      "Epoch: 1 Loss: 5.7008209228515625\n",
      "Perplexity: 299.11285400390625\n",
      "Epoch: 1 Loss: 5.972858428955078\n",
      "Perplexity: 392.6263732910156\n",
      "Epoch: 1 Loss: 5.437384128570557\n",
      "Perplexity: 229.8401641845703\n",
      "Epoch: 1 Loss: 5.890156269073486\n",
      "Perplexity: 361.4617614746094\n",
      "Epoch: 1 Loss: 5.746495723724365\n",
      "Perplexity: 313.0915832519531\n",
      "Epoch: 1 Loss: 5.72213077545166\n",
      "Perplexity: 305.5552978515625\n",
      "Epoch: 1 Loss: 5.541245937347412\n",
      "Perplexity: 254.99551391601562\n",
      "Epoch: 1 Loss: 5.628644943237305\n",
      "Perplexity: 278.2847595214844\n",
      "Epoch: 1 Loss: 5.5424394607543945\n",
      "Perplexity: 255.30003356933594\n",
      "Epoch: 1 Loss: 5.963669300079346\n",
      "Perplexity: 389.0350036621094\n",
      "Epoch: 1 Loss: 5.949251174926758\n",
      "Perplexity: 383.4660949707031\n",
      "Epoch: 1 Loss: 5.871126174926758\n",
      "Perplexity: 354.6481628417969\n",
      "Epoch: 1 Loss: 5.71472692489624\n",
      "Perplexity: 303.3013610839844\n",
      "Epoch: 1 Loss: 5.81384801864624\n",
      "Perplexity: 334.9053649902344\n",
      "Epoch: 1 Loss: 5.313412666320801\n",
      "Perplexity: 203.04196166992188\n",
      "Epoch: 1 Loss: 5.821298122406006\n",
      "Perplexity: 337.4097595214844\n",
      "Epoch: 1 Loss: 5.579717636108398\n",
      "Perplexity: 264.99676513671875\n",
      "Epoch: 1 Loss: 5.621819019317627\n",
      "Perplexity: 276.3916931152344\n",
      "Epoch: 1 Loss: 5.93540096282959\n",
      "Perplexity: 378.1916198730469\n",
      "Epoch: 1 Loss: 5.494629859924316\n",
      "Perplexity: 243.3814239501953\n",
      "Epoch: 1 Loss: 5.592501163482666\n",
      "Perplexity: 268.4060974121094\n",
      "Epoch: 1 Loss: 5.6062211990356445\n",
      "Perplexity: 272.114013671875\n",
      "Epoch: 1 Loss: 5.927009105682373\n",
      "Perplexity: 375.0311584472656\n",
      "Epoch: 1 Loss: 5.647033214569092\n",
      "Perplexity: 283.44927978515625\n",
      "Epoch: 1 Loss: 5.043956279754639\n",
      "Perplexity: 155.0823516845703\n",
      "Epoch: 1 Loss: 5.8379225730896\n",
      "Perplexity: 343.06591796875\n",
      "Epoch: 1 Loss: 5.609014511108398\n",
      "Perplexity: 272.87518310546875\n",
      "Epoch: 1 Loss: 5.686162948608398\n",
      "Perplexity: 294.76043701171875\n",
      "Epoch: 1 Loss: 6.004825592041016\n",
      "Perplexity: 405.3802795410156\n",
      "Epoch: 1 Loss: 5.899874687194824\n",
      "Perplexity: 364.9917297363281\n",
      "Epoch: 1 Loss: 5.709371089935303\n",
      "Perplexity: 301.6812744140625\n",
      "Epoch: 1 Loss: 5.755941867828369\n",
      "Perplexity: 316.0631103515625\n",
      "Epoch: 1 Loss: 5.590786457061768\n",
      "Perplexity: 267.9462585449219\n",
      "Epoch: 1 Loss: 5.812775611877441\n",
      "Perplexity: 334.5464172363281\n",
      "Epoch: 1 Loss: 5.408383846282959\n",
      "Perplexity: 223.2704620361328\n",
      "Epoch: 1 Loss: 5.799381732940674\n",
      "Perplexity: 330.09539794921875\n",
      "Epoch: 1 Loss: 5.340123653411865\n",
      "Perplexity: 208.5384979248047\n",
      "Epoch: 1 Loss: 5.813201904296875\n",
      "Perplexity: 334.6890563964844\n",
      "Epoch: 1 Loss: 5.817975044250488\n",
      "Perplexity: 336.2903747558594\n",
      "Epoch: 1 Loss: 5.505659103393555\n",
      "Perplexity: 246.08059692382812\n",
      "Epoch: 1 Loss: 5.635907173156738\n",
      "Perplexity: 280.3130798339844\n",
      "Epoch: 1 Loss: 5.597011566162109\n",
      "Perplexity: 269.6194763183594\n",
      "Epoch: 1 Loss: 5.863168239593506\n",
      "Perplexity: 351.83709716796875\n",
      "Epoch: 1 Loss: 5.886566162109375\n",
      "Perplexity: 360.1664123535156\n",
      "Epoch: 1 Loss: 5.688754558563232\n",
      "Perplexity: 295.52532958984375\n",
      "Epoch: 1 Loss: 5.30450439453125\n",
      "Perplexity: 201.24124145507812\n",
      "Epoch: 1 Loss: 5.887299537658691\n",
      "Perplexity: 360.4306335449219\n",
      "Epoch: 1 Loss: 5.799041271209717\n",
      "Perplexity: 329.9830322265625\n",
      "Epoch: 1 Loss: 5.581408500671387\n",
      "Perplexity: 265.4452209472656\n",
      "Epoch: 1 Loss: 5.549006938934326\n",
      "Perplexity: 256.98223876953125\n"
     ]
    }
   ],
   "source": [
    "model_fixed_window = train_fixed_window(3)"
   ]
  },
  {
   "cell_type": "markdown",
   "metadata": {},
   "source": [
    "#### Performance goal\n",
    "\n",
    "Your submitted notebook must contain output demonstrating a validation perplexity of **at most 360** after training for two epochs with the default parameters.\n",
    "\n",
    "⚠️ Computing the validation perplexity in one go (for the full validation set) will most probably exhaust your computer’s memory and/or take a lot of time. Instead, do the computation at the minibatch level and aggregate the results."
   ]
  },
  {
   "cell_type": "code",
   "execution_count": 36,
   "metadata": {},
   "outputs": [
    {
     "name": "stdout",
     "output_type": "stream",
     "text": [
      "Perplexity: 320.72088623046875\n"
     ]
    }
   ],
   "source": [
    "# Test the model by computing the perplexity on the validation set\n",
    "def perplexity(model, vectorizer, data, batch_size=3072):\n",
    "    # Save memory by not storing gradients\n",
    "    with torch.no_grad():\n",
    "        model.train(mode=False)\n",
    "        loss_fn = nn.CrossEntropyLoss()\n",
    "        nlls = []\n",
    "        for i in range(0, len(data)-model.n+1, batch_size):\n",
    "            x, y = vectorizer(data[i:i+batch_size])\n",
    "            y_pred = model(x)\n",
    "            nlls.append(loss_fn(y_pred, y))\n",
    "        return torch.exp(torch.stack(nlls).mean()).item()\n",
    "\n",
    "print('Perplexity:', perplexity(model_fixed_window, vectorizer, wikitext.valid))"
   ]
  },
  {
   "cell_type": "markdown",
   "metadata": {},
   "source": [
    "#### 🤞 Test your code\n",
    "\n",
    "To see whether your network is learning something, print or plot the loss and/or the perplexity on the training data. If the two values do not decrease during training, try to find the problem before wasting time (and electricity) on useless computation.\n",
    "\n",
    "Training and even evaluation will take some time – on a CPU, you should expect several minutes per epoch, depending on hardware. Our reference implementation uses a GPU and runs in 45&nbsp;seconds on a MacBook Pro (2023)."
   ]
  },
  {
   "cell_type": "markdown",
   "metadata": {},
   "source": [
    "## Problem 2: Recurrent neural network model"
   ]
  },
  {
   "cell_type": "markdown",
   "metadata": {},
   "source": [
    "In this section, you will implement the recurrent neural network language model. Recall that an input to this model is a vector of word ids. Each integer is mapped to an embedding vector. The sequence of embedded vectors is then fed into an unrolled LSTM. At each position $i$ in the sequence, the hidden state of the LSTM at that position is sent through a linear transformation into a final softmax layer representing the probability distribution over the words at position $i+1$. In theory, the input vector could represent the complete training data; for practical reasons, however, we will truncate the input to some fixed value *bptt_len*. This length is called the **backpropagation-through-time horizon**."
   ]
  },
  {
   "cell_type": "markdown",
   "metadata": {},
   "source": [
    "### Problem 2.1: Vectorise the data"
   ]
  },
  {
   "cell_type": "markdown",
   "metadata": {},
   "source": [
    "As in the previous problem, your first task is to transform the data in the WikiText container into a vectorised form that can be fed to the model."
   ]
  },
  {
   "cell_type": "code",
   "execution_count": 7,
   "metadata": {},
   "outputs": [],
   "source": [
    "class RNNVectorizer(object):\n",
    "    def __init__(self, bptt_len):\n",
    "        self.bptt_len = bptt_len\n",
    "\n",
    "    def __call__(self, data):\n",
    "        return torch.tensor([data[i:i+self.bptt_len] for i in range(0, len(data)-self.bptt_len-1, self.bptt_len)], device=device), torch.tensor([data[i+1:i+self.bptt_len+1] for i in range(0, len(data)-self.bptt_len-1, self.bptt_len)], device=device)\n",
    "        # return torch.tensor([data[i:i+self.bptt_len] for i in range(len(data)-self.bptt_len-1)], device=device), torch.tensor([data[i+1:i+self.bptt_len+1] for i in range(len(data)-self.bptt_len-1)], device=device)"
   ]
  },
  {
   "cell_type": "markdown",
   "metadata": {},
   "source": [
    "Your vectoriser should meet the following specification:\n",
    "\n",
    "**__init__** (*self*, *bptt_len*)\n",
    "\n",
    "> Creates a new vectoriser. The parameter *bptt_len* specifies the backpropagation-through-time horizon.\n",
    "\n",
    "**__call__** (*self*, *data*)\n",
    "\n",
    "> Transforms a list of token indexes *data* into a pair of tensors $\\mathbf{X}$, $\\mathbf{Y}$ that can be used to train the recurrent neural language model. The rows of both tensors represent contiguous subsequences of token indexes of length *bptt_len*. Compared to the sequences in $\\mathbf{X}$, the corresponding sequences in $\\mathbf{Y}$ are shifted one position to the right. More precisely, if the $i$ th row of $\\mathbf{X}$ is the sequence that starts at token position $j$, then the same row of $\\mathbf{Y}$ is the sequence that starts at position $j+1$."
   ]
  },
  {
   "cell_type": "markdown",
   "metadata": {},
   "source": [
    "#### 🤞 Test your code\n",
    "\n",
    "Test your implementation by running the following code:"
   ]
  },
  {
   "cell_type": "code",
   "execution_count": 8,
   "metadata": {},
   "outputs": [
    {
     "name": "stdout",
     "output_type": "stream",
     "text": [
      "torch.Size([6801, 32]) torch.Size([6801, 32])\n",
      "tensor([    0,     1, 32966, 32967,     1,     0,     0, 32966, 32967,    13,\n",
      "          406,    23,    17,  6253, 19902,   310,  1444, 19902,    13,    26,\n",
      "           27,  2576,    16,     9, 19902,   115,    17,  4929,  4121,  9611,\n",
      "           13,  4854])\n",
      "tensor([    1, 32966, 32967,     1,     0,     0, 32966, 32967,    13,   406,\n",
      "           23,    17,  6253, 19902,   310,  1444, 19902,    13,    26,    27,\n",
      "         2576,    16,     9, 19902,   115,    17,  4929,  4121,  9611,    13,\n",
      "         4854,  2429])\n"
     ]
    }
   ],
   "source": [
    "valid_x, valid_y = RNNVectorizer(32)(wikitext.valid)\n",
    "\n",
    "print(valid_x.size(), valid_y.size())\n",
    "\n",
    "print(valid_x[0])\n",
    "print(valid_y[0])\n",
    "\n",
    "assert(valid_x[0][-1] == valid_y[0][-2])"
   ]
  },
  {
   "cell_type": "markdown",
   "metadata": {},
   "source": [
    "### Problem 2.2: Implement the model"
   ]
  },
  {
   "cell_type": "markdown",
   "metadata": {},
   "source": [
    "Your next task is to implement the recurrent neural network model based on the graphical specification."
   ]
  },
  {
   "cell_type": "code",
   "execution_count": 9,
   "metadata": {},
   "outputs": [],
   "source": [
    "import torch.nn as nn\n",
    "\n",
    "class RNNModel(nn.Module):\n",
    "    \n",
    "    def __init__(self, n_words, embedding_dim=64, hidden_dim=64):\n",
    "        super().__init__()\n",
    "        self.n_words = n_words\n",
    "        self.embedding_dim = embedding_dim\n",
    "        self.hidden_dim = hidden_dim\n",
    "        self.embedding = nn.Embedding(n_words, embedding_dim)\n",
    "        self.lstm = nn.LSTM(embedding_dim, hidden_dim, batch_first=True)\n",
    "        self.fc = nn.Linear(hidden_dim, n_words)\n",
    "\n",
    "    def forward(self, x):\n",
    "        x = self.embedding(x)\n",
    "        x, _ = self.lstm(x)\n",
    "        return self.fc(x)"
   ]
  },
  {
   "cell_type": "markdown",
   "metadata": {},
   "source": [
    "Your implementation should follow this specification:\n",
    "\n",
    "**__init__** (*self*, *n_words*, *embedding_dim* = 64, *hidden_dim* = 64)\n",
    "\n",
    "> Creates a new recurrent neural network language model based on an LSTM. The argument *n_words* is the number of words in the vocabulary. The arguments *embedding_dim* and *hidden_dim* specify the dimensionalities of the embedding layer and the LSTM hidden layer, respectively; their default value is 64.\n",
    "\n",
    "**forward** (*self*, *x*)\n",
    "\n",
    "> Computes the network output on an input batch *x*. The shape of *x* is $(B, H)$, where $B$ is the batch size and $H$ is the length of each input sequence. The shape of the output tensor is $(B, H, V)$, where $V$ is the size of the vocabulary."
   ]
  },
  {
   "cell_type": "code",
   "execution_count": 10,
   "metadata": {},
   "outputs": [
    {
     "name": "stdout",
     "output_type": "stream",
     "text": [
      "RNNModel(\n",
      "  (embedding): Embedding(33278, 64)\n",
      "  (lstm): LSTM(64, 64, batch_first=True)\n",
      "  (fc): Linear(in_features=64, out_features=33278, bias=True)\n",
      ")\n",
      "Number of parameters: 4326142\n",
      "torch.Size([16, 32, 33278])\n"
     ]
    }
   ],
   "source": [
    "# Instantiate objects\n",
    "model = RNNModel(len(wikitext.word2idx)).to(device)\n",
    "vectorizer = RNNVectorizer(32)\n",
    "\n",
    "# Print model\n",
    "print(model)\n",
    "print('Number of parameters:', sum(p.numel() for p in model.parameters() if p.requires_grad))\n",
    "\n",
    "# Test the forward pass\n",
    "x, y = vectorizer(wikitext.valid)\n",
    "print(model(x[:16]).shape)"
   ]
  },
  {
   "cell_type": "markdown",
   "metadata": {},
   "source": [
    "#### 🤞 Test your code\n",
    "\n",
    "Test your code by instantiating the model and feeding it a batch of examples from the training data."
   ]
  },
  {
   "cell_type": "markdown",
   "metadata": {},
   "source": [
    "### Problem 2.3: Train the model"
   ]
  },
  {
   "cell_type": "markdown",
   "metadata": {},
   "source": [
    "The training loop for the recurrent neural network model is essentially identical to the loop that you wrote for the feed-forward model. The only thing to note is that the cross-entropy loss function expects its input to be a two-dimensional tensor; you will therefore have to re-shape the output tensor from the LSTM as well as the gold-standard output tensor in a suitable way. The most efficient way to do so is to use the [`view()`](https://pytorch.org/docs/stable/tensors.html#torch.Tensor.view) method."
   ]
  },
  {
   "cell_type": "code",
   "execution_count": 15,
   "metadata": {},
   "outputs": [],
   "source": [
    "def train_rnn(n_epochs=2, batch_size=3072, bptt_len=32, lr=1e-2):\n",
    "    # Initialization\n",
    "    model = RNNModel(len(wikitext.word2idx)).to(device)\n",
    "    vectorizer = RNNVectorizer(bptt_len)\n",
    "    optimizer = torch.optim.Adam(model.parameters(), lr=lr, weight_decay=1e-6)\n",
    "    loss_fn = nn.CrossEntropyLoss()\n",
    "\n",
    "    # Training loop\n",
    "    for epoch in range(n_epochs):\n",
    "        model.train()\n",
    "        x, y = vectorizer(wikitext.train)\n",
    "        for i in range(0, len(x), batch_size):\n",
    "            x_batch, y_batch = x[i:i+batch_size], y[i:i+batch_size]\n",
    "            y_pred = model(x_batch)\n",
    "            loss = loss_fn(y_pred.view(-1, len(wikitext.word2idx)), y_batch.view(-1))\n",
    "            optimizer.zero_grad()\n",
    "            loss.backward()\n",
    "            optimizer.step()\n",
    "            # Print loss and perplexity every 10 batches\n",
    "            if i % (10*batch_size) == 0:\n",
    "                print('Epoch:', epoch, 'Loss:', loss.item())\n",
    "                print('Perplexity:', torch.exp(loss).item())\n",
    "    \n",
    "    return model"
   ]
  },
  {
   "cell_type": "markdown",
   "metadata": {},
   "source": [
    "Here is the specification of the training function:\n",
    "\n",
    "**train_rnn** (*n_epochs* = 2, *batch_size* = 3072, *bptt_len* = 32, *lr* = 0.01)\n",
    "\n",
    "> Trains a recurrent neural network language model on the WikiText data using minibatch gradient descent and returns it. The parameters *n_epochs* and *batch_size* specify the number of training epochs and the minibatch size, respectively. The parameter *bptt_len* specifies the length of the backpropagation-through-time horizon, that is, the length of the input and output sequences. Training uses the cross-entropy loss function and the [Adam optimizer](https://pytorch.org/docs/stable/optim.html#torch.optim.Adam) with learning rate *lr*. After each epoch, prints the perplexity of the model on the validation data."
   ]
  },
  {
   "cell_type": "markdown",
   "metadata": {},
   "source": [
    "Evaluate your model by running the following code cell:"
   ]
  },
  {
   "cell_type": "code",
   "execution_count": 14,
   "metadata": {},
   "outputs": [
    {
     "name": "stdout",
     "output_type": "stream",
     "text": [
      "torch.Size([3072, 32])\n",
      "torch.Size([3072, 32])\n",
      "torch.Size([3072, 32])\n",
      "torch.Size([3072, 32])\n",
      "torch.Size([3072, 32])\n",
      "torch.Size([3072, 32])\n",
      "torch.Size([3072, 32])\n",
      "torch.Size([3072, 32])\n",
      "torch.Size([3072, 32])\n",
      "torch.Size([3072, 32])\n",
      "torch.Size([3072, 32])\n",
      "torch.Size([3072, 32])\n",
      "torch.Size([3072, 32])\n",
      "torch.Size([3072, 32])\n",
      "torch.Size([3072, 32])\n",
      "torch.Size([3072, 32])\n",
      "torch.Size([3072, 32])\n",
      "torch.Size([3072, 32])\n",
      "torch.Size([3072, 32])\n",
      "torch.Size([3072, 32])\n",
      "torch.Size([3072, 32])\n",
      "torch.Size([3072, 32])\n",
      "torch.Size([3072, 32])\n",
      "torch.Size([3072, 32])\n",
      "torch.Size([3072, 32])\n",
      "torch.Size([3072, 32])\n",
      "torch.Size([3072, 32])\n",
      "torch.Size([3072, 32])\n",
      "torch.Size([3072, 32])\n",
      "torch.Size([3072, 32])\n",
      "torch.Size([3072, 32])\n",
      "torch.Size([3072, 32])\n",
      "torch.Size([3072, 32])\n",
      "torch.Size([3072, 32])\n",
      "torch.Size([3072, 32])\n",
      "torch.Size([3072, 32])\n",
      "torch.Size([3072, 32])\n",
      "torch.Size([3072, 32])\n",
      "torch.Size([3072, 32])\n",
      "torch.Size([3072, 32])\n",
      "torch.Size([3072, 32])\n",
      "torch.Size([3072, 32])\n",
      "torch.Size([757, 32])\n",
      "torch.Size([757, 32])\n",
      "torch.Size([3072, 32])\n",
      "torch.Size([3072, 32])\n",
      "torch.Size([3072, 32])\n",
      "torch.Size([3072, 32])\n",
      "torch.Size([3072, 32])\n",
      "torch.Size([3072, 32])\n",
      "torch.Size([3072, 32])\n",
      "torch.Size([3072, 32])\n",
      "torch.Size([3072, 32])\n",
      "torch.Size([3072, 32])\n",
      "torch.Size([3072, 32])\n",
      "torch.Size([3072, 32])\n",
      "torch.Size([3072, 32])\n",
      "torch.Size([3072, 32])\n",
      "torch.Size([3072, 32])\n",
      "torch.Size([3072, 32])\n",
      "torch.Size([3072, 32])\n",
      "torch.Size([3072, 32])\n",
      "torch.Size([3072, 32])\n",
      "torch.Size([3072, 32])\n",
      "torch.Size([3072, 32])\n",
      "torch.Size([3072, 32])\n",
      "torch.Size([3072, 32])\n",
      "torch.Size([3072, 32])\n",
      "torch.Size([3072, 32])\n",
      "torch.Size([3072, 32])\n",
      "torch.Size([3072, 32])\n",
      "torch.Size([3072, 32])\n",
      "torch.Size([3072, 32])\n",
      "torch.Size([3072, 32])\n",
      "torch.Size([3072, 32])\n",
      "torch.Size([3072, 32])\n",
      "torch.Size([3072, 32])\n",
      "torch.Size([3072, 32])\n",
      "torch.Size([3072, 32])\n",
      "torch.Size([3072, 32])\n",
      "torch.Size([3072, 32])\n",
      "torch.Size([3072, 32])\n",
      "torch.Size([3072, 32])\n",
      "torch.Size([3072, 32])\n",
      "torch.Size([3072, 32])\n",
      "torch.Size([3072, 32])\n",
      "torch.Size([757, 32])\n",
      "torch.Size([757, 32])\n"
     ]
    }
   ],
   "source": [
    "model_rnn = train_rnn()"
   ]
  },
  {
   "cell_type": "markdown",
   "metadata": {},
   "source": [
    "#### Performance goal\n",
    "\n",
    "Your submitted notebook must contain output demonstrating a validation perplexity of **at most 280** after training for two epochs with the default hyperparameters."
   ]
  },
  {
   "cell_type": "code",
   "execution_count": 79,
   "metadata": {},
   "outputs": [
    {
     "data": {
      "text/plain": [
       "650.35107421875"
      ]
     },
     "execution_count": 79,
     "metadata": {},
     "output_type": "execute_result"
    }
   ],
   "source": [
    "# Test the model by computing the perplexity on the validation set\n",
    "def perplexity(model, vectorizer, data, batch_size=3072):\n",
    "    # Save memory by not storing gradients\n",
    "    with torch.no_grad():\n",
    "        model.train(mode=False)\n",
    "        loss_fn = nn.CrossEntropyLoss()\n",
    "        nlls = []\n",
    "        for i in range(0, len(data)-model.lstm.input_size-1, batch_size):\n",
    "            x, y = vectorizer(data[i:i+batch_size])\n",
    "            y_pred = model(x)\n",
    "            nlls.append(loss_fn(y_pred.view(-1, len(wikitext.word2idx)), y.view(-1)))\n",
    "        return torch.exp(torch.stack(nlls).mean()).item()\n",
    "\n",
    "perplexity(model_rnn, RNNVectorizer(32), wikitext.valid)"
   ]
  },
  {
   "cell_type": "markdown",
   "metadata": {},
   "source": [
    "## Problem 3: Transformer model (optional)"
   ]
  },
  {
   "cell_type": "markdown",
   "metadata": {},
   "source": [
    "If you are up for a challenge, try implementing a Transformer-based language model. The required vectoriser is identical to the vectoriser for the RNN model. For the model itself, you can use the Pytorch modules [`nn.TransformerEncoder`](https://pytorch.org/docs/stable/generated/torch.nn.TransformerEncoderLayer.html) and [`nn.TransformerEncoderLayer`](https://pytorch.org/docs/stable/generated/torch.nn.TransformerEncoderLayer.html).  To represent positional information, follow the approach from the original Transformer paper and use sine and cosine functions of different frequencies ([details](https://nlp.seas.harvard.edu/2018/04/03/attention.html#positional-encoding)), or learn position-specific embeddings. Can you get a lower perplexity than for the RNN model?"
   ]
  },
  {
   "cell_type": "markdown",
   "metadata": {},
   "source": [
    "## Problem 4: Generation"
   ]
  },
  {
   "cell_type": "markdown",
   "metadata": {},
   "source": [
    "In this section, you will implement a simple generation mechanism for the language models you have implemented.\n",
    "\n",
    "Recall that one way to generate text with a language model is to repeatedly sample from the model’s output distribution, conditioning on some context. More specifically, this involves treating the softmax-normalised logits of the model as a multinomial distribution. The “creativeness” of the generation can be controlled with the temperature parameter of the softmax distribution.\n",
    "\n",
    "To implement this recipe, we first ask you to extend each model with a `generate` method according to the following specification:\n",
    "\n",
    "**generate** (*self*, *context*, *n_tokens* = 10, *temperature* = 1.0)\n",
    "\n",
    "> Takes a batch of context tokens *context* and extends it by sampling *n_tokens* new tokens from the model’s output distribution, scaled with the temperature *temperature*. Returns the extended context.\n",
    "\n",
    "In a second stage, you should implement a convenience function `generate` that allows you to easily generate text with different models, like this:\n",
    "\n",
    "```\n",
    "generate(model_fixed_window, 'i like', max_tokens=10, temperature=1.5)\n",
    "```"
   ]
  },
  {
   "cell_type": "code",
   "execution_count": null,
   "metadata": {},
   "outputs": [],
   "source": [
    "def generate(model, context, max_tokens=3, temperature=1.0):\n",
    "    # TODO: Replace the next line with your own code\n",
    "    return context"
   ]
  },
  {
   "cell_type": "markdown",
   "metadata": {},
   "source": [
    "Here is the specification of the convenience function:\n",
    "\n",
    "**generate** (*model*, *context*, *max_tokens* = 10, *temperature* = 1.0)\n",
    "\n",
    "> Takes a context sentence *context*, tokenises and vectorises it, and passes it to the specified *model* to generate new text. The new text consists of at most *max_tokens*, but is cut off at the first `<eos>` token. Returns the generated text (including the context)."
   ]
  },
  {
   "cell_type": "markdown",
   "metadata": {},
   "source": [
    "## Problem 5: Parameter initialisation"
   ]
  },
  {
   "cell_type": "markdown",
   "metadata": {},
   "source": [
    "The error surfaces explored when training neural networks can be very complex. Because of this, it is important to choose “good” initial values for the parameters. In PyTorch, the weights of the embedding layer are initialised by sampling from the standard normal distribution $\\mathcal{N}(0, 1)$. Test how changing the initialisation affects the perplexity of your language models. Find research articles that propose different initialisation strategies.\n",
    "\n",
    "Write a short (150&nbsp;words) report about your experiments and literature search. Use the following prompts:\n",
    "\n",
    "* What different initialisation did you try? What results did you get?\n",
    "* How do your results compare to what was suggested by the research articles?\n",
    "* What did you learn? How, exactly, did you learn it? Why does this learning matter?"
   ]
  },
  {
   "cell_type": "markdown",
   "metadata": {},
   "source": [
    "*TODO: Enter your text here*"
   ]
  }
 ],
 "metadata": {
  "accelerator": "GPU",
  "colab": {
   "collapsed_sections": [],
   "name": "LM.ipynb",
   "provenance": [],
   "toc_visible": true
  },
  "kernelspec": {
   "display_name": "Python 3 (ipykernel)",
   "language": "python",
   "name": "python3"
  },
  "language_info": {
   "codemirror_mode": {
    "name": "ipython",
    "version": 3
   },
   "file_extension": ".py",
   "mimetype": "text/x-python",
   "name": "python",
   "nbconvert_exporter": "python",
   "pygments_lexer": "ipython3",
   "version": "3.11.7"
  }
 },
 "nbformat": 4,
 "nbformat_minor": 1
}
